{
 "cells": [
  {
   "cell_type": "markdown",
   "id": "boxed-jamaica",
   "metadata": {},
   "source": [
    "# 안녕하세요^^ \n",
    "## AIVLE 미니프로젝트 '서울시 생활정보 기반 대중교통 수요 분석 ' 과정에 오신 여러분을 환영합니다.\n",
    "* 본 과정에서는 실제 사례와 데이터를 기반으로 문제를 해결하는 전체 과정을 자기 주도형 실습으로 진행해볼 예정입니다.\n",
    "* 앞선 교육과정을 정리하는 마음과 지금까지 배운 내용을 바탕으로 문제 해결을 해볼게요!\n",
    "* 미니 프로젝트를 통한 문제 해결 과정 'A에서 Z까지', 지금부터 시작합니다!\n",
    "\n",
    "## 개인과제\n",
    "* 데이터 구조, 분포 확인, 전처리 : 1.1_버스정류장데이터 / 1.2 유동인구데이터 / 1.3_주민등록데이터 / 1.4_업종등록데이터\n",
    "* 데이터간 관계 가설 수립 및 검증 : 1.5_데이터 분석"
   ]
  },
  {
   "cell_type": "markdown",
   "id": "f2bc4fa5",
   "metadata": {},
   "source": [
    "# 데이터 분석부터 먼저 시작해보겠습니다.\n",
    "### \"구별 등록인구 데이터\" 를 확인해 보도록 하겠습니다"
   ]
  },
  {
   "cell_type": "code",
   "execution_count": 1,
   "id": "4c6ced42",
   "metadata": {},
   "outputs": [],
   "source": [
    "# 필요 라이브러리부터 설치합니다.\n",
    "#%pip install pandas seaborn"
   ]
  },
  {
   "cell_type": "markdown",
   "id": "revolutionary-farmer",
   "metadata": {},
   "source": [
    "## 기본전제\n",
    "* 처음에 제공되는 데이터는 'raw_data' 폴더에 있습니다.\n",
    "\n",
    "[기본 데이터]\n",
    "* 1.3 seoul_people.csv\n",
    "\n",
    "[데이터 소개]\n",
    "* 서울 시 주민 등록 데이터\n",
    "\n",
    "[변수 소개]\n",
    "* 한국인 / 등록 외국인 / 합계 / 세대수 / 고령인구수"
   ]
  },
  {
   "cell_type": "markdown",
   "id": "warming-gentleman",
   "metadata": {},
   "source": [
    "# 1.데이터 불러오기\n",
    "### 모든 미니 프로젝트의 시작은 '데이터 불러오기' 부터라고 할 수 있습니다.\n",
    "+ KeyPoint : 불러오고자 하는 데이터에 따라 자유롭게 변수로 지정할 수 있다."
   ]
  },
  {
   "cell_type": "markdown",
   "id": "measured-administration",
   "metadata": {},
   "source": [
    "###  데이터 프레임을 불러오고 변수로 저장(여기서는 CSV 기준으로 진행)\n",
    "* csv : pd.read_csv(\"파일이름. csv\")\n",
    "* txt : pd.read_csv(\"파일이름. csv\", sep=\"구분자\")\n",
    "* xlsx : pd.read_excel('파일이름.xlsx')\n",
    "* pickle : pd.read_pickle(\"파일이름.pkl\") <br>\n",
    " [참고] pickle은 파이썬의 모든 객체를 파일로 저장할 수 있는 방법으로 DataFrame,List,Dict 등 모든 객체 저장 가능(특히 sklearn라이브러리를 통해 모델을 학습시키고, 저장할 때 많이 사용)"
   ]
  },
  {
   "cell_type": "markdown",
   "id": "vocational-animal",
   "metadata": {},
   "source": [
    "#### [실습문제1] 데이터 로딩\n",
    "* '1.3 seoul_people.csv'파일을 'seoul_people' 변수에 저장하고 그 Shape을 확인하세요.\n",
    "    * 데이터 파일 로딩시 참고 사항 \n",
    "        * 구분자(sep)는 '\\t' 입니다\n",
    "        * cp949 인코더를 사용해 주세요"
   ]
  },
  {
   "cell_type": "code",
   "execution_count": 40,
   "id": "1564e4fd",
   "metadata": {},
   "outputs": [
    {
     "data": {
      "text/html": [
       "<div>\n",
       "<style scoped>\n",
       "    .dataframe tbody tr th:only-of-type {\n",
       "        vertical-align: middle;\n",
       "    }\n",
       "\n",
       "    .dataframe tbody tr th {\n",
       "        vertical-align: top;\n",
       "    }\n",
       "\n",
       "    .dataframe thead th {\n",
       "        text-align: right;\n",
       "    }\n",
       "</style>\n",
       "<table border=\"1\" class=\"dataframe\">\n",
       "  <thead>\n",
       "    <tr style=\"text-align: right;\">\n",
       "      <th></th>\n",
       "      <th>기간</th>\n",
       "      <th>자치구</th>\n",
       "      <th>세대</th>\n",
       "      <th>인구</th>\n",
       "      <th>인구.1</th>\n",
       "      <th>인구.2</th>\n",
       "      <th>인구.3</th>\n",
       "      <th>인구.4</th>\n",
       "      <th>인구.5</th>\n",
       "      <th>인구.6</th>\n",
       "      <th>인구.7</th>\n",
       "      <th>인구.8</th>\n",
       "      <th>세대당인구</th>\n",
       "      <th>65세이상고령자</th>\n",
       "    </tr>\n",
       "  </thead>\n",
       "  <tbody>\n",
       "    <tr>\n",
       "      <th>3</th>\n",
       "      <td>2022.1/4</td>\n",
       "      <td>종로구</td>\n",
       "      <td>73766</td>\n",
       "      <td>153684</td>\n",
       "      <td>74018</td>\n",
       "      <td>79666</td>\n",
       "      <td>144275</td>\n",
       "      <td>69911</td>\n",
       "      <td>74364</td>\n",
       "      <td>9409</td>\n",
       "      <td>4107</td>\n",
       "      <td>5302</td>\n",
       "      <td>1.96</td>\n",
       "      <td>28064</td>\n",
       "    </tr>\n",
       "    <tr>\n",
       "      <th>4</th>\n",
       "      <td>2022.1/4</td>\n",
       "      <td>중구</td>\n",
       "      <td>63767</td>\n",
       "      <td>131450</td>\n",
       "      <td>63869</td>\n",
       "      <td>67581</td>\n",
       "      <td>122173</td>\n",
       "      <td>59448</td>\n",
       "      <td>62725</td>\n",
       "      <td>9277</td>\n",
       "      <td>4421</td>\n",
       "      <td>4856</td>\n",
       "      <td>1.92</td>\n",
       "      <td>24742</td>\n",
       "    </tr>\n",
       "  </tbody>\n",
       "</table>\n",
       "</div>"
      ],
      "text/plain": [
       "         기간  자치구     세대      인구   인구.1   인구.2    인구.3   인구.4   인구.5  인구.6  \\\n",
       "3  2022.1/4  종로구  73766  153684  74018  79666  144275  69911  74364  9409   \n",
       "4  2022.1/4   중구  63767  131450  63869  67581  122173  59448  62725  9277   \n",
       "\n",
       "   인구.7  인구.8 세대당인구 65세이상고령자  \n",
       "3  4107  5302  1.96    28064  \n",
       "4  4421  4856  1.92    24742  "
      ]
     },
     "execution_count": 40,
     "metadata": {},
     "output_type": "execute_result"
    }
   ],
   "source": [
    "import pandas as pd\n",
    "raw_data = pd.read_csv('./1.3 seoul_people.csv',encoding='cp949',sep='\\t')\n",
    "raw_data.shape\n",
    "seoul_people = raw_data[3:]\n",
    "change = {'인구':'인구합계','인구.1':'남자합계','인구.2':'여자합계',\n",
    "          '인구.3':'한국인계','인구.4':'한국인남자','인구.5':'한국인여자',\n",
    "          '인구.6':'등록외국인계','인구.7':'등록외국인남자','인구.8':'등록외국인여자'}\n",
    "seoul_people.head(2)"
   ]
  },
  {
   "cell_type": "code",
   "execution_count": 41,
   "id": "dcdca534",
   "metadata": {},
   "outputs": [
    {
     "name": "stderr",
     "output_type": "stream",
     "text": [
      "c:\\Users\\User\\anaconda3\\envs\\jpytorch\\lib\\site-packages\\pandas\\core\\frame.py:5047: SettingWithCopyWarning: \n",
      "A value is trying to be set on a copy of a slice from a DataFrame\n",
      "\n",
      "See the caveats in the documentation: https://pandas.pydata.org/pandas-docs/stable/user_guide/indexing.html#returning-a-view-versus-a-copy\n",
      "  errors=errors,\n"
     ]
    }
   ],
   "source": [
    "seoul_people.rename(columns=change,inplace=True)"
   ]
  },
  {
   "cell_type": "code",
   "execution_count": 42,
   "id": "0c3096cb",
   "metadata": {},
   "outputs": [
    {
     "data": {
      "text/html": [
       "<div>\n",
       "<style scoped>\n",
       "    .dataframe tbody tr th:only-of-type {\n",
       "        vertical-align: middle;\n",
       "    }\n",
       "\n",
       "    .dataframe tbody tr th {\n",
       "        vertical-align: top;\n",
       "    }\n",
       "\n",
       "    .dataframe thead th {\n",
       "        text-align: right;\n",
       "    }\n",
       "</style>\n",
       "<table border=\"1\" class=\"dataframe\">\n",
       "  <thead>\n",
       "    <tr style=\"text-align: right;\">\n",
       "      <th></th>\n",
       "      <th>기간</th>\n",
       "      <th>자치구</th>\n",
       "      <th>세대</th>\n",
       "      <th>인구합계</th>\n",
       "      <th>남자합계</th>\n",
       "      <th>여자합계</th>\n",
       "      <th>한국인계</th>\n",
       "      <th>한국인남자</th>\n",
       "      <th>한국인여자</th>\n",
       "      <th>등록외국인계</th>\n",
       "      <th>등록외국인남자</th>\n",
       "      <th>등록외국인여자</th>\n",
       "      <th>세대당인구</th>\n",
       "      <th>65세이상고령자</th>\n",
       "    </tr>\n",
       "  </thead>\n",
       "  <tbody>\n",
       "    <tr>\n",
       "      <th>3</th>\n",
       "      <td>2022.1/4</td>\n",
       "      <td>종로구</td>\n",
       "      <td>73766</td>\n",
       "      <td>153684</td>\n",
       "      <td>74018</td>\n",
       "      <td>79666</td>\n",
       "      <td>144275</td>\n",
       "      <td>69911</td>\n",
       "      <td>74364</td>\n",
       "      <td>9409</td>\n",
       "      <td>4107</td>\n",
       "      <td>5302</td>\n",
       "      <td>1.96</td>\n",
       "      <td>28064</td>\n",
       "    </tr>\n",
       "    <tr>\n",
       "      <th>4</th>\n",
       "      <td>2022.1/4</td>\n",
       "      <td>중구</td>\n",
       "      <td>63767</td>\n",
       "      <td>131450</td>\n",
       "      <td>63869</td>\n",
       "      <td>67581</td>\n",
       "      <td>122173</td>\n",
       "      <td>59448</td>\n",
       "      <td>62725</td>\n",
       "      <td>9277</td>\n",
       "      <td>4421</td>\n",
       "      <td>4856</td>\n",
       "      <td>1.92</td>\n",
       "      <td>24742</td>\n",
       "    </tr>\n",
       "  </tbody>\n",
       "</table>\n",
       "</div>"
      ],
      "text/plain": [
       "         기간  자치구     세대    인구합계   남자합계   여자합계    한국인계  한국인남자  한국인여자 등록외국인계  \\\n",
       "3  2022.1/4  종로구  73766  153684  74018  79666  144275  69911  74364   9409   \n",
       "4  2022.1/4   중구  63767  131450  63869  67581  122173  59448  62725   9277   \n",
       "\n",
       "  등록외국인남자 등록외국인여자 세대당인구 65세이상고령자  \n",
       "3    4107    5302  1.96    28064  \n",
       "4    4421    4856  1.92    24742  "
      ]
     },
     "execution_count": 42,
     "metadata": {},
     "output_type": "execute_result"
    }
   ],
   "source": [
    "seoul_people.head(2)"
   ]
  },
  {
   "cell_type": "markdown",
   "id": "annoying-trout",
   "metadata": {},
   "source": [
    "# 2.기본 정보 확인 및 클렌징\n",
    "\n",
    "+ 데이터 클렌징 : 결측치, 이상치 등을 제거하여 데이터 분석 결과가 왜곡 되는 문제를 방지하기 위한 정제 과정"
   ]
  },
  {
   "cell_type": "markdown",
   "id": "romantic-johnson",
   "metadata": {},
   "source": [
    "#### [실습문제2] 기본 정보 확인하기\n",
    "* 'seoul_people' 데이터의 정보를 확인해보세요.\n",
    "* 'describe', 'info', 'head' 등 전부 활용해 보겠습니다."
   ]
  },
  {
   "cell_type": "code",
   "execution_count": 43,
   "id": "demographic-battery",
   "metadata": {},
   "outputs": [
    {
     "data": {
      "text/html": [
       "<div>\n",
       "<style scoped>\n",
       "    .dataframe tbody tr th:only-of-type {\n",
       "        vertical-align: middle;\n",
       "    }\n",
       "\n",
       "    .dataframe tbody tr th {\n",
       "        vertical-align: top;\n",
       "    }\n",
       "\n",
       "    .dataframe thead th {\n",
       "        text-align: right;\n",
       "    }\n",
       "</style>\n",
       "<table border=\"1\" class=\"dataframe\">\n",
       "  <thead>\n",
       "    <tr style=\"text-align: right;\">\n",
       "      <th></th>\n",
       "      <th>기간</th>\n",
       "      <th>자치구</th>\n",
       "      <th>세대</th>\n",
       "      <th>인구합계</th>\n",
       "      <th>남자합계</th>\n",
       "      <th>여자합계</th>\n",
       "      <th>한국인계</th>\n",
       "      <th>한국인남자</th>\n",
       "      <th>한국인여자</th>\n",
       "      <th>등록외국인계</th>\n",
       "      <th>등록외국인남자</th>\n",
       "      <th>등록외국인여자</th>\n",
       "      <th>세대당인구</th>\n",
       "      <th>65세이상고령자</th>\n",
       "    </tr>\n",
       "  </thead>\n",
       "  <tbody>\n",
       "    <tr>\n",
       "      <th>count</th>\n",
       "      <td>25</td>\n",
       "      <td>25</td>\n",
       "      <td>25</td>\n",
       "      <td>25</td>\n",
       "      <td>25</td>\n",
       "      <td>25</td>\n",
       "      <td>25</td>\n",
       "      <td>25</td>\n",
       "      <td>25</td>\n",
       "      <td>25</td>\n",
       "      <td>25</td>\n",
       "      <td>25</td>\n",
       "      <td>25</td>\n",
       "      <td>25</td>\n",
       "    </tr>\n",
       "    <tr>\n",
       "      <th>unique</th>\n",
       "      <td>1</td>\n",
       "      <td>25</td>\n",
       "      <td>25</td>\n",
       "      <td>25</td>\n",
       "      <td>25</td>\n",
       "      <td>25</td>\n",
       "      <td>25</td>\n",
       "      <td>25</td>\n",
       "      <td>25</td>\n",
       "      <td>25</td>\n",
       "      <td>25</td>\n",
       "      <td>25</td>\n",
       "      <td>22</td>\n",
       "      <td>25</td>\n",
       "    </tr>\n",
       "    <tr>\n",
       "      <th>top</th>\n",
       "      <td>2022.1/4</td>\n",
       "      <td>종로구</td>\n",
       "      <td>73766</td>\n",
       "      <td>153684</td>\n",
       "      <td>74018</td>\n",
       "      <td>79666</td>\n",
       "      <td>144275</td>\n",
       "      <td>69911</td>\n",
       "      <td>74364</td>\n",
       "      <td>9409</td>\n",
       "      <td>4107</td>\n",
       "      <td>5302</td>\n",
       "      <td>2</td>\n",
       "      <td>28064</td>\n",
       "    </tr>\n",
       "    <tr>\n",
       "      <th>freq</th>\n",
       "      <td>25</td>\n",
       "      <td>1</td>\n",
       "      <td>1</td>\n",
       "      <td>1</td>\n",
       "      <td>1</td>\n",
       "      <td>1</td>\n",
       "      <td>1</td>\n",
       "      <td>1</td>\n",
       "      <td>1</td>\n",
       "      <td>1</td>\n",
       "      <td>1</td>\n",
       "      <td>1</td>\n",
       "      <td>2</td>\n",
       "      <td>1</td>\n",
       "    </tr>\n",
       "  </tbody>\n",
       "</table>\n",
       "</div>"
      ],
      "text/plain": [
       "              기간  자치구     세대    인구합계   남자합계   여자합계    한국인계  한국인남자  한국인여자  \\\n",
       "count         25   25     25      25     25     25      25     25     25   \n",
       "unique         1   25     25      25     25     25      25     25     25   \n",
       "top     2022.1/4  종로구  73766  153684  74018  79666  144275  69911  74364   \n",
       "freq          25    1      1       1      1      1       1      1      1   \n",
       "\n",
       "       등록외국인계 등록외국인남자 등록외국인여자 세대당인구 65세이상고령자  \n",
       "count      25      25      25    25       25  \n",
       "unique     25      25      25    22       25  \n",
       "top      9409    4107    5302     2    28064  \n",
       "freq        1       1       1     2        1  "
      ]
     },
     "execution_count": 43,
     "metadata": {},
     "output_type": "execute_result"
    }
   ],
   "source": [
    "# 아래에 실습코드를 작성하고 결과를 확인합니다.\n",
    "seoul_people.describe()"
   ]
  },
  {
   "cell_type": "code",
   "execution_count": 44,
   "id": "940a114a",
   "metadata": {},
   "outputs": [
    {
     "name": "stdout",
     "output_type": "stream",
     "text": [
      "<class 'pandas.core.frame.DataFrame'>\n",
      "RangeIndex: 25 entries, 3 to 27\n",
      "Data columns (total 14 columns):\n",
      " #   Column    Non-Null Count  Dtype \n",
      "---  ------    --------------  ----- \n",
      " 0   기간        25 non-null     object\n",
      " 1   자치구       25 non-null     object\n",
      " 2   세대        25 non-null     object\n",
      " 3   인구합계      25 non-null     object\n",
      " 4   남자합계      25 non-null     object\n",
      " 5   여자합계      25 non-null     object\n",
      " 6   한국인계      25 non-null     object\n",
      " 7   한국인남자     25 non-null     object\n",
      " 8   한국인여자     25 non-null     object\n",
      " 9   등록외국인계    25 non-null     object\n",
      " 10  등록외국인남자   25 non-null     object\n",
      " 11  등록외국인여자   25 non-null     object\n",
      " 12  세대당인구     25 non-null     object\n",
      " 13  65세이상고령자  25 non-null     object\n",
      "dtypes: object(14)\n",
      "memory usage: 2.9+ KB\n"
     ]
    }
   ],
   "source": [
    "# 아래에 실습코드를 작성하고 결과를 확인합니다.\n",
    "seoul_people.info()"
   ]
  },
  {
   "cell_type": "markdown",
   "id": "003322b3",
   "metadata": {},
   "source": [
    "#### [실습문제3] 데이터 확인 및 처리\n",
    "\n",
    "* head 와 tail 을 보고, 어느 데이터만 가져와야 할지 생각 해 봅시다."
   ]
  },
  {
   "cell_type": "code",
   "execution_count": 39,
   "id": "28c91276",
   "metadata": {},
   "outputs": [],
   "source": [
    "# 아래에 실습코드를 작성하고 결과를 확인합니다.\n",
    "#seoul_people = seoul_people[3:]"
   ]
  },
  {
   "cell_type": "code",
   "execution_count": 22,
   "id": "be9c1d4a",
   "metadata": {},
   "outputs": [],
   "source": [
    "# 해당 데이터프레임을 'df_seoul_people.csv' 파일로 저장하세요.\n",
    "seoul_people.to_csv('./df_seoul_people.csv')"
   ]
  },
  {
   "cell_type": "markdown",
   "id": "southeast-integration",
   "metadata": {},
   "source": [
    "# 3.데이터 분석하기\n",
    "+ KeyPoint : 데이터의 형태를 살펴보고 다양한 분석기법을 통해 모델링에 적합하도록 정제요소를 선별할 수 있다.\n",
    "  * 데이터들의 패턴 탐색\n",
    "  * 변수들간의 관계 파악"
   ]
  },
  {
   "cell_type": "code",
   "execution_count": 23,
   "id": "194ae01d",
   "metadata": {},
   "outputs": [],
   "source": [
    "import seaborn as sns\n",
    "import matplotlib.pyplot as plt\n",
    "\n",
    "# 시각화 한글폰트 설정\n",
    "# 맑은 고딕\n",
    "\n",
    "plt.rc('font', family='Malgun Gothic')\n",
    "sns.set(font=\"Malgun Gothic\",#\"NanumGothicCoding\", \n",
    "        rc={\"axes.unicode_minus\":False}, # 마이너스 부호 깨짐 현상 해결\n",
    "        style='darkgrid')\n",
    "\n",
    "# scipy\n",
    "import scipy.stats as spst"
   ]
  },
  {
   "cell_type": "markdown",
   "id": "material-complex",
   "metadata": {},
   "source": [
    "#### [실습문제4] 데이터 분포 알아보기\n",
    "* 다양한 변수를 기준으로 그래프를 그려보고 인사이트를 도출해보세요."
   ]
  },
  {
   "cell_type": "code",
   "execution_count": 24,
   "id": "acffc469",
   "metadata": {},
   "outputs": [
    {
     "data": {
      "image/png": "[encoded data removed]",
      "text/plain": [
       "<Figure size 640x480 with 1 Axes>"
      ]
     },
     "metadata": {},
     "output_type": "display_data"
    }
   ],
   "source": [
    "# 아래에 실습코드를 작성하고 결과를 확인합니다.\n",
    "sns.scatterplot(x='세대당인구',y='65세이상고령자',data=seoul_people)\n",
    "plt.show()"
   ]
  },
  {
   "cell_type": "code",
   "execution_count": null,
   "id": "7aefe714",
   "metadata": {},
   "outputs": [],
   "source": [
    "# 아래에 실습코드를 작성하고 결과를 확인합니다.\n"
   ]
  },
  {
   "cell_type": "code",
   "execution_count": null,
   "id": "86892a60",
   "metadata": {},
   "outputs": [],
   "source": [
    "# 위 차트를 통해 알게된 사실을 정리해봅시다.\n",
    "# 1. \n",
    "# 2.\n",
    "# 3."
   ]
  },
  {
   "cell_type": "markdown",
   "id": "450fcfaa",
   "metadata": {},
   "source": [
    "---"
   ]
  }
 ],
 "metadata": {
  "kernelspec": {
   "display_name": "jpytorch",
   "language": "python",
   "name": "python3"
  },
  "language_info": {
   "codemirror_mode": {
    "name": "ipython",
    "version": 3
   },
   "file_extension": ".py",
   "mimetype": "text/x-python",
   "name": "python",
   "nbconvert_exporter": "python",
   "pygments_lexer": "ipython3",
   "version": "3.7.15"
  },
  "vscode": {
   "interpreter": {
    "hash": "0093f6c75cd3c16a0ad671028107f641928635b837d88d4ca10bf0567f73c93b"
   }
  }
 },
 "nbformat": 4,
 "nbformat_minor": 5
}
