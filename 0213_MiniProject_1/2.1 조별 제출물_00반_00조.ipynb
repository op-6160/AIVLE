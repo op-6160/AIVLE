{
 "cells": [
  {
   "cell_type": "markdown",
   "id": "boxed-jamaica",
   "metadata": {
    "id": "boxed-jamaica"
   },
   "source": [
    "# 안녕하세요:)\n",
    "\n",
    "## AIVLE 미니프로젝트 '서울시 생활정보 기반 대중교통 수요 분석 ' 과정에 오신 여러분을 환영합니다.\n",
    "* 본 과정에서는 서울시 생활정보 데이터를 기반으로 데이터 분석을 시도하고 주어진 문제를 해결할 것입니다.\n",
    "* 우리는 공공 데이터를 활용해 버스노선 관련 인사이트를 도출하여 유용한 정책을 세우는데 도움을 주고자 합니다\n",
    "\n",
    "## 조별과제\n",
    "* 데이터간 관계 가설 수립 및 검증, 비즈니스 인사이트 도출 (버스 시설 추가 필요 대상 지역(구) 선정)"
   ]
  },
  {
   "cell_type": "markdown",
   "id": "46fa690c",
   "metadata": {
    "id": "46fa690c"
   },
   "source": [
    "## ▣ 우리가 풀어야 하는 문제는 무엇인가요?\n",
    "\n",
    "* 제공 데이터\n",
    "    - 구 별 유동인구 데이터\n",
    "    - 구 별 주민 등록 데이터\n",
    "    - 구 별 업종 등록 정보\n",
    "    - 버스 승하차 및 운행 노선 데이터 \n",
    "\n",
    "### 위 제공 데이터를 분석하여 버스 노선 추가 필요 대상 지역(구 단위)을 선정합니다"
   ]
  },
  {
   "cell_type": "markdown",
   "id": "22a4bba9",
   "metadata": {},
   "source": [
    "# 이 4개의 데이터들을 어떻게 합칠까요?"
   ]
  },
  {
   "cell_type": "code",
   "execution_count": 12,
   "id": "ce78669f",
   "metadata": {},
   "outputs": [],
   "source": [
    "import pandas as pd"
   ]
  },
  {
   "cell_type": "code",
   "execution_count": 13,
   "id": "5ee007e0",
   "metadata": {},
   "outputs": [],
   "source": [
    "# 버스 정류장 데이터 - df_seoul_bus_station\n",
    "# 유동인구 데이터 - df_seoul_moving\n",
    "# 구별 상권 데이터 - df_seoul_business\n",
    "# 구별 등록 인구 데이터 - df_seoul_people\n",
    "df_seoul_bus_station = pd.read_csv('./df_seoul_bus_station.csv',index_col=0)\n",
    "df_seoul_moving = pd.read_csv('./df_seoul_moving_.csv',index_col=0)\n",
    "#df_seoul_business = pd.read_csv('./df_seoul_business.csv',index_col=0)\n",
    "df_seoul_people = pd.read_csv('./df_seoul_people.csv',index_col=0)"
   ]
  },
  {
   "cell_type": "code",
   "execution_count": 14,
   "id": "6a6559c8",
   "metadata": {},
   "outputs": [],
   "source": [
    "df = pd.merge(df_seoul_bus_station,df_seoul_moving,how='inner', on='자치구')"
   ]
  },
  {
   "cell_type": "code",
   "execution_count": 15,
   "id": "8b831c84",
   "metadata": {},
   "outputs": [],
   "source": [
    "#df = pd.merge(df,df_seoul_business,how='inner', on='자치구')"
   ]
  },
  {
   "cell_type": "code",
   "execution_count": 16,
   "id": "10144b50",
   "metadata": {},
   "outputs": [],
   "source": [
    "df = pd.merge(df,df_seoul_people,how='inner', on='자치구')"
   ]
  },
  {
   "cell_type": "code",
   "execution_count": 17,
   "id": "2aab60fa",
   "metadata": {},
   "outputs": [
    {
     "data": {
      "text/html": [
       "<div>\n",
       "<style scoped>\n",
       "    .dataframe tbody tr th:only-of-type {\n",
       "        vertical-align: middle;\n",
       "    }\n",
       "\n",
       "    .dataframe tbody tr th {\n",
       "        vertical-align: top;\n",
       "    }\n",
       "\n",
       "    .dataframe thead th {\n",
       "        text-align: right;\n",
       "    }\n",
       "</style>\n",
       "<table border=\"1\" class=\"dataframe\">\n",
       "  <thead>\n",
       "    <tr style=\"text-align: right;\">\n",
       "      <th></th>\n",
       "      <th>자치구</th>\n",
       "      <th>버스정류장ARS번호</th>\n",
       "      <th>노선수</th>\n",
       "      <th>승차총승객수</th>\n",
       "      <th>하차총승객수</th>\n",
       "      <th>승차평균승객수</th>\n",
       "      <th>하차평균승객수</th>\n",
       "      <th>이동 시간 총합(분)</th>\n",
       "      <th>이동인구총합</th>\n",
       "      <th>평균 이동 시간(분)</th>\n",
       "      <th>...</th>\n",
       "      <th>남자합계</th>\n",
       "      <th>여자합계</th>\n",
       "      <th>한국인계</th>\n",
       "      <th>한국인남자</th>\n",
       "      <th>한국인여자</th>\n",
       "      <th>등록외국인계</th>\n",
       "      <th>등록외국인남자</th>\n",
       "      <th>등록외국인여자</th>\n",
       "      <th>세대당인구</th>\n",
       "      <th>65세이상고령자</th>\n",
       "    </tr>\n",
       "  </thead>\n",
       "  <tbody>\n",
       "    <tr>\n",
       "      <th>0</th>\n",
       "      <td>강남구</td>\n",
       "      <td>499</td>\n",
       "      <td>91</td>\n",
       "      <td>8030483</td>\n",
       "      <td>7569213</td>\n",
       "      <td>128.767927</td>\n",
       "      <td>121.371512</td>\n",
       "      <td>12904380</td>\n",
       "      <td>46152613.40</td>\n",
       "      <td>23.284573</td>\n",
       "      <td>...</td>\n",
       "      <td>257096</td>\n",
       "      <td>280242</td>\n",
       "      <td>532577</td>\n",
       "      <td>254866</td>\n",
       "      <td>277711</td>\n",
       "      <td>4761</td>\n",
       "      <td>2230</td>\n",
       "      <td>2531</td>\n",
       "      <td>2.27</td>\n",
       "      <td>79575</td>\n",
       "    </tr>\n",
       "    <tr>\n",
       "      <th>1</th>\n",
       "      <td>강동구</td>\n",
       "      <td>369</td>\n",
       "      <td>21</td>\n",
       "      <td>2890053</td>\n",
       "      <td>2830506</td>\n",
       "      <td>99.161194</td>\n",
       "      <td>97.118065</td>\n",
       "      <td>9596980</td>\n",
       "      <td>21996357.39</td>\n",
       "      <td>26.108477</td>\n",
       "      <td>...</td>\n",
       "      <td>227891</td>\n",
       "      <td>237206</td>\n",
       "      <td>461300</td>\n",
       "      <td>226203</td>\n",
       "      <td>235097</td>\n",
       "      <td>3797</td>\n",
       "      <td>1688</td>\n",
       "      <td>2109</td>\n",
       "      <td>2.28</td>\n",
       "      <td>75477</td>\n",
       "    </tr>\n",
       "    <tr>\n",
       "      <th>2</th>\n",
       "      <td>강북구</td>\n",
       "      <td>413</td>\n",
       "      <td>67</td>\n",
       "      <td>4825181</td>\n",
       "      <td>4671783</td>\n",
       "      <td>133.020373</td>\n",
       "      <td>128.791504</td>\n",
       "      <td>8765160</td>\n",
       "      <td>13079023.71</td>\n",
       "      <td>24.282441</td>\n",
       "      <td>...</td>\n",
       "      <td>145934</td>\n",
       "      <td>154890</td>\n",
       "      <td>297384</td>\n",
       "      <td>144643</td>\n",
       "      <td>152741</td>\n",
       "      <td>3440</td>\n",
       "      <td>1291</td>\n",
       "      <td>2149</td>\n",
       "      <td>2.05</td>\n",
       "      <td>64961</td>\n",
       "    </tr>\n",
       "    <tr>\n",
       "      <th>3</th>\n",
       "      <td>강서구</td>\n",
       "      <td>566</td>\n",
       "      <td>49</td>\n",
       "      <td>4681083</td>\n",
       "      <td>4652828</td>\n",
       "      <td>88.119480</td>\n",
       "      <td>87.587591</td>\n",
       "      <td>10718780</td>\n",
       "      <td>22770901.22</td>\n",
       "      <td>25.496986</td>\n",
       "      <td>...</td>\n",
       "      <td>277797</td>\n",
       "      <td>300629</td>\n",
       "      <td>573046</td>\n",
       "      <td>275422</td>\n",
       "      <td>297624</td>\n",
       "      <td>5380</td>\n",
       "      <td>2375</td>\n",
       "      <td>3005</td>\n",
       "      <td>2.10</td>\n",
       "      <td>93924</td>\n",
       "    </tr>\n",
       "    <tr>\n",
       "      <th>4</th>\n",
       "      <td>관악구</td>\n",
       "      <td>466</td>\n",
       "      <td>86</td>\n",
       "      <td>7655819</td>\n",
       "      <td>7792476</td>\n",
       "      <td>154.753674</td>\n",
       "      <td>157.516040</td>\n",
       "      <td>10091730</td>\n",
       "      <td>19700285.30</td>\n",
       "      <td>23.842468</td>\n",
       "      <td>...</td>\n",
       "      <td>250450</td>\n",
       "      <td>249886</td>\n",
       "      <td>486375</td>\n",
       "      <td>244409</td>\n",
       "      <td>241966</td>\n",
       "      <td>13961</td>\n",
       "      <td>6041</td>\n",
       "      <td>7920</td>\n",
       "      <td>1.74</td>\n",
       "      <td>80686</td>\n",
       "    </tr>\n",
       "  </tbody>\n",
       "</table>\n",
       "<p>5 rows × 24 columns</p>\n",
       "</div>"
      ],
      "text/plain": [
       "   자치구  버스정류장ARS번호  노선수   승차총승객수   하차총승객수     승차평균승객수     하차평균승객수  \\\n",
       "0  강남구         499   91  8030483  7569213  128.767927  121.371512   \n",
       "1  강동구         369   21  2890053  2830506   99.161194   97.118065   \n",
       "2  강북구         413   67  4825181  4671783  133.020373  128.791504   \n",
       "3  강서구         566   49  4681083  4652828   88.119480   87.587591   \n",
       "4  관악구         466   86  7655819  7792476  154.753674  157.516040   \n",
       "\n",
       "   이동 시간 총합(분)       이동인구총합  평균 이동 시간(분)  ...    남자합계    여자합계    한국인계   한국인남자  \\\n",
       "0     12904380  46152613.40    23.284573  ...  257096  280242  532577  254866   \n",
       "1      9596980  21996357.39    26.108477  ...  227891  237206  461300  226203   \n",
       "2      8765160  13079023.71    24.282441  ...  145934  154890  297384  144643   \n",
       "3     10718780  22770901.22    25.496986  ...  277797  300629  573046  275422   \n",
       "4     10091730  19700285.30    23.842468  ...  250450  249886  486375  244409   \n",
       "\n",
       "    한국인여자  등록외국인계  등록외국인남자  등록외국인여자  세대당인구  65세이상고령자  \n",
       "0  277711    4761     2230     2531   2.27     79575  \n",
       "1  235097    3797     1688     2109   2.28     75477  \n",
       "2  152741    3440     1291     2149   2.05     64961  \n",
       "3  297624    5380     2375     3005   2.10     93924  \n",
       "4  241966   13961     6041     7920   1.74     80686  \n",
       "\n",
       "[5 rows x 24 columns]"
      ]
     },
     "execution_count": 17,
     "metadata": {},
     "output_type": "execute_result"
    }
   ],
   "source": [
    "df.head()"
   ]
  },
  {
   "cell_type": "code",
   "execution_count": 18,
   "id": "866d4c76",
   "metadata": {},
   "outputs": [
    {
     "data": {
      "text/html": [
       "<div>\n",
       "<style scoped>\n",
       "    .dataframe tbody tr th:only-of-type {\n",
       "        vertical-align: middle;\n",
       "    }\n",
       "\n",
       "    .dataframe tbody tr th {\n",
       "        vertical-align: top;\n",
       "    }\n",
       "\n",
       "    .dataframe thead th {\n",
       "        text-align: right;\n",
       "    }\n",
       "</style>\n",
       "<table border=\"1\" class=\"dataframe\">\n",
       "  <thead>\n",
       "    <tr style=\"text-align: right;\">\n",
       "      <th></th>\n",
       "      <th>자치구</th>\n",
       "      <th>정류장수</th>\n",
       "      <th>노선수</th>\n",
       "      <th>승차총승객수</th>\n",
       "      <th>하차총승객수</th>\n",
       "      <th>승차평균승객수</th>\n",
       "      <th>하차평균승객수</th>\n",
       "      <th>이동 시간 총합(분)</th>\n",
       "      <th>이동인구총합</th>\n",
       "      <th>평균 이동 시간(분)</th>\n",
       "      <th>...</th>\n",
       "      <th>남자합계</th>\n",
       "      <th>여자합계</th>\n",
       "      <th>한국인계</th>\n",
       "      <th>한국인남자</th>\n",
       "      <th>한국인여자</th>\n",
       "      <th>등록외국인계</th>\n",
       "      <th>등록외국인남자</th>\n",
       "      <th>등록외국인여자</th>\n",
       "      <th>세대당인구</th>\n",
       "      <th>65세이상고령자</th>\n",
       "    </tr>\n",
       "  </thead>\n",
       "  <tbody>\n",
       "    <tr>\n",
       "      <th>0</th>\n",
       "      <td>강남구</td>\n",
       "      <td>499</td>\n",
       "      <td>91</td>\n",
       "      <td>8030483</td>\n",
       "      <td>7569213</td>\n",
       "      <td>128.767927</td>\n",
       "      <td>121.371512</td>\n",
       "      <td>12904380</td>\n",
       "      <td>46152613.4</td>\n",
       "      <td>23.284573</td>\n",
       "      <td>...</td>\n",
       "      <td>257096</td>\n",
       "      <td>280242</td>\n",
       "      <td>532577</td>\n",
       "      <td>254866</td>\n",
       "      <td>277711</td>\n",
       "      <td>4761</td>\n",
       "      <td>2230</td>\n",
       "      <td>2531</td>\n",
       "      <td>2.27</td>\n",
       "      <td>79575</td>\n",
       "    </tr>\n",
       "  </tbody>\n",
       "</table>\n",
       "<p>1 rows × 24 columns</p>\n",
       "</div>"
      ],
      "text/plain": [
       "   자치구  정류장수  노선수   승차총승객수   하차총승객수     승차평균승객수     하차평균승객수  이동 시간 총합(분)  \\\n",
       "0  강남구   499   91  8030483  7569213  128.767927  121.371512     12904380   \n",
       "\n",
       "       이동인구총합  평균 이동 시간(분)  ...    남자합계    여자합계    한국인계   한국인남자   한국인여자  \\\n",
       "0  46152613.4    23.284573  ...  257096  280242  532577  254866  277711   \n",
       "\n",
       "   등록외국인계  등록외국인남자  등록외국인여자  세대당인구  65세이상고령자  \n",
       "0    4761     2230     2531   2.27     79575  \n",
       "\n",
       "[1 rows x 24 columns]"
      ]
     },
     "execution_count": 18,
     "metadata": {},
     "output_type": "execute_result"
    }
   ],
   "source": [
    "df = df.rename(columns={'버스정류장ARS번호':'정류장수'})\n",
    "df.head(1)"
   ]
  },
  {
   "cell_type": "code",
   "execution_count": 19,
   "id": "c98a15ba",
   "metadata": {},
   "outputs": [
    {
     "data": {
      "text/plain": [
       "Index(['자치구', '정류장수', '노선수', '승차총승객수', '하차총승객수', '승차평균승객수', '하차평균승객수',\n",
       "       '이동 시간 총합(분)', '이동인구총합', '평균 이동 시간(분)', '이동인구(평균)', '기간', '세대', '인구합계',\n",
       "       '남자합계', '여자합계', '한국인계', '한국인남자', '한국인여자', '등록외국인계', '등록외국인남자',\n",
       "       '등록외국인여자', '세대당인구', '65세이상고령자'],\n",
       "      dtype='object')"
      ]
     },
     "execution_count": 19,
     "metadata": {},
     "output_type": "execute_result"
    }
   ],
   "source": [
    "df.columns"
   ]
  },
  {
   "cell_type": "code",
   "execution_count": 20,
   "id": "3d42343f",
   "metadata": {},
   "outputs": [],
   "source": [
    "df = df.drop(['세대','인구합계','남자합계','여자합계','한국인계','한국인남자','한국인여자','등록외국인계','등록외국인남자','등록외국인여자','세대당인구'],axis=1)"
   ]
  },
  {
   "cell_type": "code",
   "execution_count": 21,
   "id": "5bd5aafe",
   "metadata": {},
   "outputs": [
    {
     "data": {
      "text/plain": [
       "Index(['자치구', '정류장수', '노선수', '승차총승객수', '하차총승객수', '승차평균승객수', '하차평균승객수',\n",
       "       '이동 시간 총합(분)', '이동인구총합', '평균 이동 시간(분)', '이동인구(평균)', '기간', '65세이상고령자'],\n",
       "      dtype='object')"
      ]
     },
     "execution_count": 21,
     "metadata": {},
     "output_type": "execute_result"
    }
   ],
   "source": [
    "df.columns"
   ]
  },
  {
   "cell_type": "code",
   "execution_count": 22,
   "id": "f30d1f52",
   "metadata": {},
   "outputs": [
    {
     "data": {
      "text/html": [
       "<div>\n",
       "<style scoped>\n",
       "    .dataframe tbody tr th:only-of-type {\n",
       "        vertical-align: middle;\n",
       "    }\n",
       "\n",
       "    .dataframe tbody tr th {\n",
       "        vertical-align: top;\n",
       "    }\n",
       "\n",
       "    .dataframe thead th {\n",
       "        text-align: right;\n",
       "    }\n",
       "</style>\n",
       "<table border=\"1\" class=\"dataframe\">\n",
       "  <thead>\n",
       "    <tr style=\"text-align: right;\">\n",
       "      <th></th>\n",
       "      <th>정류장수</th>\n",
       "      <th>노선수</th>\n",
       "      <th>승차총승객수</th>\n",
       "      <th>하차총승객수</th>\n",
       "      <th>승차평균승객수</th>\n",
       "      <th>하차평균승객수</th>\n",
       "      <th>이동 시간 총합(분)</th>\n",
       "      <th>이동인구총합</th>\n",
       "      <th>평균 이동 시간(분)</th>\n",
       "      <th>이동인구(평균)</th>\n",
       "      <th>65세이상고령자</th>\n",
       "    </tr>\n",
       "  </thead>\n",
       "  <tbody>\n",
       "    <tr>\n",
       "      <th>정류장수</th>\n",
       "      <td>1.000000</td>\n",
       "      <td>0.258798</td>\n",
       "      <td>0.566681</td>\n",
       "      <td>0.578479</td>\n",
       "      <td>-0.135318</td>\n",
       "      <td>-0.099146</td>\n",
       "      <td>0.397518</td>\n",
       "      <td>0.358511</td>\n",
       "      <td>0.219452</td>\n",
       "      <td>0.371123</td>\n",
       "      <td>0.554425</td>\n",
       "    </tr>\n",
       "    <tr>\n",
       "      <th>노선수</th>\n",
       "      <td>0.258798</td>\n",
       "      <td>1.000000</td>\n",
       "      <td>0.665488</td>\n",
       "      <td>0.652642</td>\n",
       "      <td>0.493541</td>\n",
       "      <td>0.470440</td>\n",
       "      <td>0.350980</td>\n",
       "      <td>0.220431</td>\n",
       "      <td>-0.687405</td>\n",
       "      <td>0.000147</td>\n",
       "      <td>-0.334297</td>\n",
       "    </tr>\n",
       "    <tr>\n",
       "      <th>승차총승객수</th>\n",
       "      <td>0.566681</td>\n",
       "      <td>0.665488</td>\n",
       "      <td>1.000000</td>\n",
       "      <td>0.996610</td>\n",
       "      <td>0.538720</td>\n",
       "      <td>0.547384</td>\n",
       "      <td>0.595533</td>\n",
       "      <td>0.577177</td>\n",
       "      <td>-0.130036</td>\n",
       "      <td>0.474238</td>\n",
       "      <td>0.295889</td>\n",
       "    </tr>\n",
       "    <tr>\n",
       "      <th>하차총승객수</th>\n",
       "      <td>0.578479</td>\n",
       "      <td>0.652642</td>\n",
       "      <td>0.996610</td>\n",
       "      <td>1.000000</td>\n",
       "      <td>0.534826</td>\n",
       "      <td>0.555137</td>\n",
       "      <td>0.590166</td>\n",
       "      <td>0.560022</td>\n",
       "      <td>-0.115611</td>\n",
       "      <td>0.464090</td>\n",
       "      <td>0.322254</td>\n",
       "    </tr>\n",
       "    <tr>\n",
       "      <th>승차평균승객수</th>\n",
       "      <td>-0.135318</td>\n",
       "      <td>0.493541</td>\n",
       "      <td>0.538720</td>\n",
       "      <td>0.534826</td>\n",
       "      <td>1.000000</td>\n",
       "      <td>0.989288</td>\n",
       "      <td>0.117840</td>\n",
       "      <td>0.066854</td>\n",
       "      <td>-0.388197</td>\n",
       "      <td>-0.075655</td>\n",
       "      <td>-0.306123</td>\n",
       "    </tr>\n",
       "    <tr>\n",
       "      <th>하차평균승객수</th>\n",
       "      <td>-0.099146</td>\n",
       "      <td>0.470440</td>\n",
       "      <td>0.547384</td>\n",
       "      <td>0.555137</td>\n",
       "      <td>0.989288</td>\n",
       "      <td>1.000000</td>\n",
       "      <td>0.132691</td>\n",
       "      <td>0.062656</td>\n",
       "      <td>-0.360495</td>\n",
       "      <td>-0.068452</td>\n",
       "      <td>-0.243298</td>\n",
       "    </tr>\n",
       "    <tr>\n",
       "      <th>이동 시간 총합(분)</th>\n",
       "      <td>0.397518</td>\n",
       "      <td>0.350980</td>\n",
       "      <td>0.595533</td>\n",
       "      <td>0.590166</td>\n",
       "      <td>0.117840</td>\n",
       "      <td>0.132691</td>\n",
       "      <td>1.000000</td>\n",
       "      <td>0.934031</td>\n",
       "      <td>-0.142137</td>\n",
       "      <td>0.838273</td>\n",
       "      <td>0.267614</td>\n",
       "    </tr>\n",
       "    <tr>\n",
       "      <th>이동인구총합</th>\n",
       "      <td>0.358511</td>\n",
       "      <td>0.220431</td>\n",
       "      <td>0.577177</td>\n",
       "      <td>0.560022</td>\n",
       "      <td>0.066854</td>\n",
       "      <td>0.062656</td>\n",
       "      <td>0.934031</td>\n",
       "      <td>1.000000</td>\n",
       "      <td>0.045704</td>\n",
       "      <td>0.954598</td>\n",
       "      <td>0.345925</td>\n",
       "    </tr>\n",
       "    <tr>\n",
       "      <th>평균 이동 시간(분)</th>\n",
       "      <td>0.219452</td>\n",
       "      <td>-0.687405</td>\n",
       "      <td>-0.130036</td>\n",
       "      <td>-0.115611</td>\n",
       "      <td>-0.388197</td>\n",
       "      <td>-0.360495</td>\n",
       "      <td>-0.142137</td>\n",
       "      <td>0.045704</td>\n",
       "      <td>1.000000</td>\n",
       "      <td>0.315108</td>\n",
       "      <td>0.718514</td>\n",
       "    </tr>\n",
       "    <tr>\n",
       "      <th>이동인구(평균)</th>\n",
       "      <td>0.371123</td>\n",
       "      <td>0.000147</td>\n",
       "      <td>0.474238</td>\n",
       "      <td>0.464090</td>\n",
       "      <td>-0.075655</td>\n",
       "      <td>-0.068452</td>\n",
       "      <td>0.838273</td>\n",
       "      <td>0.954598</td>\n",
       "      <td>0.315108</td>\n",
       "      <td>1.000000</td>\n",
       "      <td>0.524977</td>\n",
       "    </tr>\n",
       "    <tr>\n",
       "      <th>65세이상고령자</th>\n",
       "      <td>0.554425</td>\n",
       "      <td>-0.334297</td>\n",
       "      <td>0.295889</td>\n",
       "      <td>0.322254</td>\n",
       "      <td>-0.306123</td>\n",
       "      <td>-0.243298</td>\n",
       "      <td>0.267614</td>\n",
       "      <td>0.345925</td>\n",
       "      <td>0.718514</td>\n",
       "      <td>0.524977</td>\n",
       "      <td>1.000000</td>\n",
       "    </tr>\n",
       "  </tbody>\n",
       "</table>\n",
       "</div>"
      ],
      "text/plain": [
       "                 정류장수       노선수    승차총승객수    하차총승객수   승차평균승객수   하차평균승객수  \\\n",
       "정류장수         1.000000  0.258798  0.566681  0.578479 -0.135318 -0.099146   \n",
       "노선수          0.258798  1.000000  0.665488  0.652642  0.493541  0.470440   \n",
       "승차총승객수       0.566681  0.665488  1.000000  0.996610  0.538720  0.547384   \n",
       "하차총승객수       0.578479  0.652642  0.996610  1.000000  0.534826  0.555137   \n",
       "승차평균승객수     -0.135318  0.493541  0.538720  0.534826  1.000000  0.989288   \n",
       "하차평균승객수     -0.099146  0.470440  0.547384  0.555137  0.989288  1.000000   \n",
       "이동 시간 총합(분)  0.397518  0.350980  0.595533  0.590166  0.117840  0.132691   \n",
       "이동인구총합       0.358511  0.220431  0.577177  0.560022  0.066854  0.062656   \n",
       "평균 이동 시간(분)  0.219452 -0.687405 -0.130036 -0.115611 -0.388197 -0.360495   \n",
       "이동인구(평균)     0.371123  0.000147  0.474238  0.464090 -0.075655 -0.068452   \n",
       "65세이상고령자     0.554425 -0.334297  0.295889  0.322254 -0.306123 -0.243298   \n",
       "\n",
       "             이동 시간 총합(분)    이동인구총합  평균 이동 시간(분)  이동인구(평균)  65세이상고령자  \n",
       "정류장수            0.397518  0.358511     0.219452  0.371123  0.554425  \n",
       "노선수             0.350980  0.220431    -0.687405  0.000147 -0.334297  \n",
       "승차총승객수          0.595533  0.577177    -0.130036  0.474238  0.295889  \n",
       "하차총승객수          0.590166  0.560022    -0.115611  0.464090  0.322254  \n",
       "승차평균승객수         0.117840  0.066854    -0.388197 -0.075655 -0.306123  \n",
       "하차평균승객수         0.132691  0.062656    -0.360495 -0.068452 -0.243298  \n",
       "이동 시간 총합(분)     1.000000  0.934031    -0.142137  0.838273  0.267614  \n",
       "이동인구총합          0.934031  1.000000     0.045704  0.954598  0.345925  \n",
       "평균 이동 시간(분)    -0.142137  0.045704     1.000000  0.315108  0.718514  \n",
       "이동인구(평균)        0.838273  0.954598     0.315108  1.000000  0.524977  \n",
       "65세이상고령자        0.267614  0.345925     0.718514  0.524977  1.000000  "
      ]
     },
     "execution_count": 22,
     "metadata": {},
     "output_type": "execute_result"
    }
   ],
   "source": [
    "df.corr()"
   ]
  },
  {
   "cell_type": "code",
   "execution_count": 23,
   "id": "852a82f8",
   "metadata": {},
   "outputs": [],
   "source": [
    "import seaborn as sns\n",
    "import matplotlib.pyplot as plt\n",
    "\n",
    "plt.rc('font', family='nanum')\n",
    "sns.set(font=\"Malgun Gothic\",#\"NanumGothicCoding\", \n",
    "        rc={\"axes.unicode_minus\":False}, # 마이너스 부호 깨짐 현상 해결\n",
    "        style='darkgrid')\n",
    "import scipy.stats as spst"
   ]
  },
  {
   "cell_type": "code",
   "execution_count": 24,
   "id": "9acdfa2e",
   "metadata": {},
   "outputs": [
    {
     "data": {
      "text/plain": [
       "(-0.6874048303585872, 0.00014680687151646357)"
      ]
     },
     "execution_count": 24,
     "metadata": {},
     "output_type": "execute_result"
    }
   ],
   "source": [
    "# 가설 1\n",
    "#각 자치구에서 평균이동시간과 노선수\n",
    "#H0 : 노선수와 평균이동시간(분)은 관계가 없다.\n",
    "#H1 : 노선수와 평균이동시간(분)은 관계가 있다.\n",
    "spst.pearsonr(df['평균 이동 시간(분)'],df['노선수'])\n",
    "\n",
    "# (-0.68740, 0.00015) 강한 음의 상관관계\n"
   ]
  },
  {
   "cell_type": "code",
   "execution_count": null,
   "id": "9956d836",
   "metadata": {},
   "outputs": [],
   "source": [
    "df['비율1'] = df['정류장수'] / df['승차총승객수'] * 10000\n",
    "df.sort_values(by=['비율1'])"
   ]
  },
  {
   "cell_type": "code",
   "execution_count": null,
   "id": "3c3634ff",
   "metadata": {},
   "outputs": [],
   "source": [
    "# (예시2) 노선 수와 총 이동시간은 관계가 있다.\n",
    "\n",
    "# H0 : 노선 수와 총 이동시간은 연관이 없다.\n",
    "\n",
    "# H1 : 노선 수와 총 이동시간은 연관이 있다.\n",
    "\n",
    "spst.pearsonr(df['노선수'],df['총 이동 시간'])\n",
    "\n",
    "# 중간 양의 상관관계\n",
    "# p-value 0.05 기준  작으면 -> 귀무가설 기각,  크면 -> 대립가설 기각 \n",
    "# 노선수와 총 이동 시간은 상관관계가 있다?"
   ]
  },
  {
   "cell_type": "markdown",
   "id": "b2edf769",
   "metadata": {},
   "source": [
    "## 1.가설 수립 \n",
    "+ 어떤 데이터를 label 데이터로 하실 건가요?\n",
    "\n",
    "    ? 정해진게 없나요? - 네 라벨을 조별로 고민하셔서 라벨데이터를 설정하시면 되겠습니다\n",
    "\n",
    "\n",
    "    ? 가설마다 라벨데이터가 달라도 상관없나요? 네 그렇습니다\n",
    "\n",
    "\n",
    "    ? 가설은 3개만 해야하나요? 그 이상 하셔도 무방합니다\n",
    "\n",
    "## 가설을 설정해 봅시다 (조당 최소 3개) \n",
    "- 미니프로젝트 진행의 편의상 가설은 이변량 분석을 염두에 두고 설정해 주세요"
   ]
  },
  {
   "cell_type": "markdown",
   "id": "b3d42e07",
   "metadata": {},
   "source": [
    "* 가설 1"
   ]
  },
  {
   "cell_type": "markdown",
   "id": "4fd1db81",
   "metadata": {},
   "source": [
    "* 가설 2"
   ]
  },
  {
   "cell_type": "markdown",
   "id": "e527bc75",
   "metadata": {},
   "source": [
    "* 가설 3"
   ]
  },
  {
   "cell_type": "markdown",
   "id": "6aa7b930",
   "metadata": {},
   "source": [
    "## 2.단변량 분석 \n",
    "(조별로 3개 정도의 변수만 진행해주세요)\n",
    "\n",
    "+ 변수의 의미  \n",
    "\n",
    "+ 숫자? 범주?\n",
    "\n",
    "+ 전처리 사항\n",
    "   - NaN 존재 여부 및 조치 방안  \n",
    "   - 가변수화 대상여부  \n",
    "   \n",
    "+ 기초통계량\n",
    "\n",
    "+ 분포  \n",
    "\n",
    "+ 위 정보로부터 파악한 내용 정리  \n",
    "\n",
    "+ 추가 분석해볼 사항 도출"
   ]
  },
  {
   "cell_type": "code",
   "execution_count": null,
   "id": "b62009a9",
   "metadata": {},
   "outputs": [],
   "source": [
    "import seaborn as sns\n",
    "import matplotlib.pyplot as plt\n",
    "\n",
    "# 시각화 한글폰트 설정\n",
    "# 맑은 고딕\n",
    "\n",
    "plt.rc('font', family='Malgun Gothic')\n",
    "sns.set(font=\"Malgun Gothic\",#\"NanumGothicCoding\", \n",
    "        rc={\"axes.unicode_minus\":False}, # 마이너스 부호 깨짐 현상 해결\n",
    "        style='darkgrid')\n",
    "\n",
    "# scipy\n",
    "import scipy.stats as spst"
   ]
  },
  {
   "cell_type": "markdown",
   "id": "39ef5d0f",
   "metadata": {},
   "source": [
    "### 1)\n"
   ]
  },
  {
   "cell_type": "markdown",
   "id": "a4e3ec6e",
   "metadata": {},
   "source": [
    "### 2)"
   ]
  },
  {
   "cell_type": "markdown",
   "id": "a7193abc",
   "metadata": {},
   "source": [
    "### 3)"
   ]
  },
  {
   "cell_type": "markdown",
   "id": "ac81d719",
   "metadata": {},
   "source": [
    "## 3.이변량 분석\n",
    "\n",
    "* 자료의 종류에 맞게 X --> Y 에 대해서 그래프(시각화)와 가설검정(수치화)를 수행하고 결과를 평가합니다.\n",
    "\n",
    "* 가설검정시 다음의 항목을 참조하여 수행합니다.\n",
    "    * 유의수준 : 5%\n",
    "    * 숫자 --> 숫자 : 상관분석\n",
    "    * 범주 --> 범주 : 카이제곱검정\n",
    "    * 범주 --> 숫자 : t검정, 분산분석\n",
    "    * 숫자 --> 범주 : 로지스틱 회귀모형을 통해, 회귀계수의 P.value로 검정을 수행합니다.\n"
   ]
  },
  {
   "cell_type": "markdown",
   "id": "a1ef2391",
   "metadata": {},
   "source": [
    "### 1)"
   ]
  },
  {
   "cell_type": "markdown",
   "id": "9a7f6c08",
   "metadata": {},
   "source": [
    "### 2)"
   ]
  },
  {
   "cell_type": "markdown",
   "id": "3e09f869",
   "metadata": {},
   "source": [
    "### 3)"
   ]
  },
  {
   "cell_type": "markdown",
   "id": "20e08293",
   "metadata": {},
   "source": [
    "## 4.관계 정리"
   ]
  },
  {
   "cell_type": "markdown",
   "id": "b11433ac",
   "metadata": {},
   "source": [
    "### 1) 강한 관계의 변수"
   ]
  },
  {
   "cell_type": "markdown",
   "id": "ae622498",
   "metadata": {},
   "source": [
    "* "
   ]
  },
  {
   "cell_type": "markdown",
   "id": "3101b64b",
   "metadata": {},
   "source": [
    "### 2) 약한 관계의 변수"
   ]
  },
  {
   "cell_type": "markdown",
   "id": "7a7f579d",
   "metadata": {},
   "source": [
    "*"
   ]
  },
  {
   "cell_type": "markdown",
   "id": "644198b7",
   "metadata": {},
   "source": [
    "## 5.솔루션 도출\n",
    "\n",
    "### 어느 구에 버스 노선 또는 정류장이 제일 필요한가요? 그 이유는?"
   ]
  },
  {
   "cell_type": "markdown",
   "id": "783e8346",
   "metadata": {},
   "source": [
    "*"
   ]
  },
  {
   "cell_type": "markdown",
   "id": "0baddc97",
   "metadata": {},
   "source": []
  }
 ],
 "metadata": {
  "colab": {
   "collapsed_sections": [],
   "name": "서울버스수요분석 데이터 분석(EDA)_ver0.1.ipynb",
   "provenance": [],
   "toc_visible": true
  },
  "kernelspec": {
   "display_name": "jpytorch",
   "language": "python",
   "name": "python3"
  },
  "language_info": {
   "codemirror_mode": {
    "name": "ipython",
    "version": 3
   },
   "file_extension": ".py",
   "mimetype": "text/x-python",
   "name": "python",
   "nbconvert_exporter": "python",
   "pygments_lexer": "ipython3",
   "version": "3.7.15"
  },
  "vscode": {
   "interpreter": {
    "hash": "0093f6c75cd3c16a0ad671028107f641928635b837d88d4ca10bf0567f73c93b"
   }
  }
 },
 "nbformat": 4,
 "nbformat_minor": 5
}
