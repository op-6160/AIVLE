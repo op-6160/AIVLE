{
 "cells": [
  {
   "cell_type": "markdown",
   "id": "ce44dd79",
   "metadata": {},
   "source": [
    "### Daum Exchange\n",
    "- `https://finance.daum.net`"
   ]
  },
  {
   "cell_type": "code",
   "execution_count": null,
   "id": "b98943f4",
   "metadata": {},
   "outputs": [],
   "source": [
    "# 파이썬 request가 거부되는 경우\n",
    "# useragent 수정으로 우회하기"
   ]
  },
  {
   "cell_type": "code",
   "execution_count": 1,
   "id": "bcf5c3fb",
   "metadata": {},
   "outputs": [],
   "source": [
    "import warnings\n",
    "warnings.filterwarnings('ignore')\n",
    "import requests\n",
    "import pandas as pd\n",
    "import matplotlib.pyplot as plt"
   ]
  },
  {
   "cell_type": "code",
   "execution_count": 2,
   "id": "08abdad5",
   "metadata": {},
   "outputs": [],
   "source": [
    "# 동적 서비스 크롤링 프로세스\n",
    "#1. 웹서비스분석 : URL\n",
    "#2. request(URL) > response : json(str)\n",
    "#3. json(str) > list, dict > DataFrame"
   ]
  },
  {
   "cell_type": "code",
   "execution_count": 23,
   "id": "32693e92",
   "metadata": {},
   "outputs": [],
   "source": [
    "def cost():\n",
    "    #1. 웹서비스분석 : URL\n",
    "    url = 'https://finance.daum.net/api/exchanges/summaries'\n",
    "    headers = { # 어뷰징을 막는 헤더는 직접 찾아봐야 한다\n",
    "        'user-agent' : 'Mozilla/5.0 (Windows NT 10.0; Win64; x64) AppleWebKit/537.36 (KHTML, like Gecko) Chrome/110.0.0.0 Safari/537.36',\n",
    "        'referer' : 'https://finance.daum.net/exchanges',\n",
    "        \n",
    "    }\n",
    "    #2. request(URL) > response : json(str)\n",
    "    response = requests.get(url,headers=headers)\n",
    "    #3. json(str) > list, dict > DataFrame\n",
    "    data = response.json()\n",
    "    df = pd.DataFrame(data['data'])\n",
    "    return pd.DataFrame(df)"
   ]
  },
  {
   "cell_type": "code",
   "execution_count": 26,
   "id": "e73bc375",
   "metadata": {},
   "outputs": [
    {
     "data": {
      "text/html": [
       "<div>\n",
       "<style scoped>\n",
       "    .dataframe tbody tr th:only-of-type {\n",
       "        vertical-align: middle;\n",
       "    }\n",
       "\n",
       "    .dataframe tbody tr th {\n",
       "        vertical-align: top;\n",
       "    }\n",
       "\n",
       "    .dataframe thead th {\n",
       "        text-align: right;\n",
       "    }\n",
       "</style>\n",
       "<table border=\"1\" class=\"dataframe\">\n",
       "  <thead>\n",
       "    <tr style=\"text-align: right;\">\n",
       "      <th></th>\n",
       "      <th>symbolCode</th>\n",
       "      <th>date</th>\n",
       "      <th>currencyCode</th>\n",
       "      <th>currencyName</th>\n",
       "      <th>currencyUnit</th>\n",
       "      <th>country</th>\n",
       "      <th>region</th>\n",
       "      <th>name</th>\n",
       "      <th>recurrenceCount</th>\n",
       "      <th>basePrice</th>\n",
       "      <th>change</th>\n",
       "      <th>changePrice</th>\n",
       "      <th>changeRate</th>\n",
       "      <th>cashBuyingPrice</th>\n",
       "      <th>cashSellingPrice</th>\n",
       "      <th>ttBuyingPrice</th>\n",
       "      <th>ttSellingPrice</th>\n",
       "      <th>tcBuyingPrice</th>\n",
       "      <th>fcSellingPrice</th>\n",
       "      <th>exchangeCommission</th>\n",
       "      <th>usDollarRate</th>\n",
       "      <th>chartImageUrl</th>\n",
       "    </tr>\n",
       "  </thead>\n",
       "  <tbody>\n",
       "    <tr>\n",
       "      <th>0</th>\n",
       "      <td>FRX.KRWUSD</td>\n",
       "      <td>2023-02-16 15:09:52</td>\n",
       "      <td>USD</td>\n",
       "      <td>달러</td>\n",
       "      <td>1</td>\n",
       "      <td>미국</td>\n",
       "      <td>{'korName': '아메리카', 'engName': 'America'}</td>\n",
       "      <td>미국 (KRW/USD)</td>\n",
       "      <td>526</td>\n",
       "      <td>1284.00</td>\n",
       "      <td>FALL</td>\n",
       "      <td>3.00</td>\n",
       "      <td>0.002331</td>\n",
       "      <td>1306.47</td>\n",
       "      <td>1261.53</td>\n",
       "      <td>1271.50</td>\n",
       "      <td>1296.50</td>\n",
       "      <td>None</td>\n",
       "      <td>None</td>\n",
       "      <td>6.4139</td>\n",
       "      <td>1.000</td>\n",
       "      <td>{'day': 'https://t1.daumcdn.net/finance/chart/...</td>\n",
       "    </tr>\n",
       "    <tr>\n",
       "      <th>1</th>\n",
       "      <td>FRX.KRWJPY</td>\n",
       "      <td>2023-02-16 15:09:52</td>\n",
       "      <td>JPY</td>\n",
       "      <td>엔</td>\n",
       "      <td>100</td>\n",
       "      <td>일본</td>\n",
       "      <td>{'korName': '아시아', 'engName': 'Asia'}</td>\n",
       "      <td>일본 (KRW/JPY100)</td>\n",
       "      <td>526</td>\n",
       "      <td>959.14</td>\n",
       "      <td>FALL</td>\n",
       "      <td>0.06</td>\n",
       "      <td>0.000063</td>\n",
       "      <td>975.92</td>\n",
       "      <td>942.36</td>\n",
       "      <td>949.75</td>\n",
       "      <td>968.53</td>\n",
       "      <td>None</td>\n",
       "      <td>None</td>\n",
       "      <td>2.0268</td>\n",
       "      <td>0.747</td>\n",
       "      <td>{'day': 'https://t1.daumcdn.net/finance/chart/...</td>\n",
       "    </tr>\n",
       "  </tbody>\n",
       "</table>\n",
       "</div>"
      ],
      "text/plain": [
       "   symbolCode                 date currencyCode currencyName  currencyUnit  \\\n",
       "0  FRX.KRWUSD  2023-02-16 15:09:52          USD           달러             1   \n",
       "1  FRX.KRWJPY  2023-02-16 15:09:52          JPY            엔           100   \n",
       "\n",
       "  country                                     region             name  \\\n",
       "0      미국  {'korName': '아메리카', 'engName': 'America'}     미국 (KRW/USD)   \n",
       "1      일본      {'korName': '아시아', 'engName': 'Asia'}  일본 (KRW/JPY100)   \n",
       "\n",
       "   recurrenceCount  basePrice change  changePrice  changeRate  \\\n",
       "0              526    1284.00   FALL         3.00    0.002331   \n",
       "1              526     959.14   FALL         0.06    0.000063   \n",
       "\n",
       "   cashBuyingPrice  cashSellingPrice  ttBuyingPrice  ttSellingPrice  \\\n",
       "0          1306.47           1261.53        1271.50         1296.50   \n",
       "1           975.92            942.36         949.75          968.53   \n",
       "\n",
       "  tcBuyingPrice fcSellingPrice  exchangeCommission  usDollarRate  \\\n",
       "0          None           None              6.4139         1.000   \n",
       "1          None           None              2.0268         0.747   \n",
       "\n",
       "                                       chartImageUrl  \n",
       "0  {'day': 'https://t1.daumcdn.net/finance/chart/...  \n",
       "1  {'day': 'https://t1.daumcdn.net/finance/chart/...  "
      ]
     },
     "execution_count": 26,
     "metadata": {},
     "output_type": "execute_result"
    }
   ],
   "source": [
    "pd.options.display.max_columns=30\n",
    "cost().head(2)"
   ]
  },
  {
   "cell_type": "code",
   "execution_count": null,
   "id": "42a5470b",
   "metadata": {},
   "outputs": [],
   "source": []
  },
  {
   "cell_type": "code",
   "execution_count": null,
   "id": "ab764a3c",
   "metadata": {},
   "outputs": [],
   "source": []
  },
  {
   "cell_type": "code",
   "execution_count": null,
   "id": "7a4db454",
   "metadata": {},
   "outputs": [],
   "source": []
  },
  {
   "cell_type": "code",
   "execution_count": null,
   "id": "05d36181",
   "metadata": {},
   "outputs": [],
   "source": []
  },
  {
   "cell_type": "code",
   "execution_count": null,
   "id": "3ad67116",
   "metadata": {},
   "outputs": [],
   "source": []
  },
  {
   "cell_type": "code",
   "execution_count": null,
   "id": "8257a73e",
   "metadata": {},
   "outputs": [],
   "source": []
  },
  {
   "cell_type": "code",
   "execution_count": null,
   "id": "139b7c41",
   "metadata": {},
   "outputs": [],
   "source": []
  }
 ],
 "metadata": {
  "kernelspec": {
   "display_name": "Python 3.7.15",
   "language": "python",
   "name": "python3"
  },
  "language_info": {
   "codemirror_mode": {
    "name": "ipython",
    "version": 3
   },
   "file_extension": ".py",
   "mimetype": "text/x-python",
   "name": "python",
   "nbconvert_exporter": "python",
   "pygments_lexer": "ipython3",
   "version": "3.7.15"
  },
  "vscode": {
   "interpreter": {
    "hash": "d2134deeb031d3043ee0562711738d1225b978d11603940a3a342e52f3e23eb6"
   }
  }
 },
 "nbformat": 4,
 "nbformat_minor": 5
}
