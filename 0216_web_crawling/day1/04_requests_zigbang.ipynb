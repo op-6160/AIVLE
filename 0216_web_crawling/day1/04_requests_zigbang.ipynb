{
 "cells": [
  {
   "cell_type": "code",
   "execution_count": null,
   "id": "9affefe3",
   "metadata": {},
   "outputs": [],
   "source": [
    "# summary\n",
    "\n",
    "# web : server-client : url\n",
    "# 동적페이지 : URL변화 없이 페이지의 데이터 수정 : json(str) > response.json() > DataFrame\n",
    "# 정적페이지 : URL변화 있이 페이지의 데이터 수정 : html(str) > BeautifulSoup > css-selector > DataFrame\n",
    "# selenium : 웹브라우저를 python 코드로 컨트롤해서 데이터 수집\n",
    "# requests(동적페이지,API) > requests(정적페이지) > selenium\n",
    "\n",
    "# 웹크롤링 절차\n",
    "#1. 웹서비스분석(개발자도구), API문서 : URL\n",
    "#2. request(URL) > response(data) : data(json(str)), html(str)\n",
    "#3. data(json(str), html(str)) > response.json(), BeautifulSouop(css-selector) > DataFrame\n",
    "\n",
    "# request 시 401, 403, 5XX error가 발생하는 경우 > headers 수정해서 데이터 요청(user-agent, refere)\n",
    "# API 수집 : request token 발행 후 크롤링"
   ]
  },
  {
   "cell_type": "markdown",
   "id": "democratic-utility",
   "metadata": {},
   "source": [
    "### Zigbang 원룸 매물 데이터 수집"
   ]
  },
  {
   "cell_type": "code",
   "execution_count": 1,
   "id": "0f5f6da8",
   "metadata": {},
   "outputs": [],
   "source": [
    "import pandas as pd\n",
    "import requests\n",
    "import geohash2"
   ]
  },
  {
   "cell_type": "markdown",
   "id": "whole-answer",
   "metadata": {},
   "source": [
    "#### Process\n",
    "    - 동이름으로 위도 경도 구하기\n",
    "    - 위도 경도로 geohash 알아내기\n",
    "    - geohash로 매물 아이디 가져오기\n",
    "    - 매물 아이디로 매물 정보 가져오기"
   ]
  },
  {
   "cell_type": "markdown",
   "id": "28a4abe9",
   "metadata": {},
   "source": [
    "> 목표 : 동 이름 입력 > 매물 데이터 출력"
   ]
  },
  {
   "cell_type": "code",
   "execution_count": null,
   "id": "093674d5",
   "metadata": {},
   "outputs": [],
   "source": [
    "data_interface = \\\n",
    "{\n",
    "  \"success\": True,\n",
    "  \"code\": \"200\",\n",
    "  \"items\": [\n",
    "    {\n",
    "      \"id\": 2654,\n",
    "      \"type\": \"address\",\n",
    "      \"name\": \"첨단2동\",\n",
    "      \"hint\": \"\",\n",
    "      \"description\": \"광주시 광산구 첨단2동\",\n",
    "      \"lat\": 35.21628952026367,\n",
    "      \"lng\": 126.84334564208984,\n",
    "      \"zoom\": 5,\n",
    "      \"polygon\": [],\n",
    "      \"_score\": \"\",\n",
    "      \"_source\": {\n",
    "        \"name_length\": 4,\n",
    "        \"local1\": \"광주시\",\n",
    "        \"local2\": \"광산구\",\n",
    "        \"local3\": \"첨단2동\",\n",
    "        \"web_level\": 15,\n",
    "        \"web_lat\": 35.21628952026367,\n",
    "        \"web_lng\": 126.84334564208984,\n",
    "        \"app_level\": 15,\n",
    "        \"app_lat\": 35.21628952026367,\n",
    "        \"app_lng\": 126.84334564208984,\n",
    "        \"법정동코드\": \"\"\n",
    "      },\n",
    "      \"zoom_level\": {\n",
    "        \"google\": 15,\n",
    "        \"daum\": 4\n",
    "      },\n",
    "      \"zoom_level_v2\": {\n",
    "        \"app\": 5,\n",
    "        \"web\": 4\n",
    "      }\n",
    "    }\n",
    "  ],\n",
    "  \"next\": \"\",\n",
    "  \"limit\": 0\n",
    "}"
   ]
  },
  {
   "cell_type": "code",
   "execution_count": 4,
   "id": "db66120d",
   "metadata": {},
   "outputs": [
    {
     "data": {
      "text/html": [
       "<div>\n",
       "<style scoped>\n",
       "    .dataframe tbody tr th:only-of-type {\n",
       "        vertical-align: middle;\n",
       "    }\n",
       "\n",
       "    .dataframe tbody tr th {\n",
       "        vertical-align: top;\n",
       "    }\n",
       "\n",
       "    .dataframe thead th {\n",
       "        text-align: right;\n",
       "    }\n",
       "</style>\n",
       "<table border=\"1\" class=\"dataframe\">\n",
       "  <thead>\n",
       "    <tr style=\"text-align: right;\">\n",
       "      <th></th>\n",
       "      <th>id</th>\n",
       "      <th>type</th>\n",
       "      <th>name</th>\n",
       "      <th>hint</th>\n",
       "      <th>description</th>\n",
       "      <th>lat</th>\n",
       "      <th>lng</th>\n",
       "      <th>zoom</th>\n",
       "      <th>polygon</th>\n",
       "      <th>_score</th>\n",
       "      <th>_source</th>\n",
       "      <th>zoom_level</th>\n",
       "      <th>zoom_level_v2</th>\n",
       "    </tr>\n",
       "  </thead>\n",
       "  <tbody>\n",
       "    <tr>\n",
       "      <th>0</th>\n",
       "      <td>11707</td>\n",
       "      <td>school</td>\n",
       "      <td>첨단고등학교</td>\n",
       "      <td></td>\n",
       "      <td>광주광역시 광산구 월계동</td>\n",
       "      <td>35.206729</td>\n",
       "      <td>126.837264</td>\n",
       "      <td>3</td>\n",
       "      <td>[]</td>\n",
       "      <td></td>\n",
       "      <td>{'name_length': 6, 'school_code': 'F100001155'...</td>\n",
       "      <td>{'google': 15, 'daum': 4}</td>\n",
       "      <td>{'app': 4, 'web': 4}</td>\n",
       "    </tr>\n",
       "  </tbody>\n",
       "</table>\n",
       "</div>"
      ],
      "text/plain": [
       "      id    type    name hint    description        lat         lng  zoom  \\\n",
       "0  11707  school  첨단고등학교       광주광역시 광산구 월계동  35.206729  126.837264     3   \n",
       "\n",
       "  polygon _score                                            _source  \\\n",
       "0      []         {'name_length': 6, 'school_code': 'F100001155'...   \n",
       "\n",
       "                  zoom_level         zoom_level_v2  \n",
       "0  {'google': 15, 'daum': 4}  {'app': 4, 'web': 4}  "
      ]
     },
     "execution_count": 4,
     "metadata": {},
     "output_type": "execute_result"
    }
   ],
   "source": [
    "a = {\"success\":True,\"code\":\"200\",\"items\":[{\"id\":11707,\"type\":\"school\",\"name\":\"첨단고등학교\",\"hint\":\"\",\"description\":\"광주광역시 광산구 월계동\",\"lat\":35.206729146557365,\"lng\":126.83726443553984,\"zoom\":3,\"polygon\":[],\"_score\":\"\",\"_source\":{\"name_length\":6,\"school_code\":\"F100001155\",\"gender\":\"both\",\"stage\":\"high\",\"sullib\":\"public\",\"foundation_date\":\"2004-12-29\",\"address\":\"광주광역시 광산구 월계동 864-5\",\"local1\":\"광주광역시\",\"local2\":\"광산구\",\"local3\":\"월계동\",\"suggestions_insensitive\":[\"첨단고등학교\"],\"distance\":1000},\"zoom_level\":{\"google\":15,\"daum\":4},\"zoom_level_v2\":{\"app\":4,\"web\":4}}],\"next\":\"\",\"limit\":0}\n",
    "pd.DataFrame(a['items'])"
   ]
  },
  {
   "cell_type": "markdown",
   "id": "b98f0c6c",
   "metadata": {},
   "source": [
    "#### 1. 동이름으로 위도 경도 구하기"
   ]
  },
  {
   "cell_type": "code",
   "execution_count": 13,
   "id": "0fc55d54",
   "metadata": {},
   "outputs": [
    {
     "data": {
      "text/plain": [
       "(35.21628952026367, 126.84334564208984)"
      ]
     },
     "execution_count": 13,
     "metadata": {},
     "output_type": "execute_result"
    }
   ],
   "source": [
    "address = \"첨단2동\"\n",
    "url = f\"https://apis.zigbang.com/v2/search?leaseYn=N&q={address}&serviceType=원룸\"\n",
    "response = requests.get(url)\n",
    "\n",
    "data = response.json()['items'][0]\n",
    "lat,lng = data['lat'],data['lng']\n",
    "lat,lng"
   ]
  },
  {
   "cell_type": "markdown",
   "id": "8dfada31",
   "metadata": {},
   "source": [
    "#### 2. 위도 경도로 geohash 알아내기"
   ]
  },
  {
   "cell_type": "code",
   "execution_count": 24,
   "id": "1d270ab4",
   "metadata": {},
   "outputs": [
    {
     "data": {
      "text/plain": [
       "'wy60q'"
      ]
     },
     "execution_count": 24,
     "metadata": {},
     "output_type": "execute_result"
    }
   ],
   "source": [
    "geohash = geohash2.encode(lat,lng,5)\n",
    "geohash"
   ]
  },
  {
   "cell_type": "code",
   "execution_count": 25,
   "id": "13b3901e",
   "metadata": {},
   "outputs": [
    {
     "data": {
      "text/plain": [
       "('35.2', '126.8')"
      ]
     },
     "execution_count": 25,
     "metadata": {},
     "output_type": "execute_result"
    }
   ],
   "source": [
    "geohash2.decode(geohash)"
   ]
  },
  {
   "cell_type": "markdown",
   "id": "13e8b3f9",
   "metadata": {},
   "source": [
    "#### 3. geohash로 매물 아이디 가져오기"
   ]
  },
  {
   "cell_type": "code",
   "execution_count": 27,
   "id": "2ceb8ea4",
   "metadata": {},
   "outputs": [
    {
     "data": {
      "text/plain": [
       "'https://apis.zigbang.com/v2/items?deposit_gteq=0&deposit_lteq=5000&domain=zigbang&geohash=wy60q&needHasNoFiltered=true&rent_gteq=0&sales_type_in=전세|월세&service_type_eq=원룸'"
      ]
     },
     "execution_count": 27,
     "metadata": {},
     "output_type": "execute_result"
    }
   ],
   "source": [
    "url = f\"https://apis.zigbang.com/v2/items?deposit_gteq=0&deposit_lteq=5000&domain=zigbang&geohash={geohash}&needHasNoFiltered=\\\n",
    "true&rent_gteq=0&sales_type_in=전세|월세&service_type_eq=원룸\"\n",
    "url"
   ]
  },
  {
   "cell_type": "code",
   "execution_count": 38,
   "id": "c96a1107",
   "metadata": {},
   "outputs": [
    {
     "data": {
      "text/plain": [
       "(90, [35146489, 35437152])"
      ]
     },
     "execution_count": 38,
     "metadata": {},
     "output_type": "execute_result"
    }
   ],
   "source": [
    "response = requests.get(url)\n",
    "data = response.json()['items']\n",
    "ids = [item['item_id'] for item in data]\n",
    "len(ids), ids[:2]"
   ]
  },
  {
   "cell_type": "markdown",
   "id": "85225aae",
   "metadata": {},
   "source": [
    "#### 4. 매물 아이디로 매물 정보 가져오기"
   ]
  },
  {
   "cell_type": "code",
   "execution_count": 39,
   "id": "0212d892",
   "metadata": {},
   "outputs": [
    {
     "data": {
      "text/plain": [
       "<Response [200]>"
      ]
     },
     "execution_count": 39,
     "metadata": {},
     "output_type": "execute_result"
    }
   ],
   "source": [
    "url = 'https://apis.zigbang.com/v2/items/list'\n",
    "#if len(ids) > 999:\n",
    "#    ids = ids[:990]\n",
    "params = {\n",
    "    \"domain\":\"zigbang\",\n",
    "    \"withCoalition\":'true',\n",
    "    \"item_ids\": ids, # 직방에선 아이템 갯수를 999까지 사용 가능함\n",
    "}\n",
    "response = requests.post(url,params)\n",
    "response"
   ]
  },
  {
   "cell_type": "code",
   "execution_count": 55,
   "id": "30f9aed7",
   "metadata": {},
   "outputs": [
    {
     "data": {
      "text/html": [
       "<div>\n",
       "<style scoped>\n",
       "    .dataframe tbody tr th:only-of-type {\n",
       "        vertical-align: middle;\n",
       "    }\n",
       "\n",
       "    .dataframe tbody tr th {\n",
       "        vertical-align: top;\n",
       "    }\n",
       "\n",
       "    .dataframe thead th {\n",
       "        text-align: right;\n",
       "    }\n",
       "</style>\n",
       "<table border=\"1\" class=\"dataframe\">\n",
       "  <thead>\n",
       "    <tr style=\"text-align: right;\">\n",
       "      <th></th>\n",
       "      <th>section_type</th>\n",
       "      <th>item_id</th>\n",
       "      <th>images_thumbnail</th>\n",
       "      <th>sales_type</th>\n",
       "      <th>sales_title</th>\n",
       "      <th>deposit</th>\n",
       "      <th>rent</th>\n",
       "      <th>size_m2</th>\n",
       "      <th>공급면적</th>\n",
       "      <th>전용면적</th>\n",
       "      <th>계약면적</th>\n",
       "      <th>room_type_title</th>\n",
       "      <th>floor</th>\n",
       "      <th>floor_string</th>\n",
       "      <th>building_floor</th>\n",
       "      <th>title</th>\n",
       "      <th>is_first_movein</th>\n",
       "      <th>room_type</th>\n",
       "      <th>address</th>\n",
       "      <th>random_location</th>\n",
       "      <th>is_zzim</th>\n",
       "      <th>status</th>\n",
       "      <th>service_type</th>\n",
       "      <th>tags</th>\n",
       "      <th>address1</th>\n",
       "      <th>address2</th>\n",
       "      <th>address3</th>\n",
       "      <th>manage_cost</th>\n",
       "      <th>reg_date</th>\n",
       "      <th>is_new</th>\n",
       "      <th>contract</th>\n",
       "    </tr>\n",
       "  </thead>\n",
       "  <tbody>\n",
       "    <tr>\n",
       "      <th>88</th>\n",
       "      <td>None</td>\n",
       "      <td>35215746</td>\n",
       "      <td>https://ic.zigbang.com/ic/items/35215746/1.jpg</td>\n",
       "      <td>월세</td>\n",
       "      <td>월세</td>\n",
       "      <td>200</td>\n",
       "      <td>30</td>\n",
       "      <td>33.06</td>\n",
       "      <td>{'m2': 33.06, 'p': '10'}</td>\n",
       "      <td>{'m2': 33.06, 'p': '10'}</td>\n",
       "      <td>None</td>\n",
       "      <td>None</td>\n",
       "      <td>2</td>\n",
       "      <td>2</td>\n",
       "      <td>4</td>\n",
       "      <td>🔵첨단3지구🔵인기많은🔵오피형🔵신축원룸🔵</td>\n",
       "      <td>None</td>\n",
       "      <td>02</td>\n",
       "      <td>장성군 남면 삼태리</td>\n",
       "      <td>{'lat': 35.23625398068905, 'lng': 126.83339638...</td>\n",
       "      <td>False</td>\n",
       "      <td>True</td>\n",
       "      <td>원룸</td>\n",
       "      <td>[]</td>\n",
       "      <td>전라남도 장성군 남면 삼태리</td>\n",
       "      <td>None</td>\n",
       "      <td>None</td>\n",
       "      <td>5</td>\n",
       "      <td>2023-02-01T14:25:01+09:00</td>\n",
       "      <td>False</td>\n",
       "      <td></td>\n",
       "    </tr>\n",
       "    <tr>\n",
       "      <th>89</th>\n",
       "      <td>None</td>\n",
       "      <td>34939568</td>\n",
       "      <td>https://ic.zigbang.com/ic/items/34939568/1.jpg</td>\n",
       "      <td>월세</td>\n",
       "      <td>월세</td>\n",
       "      <td>200</td>\n",
       "      <td>33</td>\n",
       "      <td>36.36</td>\n",
       "      <td>{'m2': 36.36, 'p': '11'}</td>\n",
       "      <td>{'m2': 36.36, 'p': '11'}</td>\n",
       "      <td>None</td>\n",
       "      <td>None</td>\n",
       "      <td>3</td>\n",
       "      <td>3</td>\n",
       "      <td>4</td>\n",
       "      <td>♣신축첫입주(인기)오피스텔형♣내부깔끔♣화이트톤♣대박원룸♣</td>\n",
       "      <td>None</td>\n",
       "      <td>02</td>\n",
       "      <td>장성군 남면 삼태리</td>\n",
       "      <td>{'lat': 35.23641843071505, 'lng': 126.83318128...</td>\n",
       "      <td>False</td>\n",
       "      <td>True</td>\n",
       "      <td>원룸</td>\n",
       "      <td>[추천]</td>\n",
       "      <td>전라남도 장성군 남면 삼태리</td>\n",
       "      <td>None</td>\n",
       "      <td>None</td>\n",
       "      <td>5</td>\n",
       "      <td>2023-02-13T16:59:36+09:00</td>\n",
       "      <td>False</td>\n",
       "      <td></td>\n",
       "    </tr>\n",
       "  </tbody>\n",
       "</table>\n",
       "</div>"
      ],
      "text/plain": [
       "   section_type   item_id                                images_thumbnail  \\\n",
       "88         None  35215746  https://ic.zigbang.com/ic/items/35215746/1.jpg   \n",
       "89         None  34939568  https://ic.zigbang.com/ic/items/34939568/1.jpg   \n",
       "\n",
       "   sales_type sales_title  deposit  rent  size_m2                      공급면적  \\\n",
       "88         월세          월세      200    30    33.06  {'m2': 33.06, 'p': '10'}   \n",
       "89         월세          월세      200    33    36.36  {'m2': 36.36, 'p': '11'}   \n",
       "\n",
       "                        전용면적  계약면적 room_type_title floor floor_string  \\\n",
       "88  {'m2': 33.06, 'p': '10'}  None            None     2            2   \n",
       "89  {'m2': 36.36, 'p': '11'}  None            None     3            3   \n",
       "\n",
       "   building_floor                            title is_first_movein room_type  \\\n",
       "88              4            🔵첨단3지구🔵인기많은🔵오피형🔵신축원룸🔵            None        02   \n",
       "89              4  ♣신축첫입주(인기)오피스텔형♣내부깔끔♣화이트톤♣대박원룸♣            None        02   \n",
       "\n",
       "       address                                    random_location  is_zzim  \\\n",
       "88  장성군 남면 삼태리  {'lat': 35.23625398068905, 'lng': 126.83339638...    False   \n",
       "89  장성군 남면 삼태리  {'lat': 35.23641843071505, 'lng': 126.83318128...    False   \n",
       "\n",
       "    status service_type  tags         address1 address2 address3 manage_cost  \\\n",
       "88    True           원룸    []  전라남도 장성군 남면 삼태리     None     None           5   \n",
       "89    True           원룸  [추천]  전라남도 장성군 남면 삼태리     None     None           5   \n",
       "\n",
       "                     reg_date  is_new contract  \n",
       "88  2023-02-01T14:25:01+09:00   False           \n",
       "89  2023-02-13T16:59:36+09:00   False           "
      ]
     },
     "execution_count": 55,
     "metadata": {},
     "output_type": "execute_result"
    }
   ],
   "source": [
    "df = pd.DataFrame(response.json()['items'])\n",
    "df.tail(2)"
   ]
  },
  {
   "cell_type": "code",
   "execution_count": 56,
   "id": "6e5b6e95",
   "metadata": {},
   "outputs": [],
   "source": [
    "pd.options.display.max_columns=50"
   ]
  },
  {
   "cell_type": "code",
   "execution_count": 57,
   "id": "5dcb4aa4",
   "metadata": {},
   "outputs": [
    {
     "data": {
      "text/html": [
       "<div>\n",
       "<style scoped>\n",
       "    .dataframe tbody tr th:only-of-type {\n",
       "        vertical-align: middle;\n",
       "    }\n",
       "\n",
       "    .dataframe tbody tr th {\n",
       "        vertical-align: top;\n",
       "    }\n",
       "\n",
       "    .dataframe thead th {\n",
       "        text-align: right;\n",
       "    }\n",
       "</style>\n",
       "<table border=\"1\" class=\"dataframe\">\n",
       "  <thead>\n",
       "    <tr style=\"text-align: right;\">\n",
       "      <th></th>\n",
       "      <th>section_type</th>\n",
       "      <th>item_id</th>\n",
       "      <th>images_thumbnail</th>\n",
       "      <th>sales_type</th>\n",
       "      <th>sales_title</th>\n",
       "      <th>deposit</th>\n",
       "      <th>rent</th>\n",
       "      <th>size_m2</th>\n",
       "      <th>공급면적</th>\n",
       "      <th>전용면적</th>\n",
       "      <th>계약면적</th>\n",
       "      <th>room_type_title</th>\n",
       "      <th>floor</th>\n",
       "      <th>floor_string</th>\n",
       "      <th>building_floor</th>\n",
       "      <th>title</th>\n",
       "      <th>is_first_movein</th>\n",
       "      <th>room_type</th>\n",
       "      <th>address</th>\n",
       "      <th>random_location</th>\n",
       "      <th>is_zzim</th>\n",
       "      <th>status</th>\n",
       "      <th>service_type</th>\n",
       "      <th>tags</th>\n",
       "      <th>address1</th>\n",
       "      <th>address2</th>\n",
       "      <th>address3</th>\n",
       "      <th>manage_cost</th>\n",
       "      <th>reg_date</th>\n",
       "      <th>is_new</th>\n",
       "      <th>contract</th>\n",
       "    </tr>\n",
       "  </thead>\n",
       "  <tbody>\n",
       "    <tr>\n",
       "      <th>88</th>\n",
       "      <td>None</td>\n",
       "      <td>35215746</td>\n",
       "      <td>https://ic.zigbang.com/ic/items/35215746/1.jpg</td>\n",
       "      <td>월세</td>\n",
       "      <td>월세</td>\n",
       "      <td>200</td>\n",
       "      <td>30</td>\n",
       "      <td>33.06</td>\n",
       "      <td>{'m2': 33.06, 'p': '10'}</td>\n",
       "      <td>{'m2': 33.06, 'p': '10'}</td>\n",
       "      <td>None</td>\n",
       "      <td>None</td>\n",
       "      <td>2</td>\n",
       "      <td>2</td>\n",
       "      <td>4</td>\n",
       "      <td>🔵첨단3지구🔵인기많은🔵오피형🔵신축원룸🔵</td>\n",
       "      <td>None</td>\n",
       "      <td>02</td>\n",
       "      <td>장성군 남면 삼태리</td>\n",
       "      <td>{'lat': 35.23625398068905, 'lng': 126.83339638...</td>\n",
       "      <td>False</td>\n",
       "      <td>True</td>\n",
       "      <td>원룸</td>\n",
       "      <td>[]</td>\n",
       "      <td>전라남도 장성군 남면 삼태리</td>\n",
       "      <td>None</td>\n",
       "      <td>None</td>\n",
       "      <td>5</td>\n",
       "      <td>2023-02-01T14:25:01+09:00</td>\n",
       "      <td>False</td>\n",
       "      <td></td>\n",
       "    </tr>\n",
       "    <tr>\n",
       "      <th>89</th>\n",
       "      <td>None</td>\n",
       "      <td>34939568</td>\n",
       "      <td>https://ic.zigbang.com/ic/items/34939568/1.jpg</td>\n",
       "      <td>월세</td>\n",
       "      <td>월세</td>\n",
       "      <td>200</td>\n",
       "      <td>33</td>\n",
       "      <td>36.36</td>\n",
       "      <td>{'m2': 36.36, 'p': '11'}</td>\n",
       "      <td>{'m2': 36.36, 'p': '11'}</td>\n",
       "      <td>None</td>\n",
       "      <td>None</td>\n",
       "      <td>3</td>\n",
       "      <td>3</td>\n",
       "      <td>4</td>\n",
       "      <td>♣신축첫입주(인기)오피스텔형♣내부깔끔♣화이트톤♣대박원룸♣</td>\n",
       "      <td>None</td>\n",
       "      <td>02</td>\n",
       "      <td>장성군 남면 삼태리</td>\n",
       "      <td>{'lat': 35.23641843071505, 'lng': 126.83318128...</td>\n",
       "      <td>False</td>\n",
       "      <td>True</td>\n",
       "      <td>원룸</td>\n",
       "      <td>[추천]</td>\n",
       "      <td>전라남도 장성군 남면 삼태리</td>\n",
       "      <td>None</td>\n",
       "      <td>None</td>\n",
       "      <td>5</td>\n",
       "      <td>2023-02-13T16:59:36+09:00</td>\n",
       "      <td>False</td>\n",
       "      <td></td>\n",
       "    </tr>\n",
       "  </tbody>\n",
       "</table>\n",
       "</div>"
      ],
      "text/plain": [
       "   section_type   item_id                                images_thumbnail  \\\n",
       "88         None  35215746  https://ic.zigbang.com/ic/items/35215746/1.jpg   \n",
       "89         None  34939568  https://ic.zigbang.com/ic/items/34939568/1.jpg   \n",
       "\n",
       "   sales_type sales_title  deposit  rent  size_m2                      공급면적  \\\n",
       "88         월세          월세      200    30    33.06  {'m2': 33.06, 'p': '10'}   \n",
       "89         월세          월세      200    33    36.36  {'m2': 36.36, 'p': '11'}   \n",
       "\n",
       "                        전용면적  계약면적 room_type_title floor floor_string  \\\n",
       "88  {'m2': 33.06, 'p': '10'}  None            None     2            2   \n",
       "89  {'m2': 36.36, 'p': '11'}  None            None     3            3   \n",
       "\n",
       "   building_floor                            title is_first_movein room_type  \\\n",
       "88              4            🔵첨단3지구🔵인기많은🔵오피형🔵신축원룸🔵            None        02   \n",
       "89              4  ♣신축첫입주(인기)오피스텔형♣내부깔끔♣화이트톤♣대박원룸♣            None        02   \n",
       "\n",
       "       address                                    random_location  is_zzim  \\\n",
       "88  장성군 남면 삼태리  {'lat': 35.23625398068905, 'lng': 126.83339638...    False   \n",
       "89  장성군 남면 삼태리  {'lat': 35.23641843071505, 'lng': 126.83318128...    False   \n",
       "\n",
       "    status service_type  tags         address1 address2 address3 manage_cost  \\\n",
       "88    True           원룸    []  전라남도 장성군 남면 삼태리     None     None           5   \n",
       "89    True           원룸  [추천]  전라남도 장성군 남면 삼태리     None     None           5   \n",
       "\n",
       "                     reg_date  is_new contract  \n",
       "88  2023-02-01T14:25:01+09:00   False           \n",
       "89  2023-02-13T16:59:36+09:00   False           "
      ]
     },
     "execution_count": 57,
     "metadata": {},
     "output_type": "execute_result"
    }
   ],
   "source": [
    "df.tail(2)"
   ]
  },
  {
   "cell_type": "code",
   "execution_count": 58,
   "id": "d60b66bf",
   "metadata": {},
   "outputs": [
    {
     "data": {
      "text/plain": [
       "Index(['section_type', 'item_id', 'images_thumbnail', 'sales_type',\n",
       "       'sales_title', 'deposit', 'rent', 'size_m2', '공급면적', '전용면적', '계약면적',\n",
       "       'room_type_title', 'floor', 'floor_string', 'building_floor', 'title',\n",
       "       'is_first_movein', 'room_type', 'address', 'random_location', 'is_zzim',\n",
       "       'status', 'service_type', 'tags', 'address1', 'address2', 'address3',\n",
       "       'manage_cost', 'reg_date', 'is_new', 'contract'],\n",
       "      dtype='object')"
      ]
     },
     "execution_count": 58,
     "metadata": {},
     "output_type": "execute_result"
    }
   ],
   "source": [
    "df.columns"
   ]
  },
  {
   "cell_type": "code",
   "execution_count": 59,
   "id": "b32d8aef",
   "metadata": {},
   "outputs": [
    {
     "data": {
      "text/html": [
       "<div>\n",
       "<style scoped>\n",
       "    .dataframe tbody tr th:only-of-type {\n",
       "        vertical-align: middle;\n",
       "    }\n",
       "\n",
       "    .dataframe tbody tr th {\n",
       "        vertical-align: top;\n",
       "    }\n",
       "\n",
       "    .dataframe thead th {\n",
       "        text-align: right;\n",
       "    }\n",
       "</style>\n",
       "<table border=\"1\" class=\"dataframe\">\n",
       "  <thead>\n",
       "    <tr style=\"text-align: right;\">\n",
       "      <th></th>\n",
       "      <th>item_id</th>\n",
       "      <th>sales_type</th>\n",
       "      <th>deposit</th>\n",
       "      <th>rent</th>\n",
       "      <th>size_m2</th>\n",
       "      <th>floor</th>\n",
       "      <th>building_floor</th>\n",
       "      <th>title</th>\n",
       "      <th>address</th>\n",
       "      <th>status</th>\n",
       "      <th>service_type</th>\n",
       "      <th>tags</th>\n",
       "      <th>address1</th>\n",
       "      <th>manage_cost</th>\n",
       "    </tr>\n",
       "  </thead>\n",
       "  <tbody>\n",
       "    <tr>\n",
       "      <th>88</th>\n",
       "      <td>35215746</td>\n",
       "      <td>월세</td>\n",
       "      <td>200</td>\n",
       "      <td>30</td>\n",
       "      <td>33.06</td>\n",
       "      <td>2</td>\n",
       "      <td>4</td>\n",
       "      <td>🔵첨단3지구🔵인기많은🔵오피형🔵신축원룸🔵</td>\n",
       "      <td>장성군 남면 삼태리</td>\n",
       "      <td>True</td>\n",
       "      <td>원룸</td>\n",
       "      <td>[]</td>\n",
       "      <td>전라남도 장성군 남면 삼태리</td>\n",
       "      <td>5</td>\n",
       "    </tr>\n",
       "    <tr>\n",
       "      <th>89</th>\n",
       "      <td>34939568</td>\n",
       "      <td>월세</td>\n",
       "      <td>200</td>\n",
       "      <td>33</td>\n",
       "      <td>36.36</td>\n",
       "      <td>3</td>\n",
       "      <td>4</td>\n",
       "      <td>♣신축첫입주(인기)오피스텔형♣내부깔끔♣화이트톤♣대박원룸♣</td>\n",
       "      <td>장성군 남면 삼태리</td>\n",
       "      <td>True</td>\n",
       "      <td>원룸</td>\n",
       "      <td>[추천]</td>\n",
       "      <td>전라남도 장성군 남면 삼태리</td>\n",
       "      <td>5</td>\n",
       "    </tr>\n",
       "  </tbody>\n",
       "</table>\n",
       "</div>"
      ],
      "text/plain": [
       "     item_id sales_type  deposit  rent  size_m2 floor building_floor  \\\n",
       "88  35215746         월세      200    30    33.06     2              4   \n",
       "89  34939568         월세      200    33    36.36     3              4   \n",
       "\n",
       "                              title     address  status service_type  tags  \\\n",
       "88            🔵첨단3지구🔵인기많은🔵오피형🔵신축원룸🔵  장성군 남면 삼태리    True           원룸    []   \n",
       "89  ♣신축첫입주(인기)오피스텔형♣내부깔끔♣화이트톤♣대박원룸♣  장성군 남면 삼태리    True           원룸  [추천]   \n",
       "\n",
       "           address1 manage_cost  \n",
       "88  전라남도 장성군 남면 삼태리           5  \n",
       "89  전라남도 장성군 남면 삼태리           5  "
      ]
     },
     "execution_count": 59,
     "metadata": {},
     "output_type": "execute_result"
    }
   ],
   "source": [
    "columns = ['item_id', 'sales_type','deposit', 'rent', 'size_m2',\n",
    "    'floor','building_floor', 'title','address',\n",
    "    'status', 'service_type', 'tags', 'address1','manage_cost']\n",
    "df=df[columns]\n",
    "df.tail(2)"
   ]
  },
  {
   "cell_type": "code",
   "execution_count": 60,
   "id": "fa6fefa1",
   "metadata": {},
   "outputs": [
    {
     "data": {
      "text/html": [
       "<div>\n",
       "<style scoped>\n",
       "    .dataframe tbody tr th:only-of-type {\n",
       "        vertical-align: middle;\n",
       "    }\n",
       "\n",
       "    .dataframe tbody tr th {\n",
       "        vertical-align: top;\n",
       "    }\n",
       "\n",
       "    .dataframe thead th {\n",
       "        text-align: right;\n",
       "    }\n",
       "</style>\n",
       "<table border=\"1\" class=\"dataframe\">\n",
       "  <thead>\n",
       "    <tr style=\"text-align: right;\">\n",
       "      <th></th>\n",
       "      <th>item_id</th>\n",
       "      <th>sales_type</th>\n",
       "      <th>deposit</th>\n",
       "      <th>rent</th>\n",
       "      <th>size_m2</th>\n",
       "      <th>floor</th>\n",
       "      <th>building_floor</th>\n",
       "      <th>title</th>\n",
       "      <th>address</th>\n",
       "      <th>status</th>\n",
       "      <th>service_type</th>\n",
       "      <th>tags</th>\n",
       "      <th>address1</th>\n",
       "      <th>manage_cost</th>\n",
       "    </tr>\n",
       "  </thead>\n",
       "  <tbody>\n",
       "    <tr>\n",
       "      <th>75</th>\n",
       "      <td>35410308</td>\n",
       "      <td>월세</td>\n",
       "      <td>300</td>\n",
       "      <td>37</td>\n",
       "      <td>39.67</td>\n",
       "      <td>2</td>\n",
       "      <td>4</td>\n",
       "      <td>♣인기(깔끔)투룸크기♣엘리베이터♣방크기大♣대박원룸♣</td>\n",
       "      <td>광산구 월계동</td>\n",
       "      <td>True</td>\n",
       "      <td>원룸</td>\n",
       "      <td>[추천]</td>\n",
       "      <td>광주시 광산구 월계동</td>\n",
       "      <td>5</td>\n",
       "    </tr>\n",
       "    <tr>\n",
       "      <th>76</th>\n",
       "      <td>35406439</td>\n",
       "      <td>월세</td>\n",
       "      <td>300</td>\n",
       "      <td>38</td>\n",
       "      <td>49.59</td>\n",
       "      <td>2</td>\n",
       "      <td>4</td>\n",
       "      <td>❤월계동 끝판왕❤ 가성비 좋은방 ❤깔끔한 방❤</td>\n",
       "      <td>광산구 월계동</td>\n",
       "      <td>True</td>\n",
       "      <td>빌라</td>\n",
       "      <td>[]</td>\n",
       "      <td>광주시 광산구 월계동</td>\n",
       "      <td>5</td>\n",
       "    </tr>\n",
       "  </tbody>\n",
       "</table>\n",
       "</div>"
      ],
      "text/plain": [
       "     item_id sales_type  deposit  rent  size_m2 floor building_floor  \\\n",
       "75  35410308         월세      300    37    39.67     2              4   \n",
       "76  35406439         월세      300    38    49.59     2              4   \n",
       "\n",
       "                           title  address  status service_type  tags  \\\n",
       "75  ♣인기(깔끔)투룸크기♣엘리베이터♣방크기大♣대박원룸♣  광산구 월계동    True           원룸  [추천]   \n",
       "76     ❤월계동 끝판왕❤ 가성비 좋은방 ❤깔끔한 방❤  광산구 월계동    True           빌라    []   \n",
       "\n",
       "       address1 manage_cost  \n",
       "75  광주시 광산구 월계동           5  \n",
       "76  광주시 광산구 월계동           5  "
      ]
     },
     "execution_count": 60,
     "metadata": {},
     "output_type": "execute_result"
    }
   ],
   "source": [
    "df = df[df['address1'].str.contains(\"월계동\").reset_index(drop=True)]\n",
    "df.tail(2)"
   ]
  },
  {
   "cell_type": "code",
   "execution_count": null,
   "id": "0791770b",
   "metadata": {},
   "outputs": [],
   "source": [
    "# python pep documents\n",
    "# pep20, pep8 \n",
    "# flake8 - 코드효율성 체크"
   ]
  },
  {
   "cell_type": "code",
   "execution_count": 61,
   "id": "63e0e7e9",
   "metadata": {},
   "outputs": [
    {
     "name": "stdout",
     "output_type": "stream",
     "text": [
      "The Zen of Python, by Tim Peters\n",
      "\n",
      "Beautiful is better than ugly.\n",
      "Explicit is better than implicit.\n",
      "Simple is better than complex.\n",
      "Complex is better than complicated.\n",
      "Flat is better than nested.\n",
      "Sparse is better than dense.\n",
      "Readability counts.\n",
      "Special cases aren't special enough to break the rules.\n",
      "Although practicality beats purity.\n",
      "Errors should never pass silently.\n",
      "Unless explicitly silenced.\n",
      "In the face of ambiguity, refuse the temptation to guess.\n",
      "There should be one-- and preferably only one --obvious way to do it.\n",
      "Although that way may not be obvious at first unless you're Dutch.\n",
      "Now is better than never.\n",
      "Although never is often better than *right* now.\n",
      "If the implementation is hard to explain, it's a bad idea.\n",
      "If the implementation is easy to explain, it may be a good idea.\n",
      "Namespaces are one honking great idea -- let's do more of those!\n"
     ]
    }
   ],
   "source": [
    "import this"
   ]
  },
  {
   "cell_type": "code",
   "execution_count": null,
   "id": "a6c151a4",
   "metadata": {},
   "outputs": [],
   "source": [
    "# pep8 : 문법(에러O,코드실행X),컨벤션(에러X,코드실행O)"
   ]
  },
  {
   "cell_type": "code",
   "execution_count": null,
   "id": "9bba01ac",
   "metadata": {},
   "outputs": [],
   "source": []
  },
  {
   "cell_type": "code",
   "execution_count": null,
   "id": "7afa5eb0",
   "metadata": {},
   "outputs": [],
   "source": []
  },
  {
   "cell_type": "code",
   "execution_count": null,
   "id": "9025a1a4",
   "metadata": {},
   "outputs": [],
   "source": []
  },
  {
   "cell_type": "code",
   "execution_count": null,
   "id": "210333dc",
   "metadata": {},
   "outputs": [],
   "source": []
  }
 ],
 "metadata": {
  "kernelspec": {
   "display_name": "Python 3.7.15",
   "language": "python",
   "name": "python3"
  },
  "language_info": {
   "codemirror_mode": {
    "name": "ipython",
    "version": 3
   },
   "file_extension": ".py",
   "mimetype": "text/x-python",
   "name": "python",
   "nbconvert_exporter": "python",
   "pygments_lexer": "ipython3",
   "version": "3.7.15"
  },
  "toc": {
   "base_numbering": 1,
   "nav_menu": {},
   "number_sections": false,
   "sideBar": true,
   "skip_h1_title": false,
   "title_cell": "Table of Contents",
   "title_sidebar": "Contents",
   "toc_cell": false,
   "toc_position": {},
   "toc_section_display": true,
   "toc_window_display": false
  },
  "vscode": {
   "interpreter": {
    "hash": "d2134deeb031d3043ee0562711738d1225b978d11603940a3a342e52f3e23eb6"
   }
  }
 },
 "nbformat": 4,
 "nbformat_minor": 5
}
