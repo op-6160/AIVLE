{
 "cells": [
  {
   "cell_type": "markdown",
   "id": "eb136fd8",
   "metadata": {},
   "source": [
    "### Gmarket\n",
    "- 베스트 상품 200개 데이터 수집\n",
    "- 상품의 이미지 200개 다운로드"
   ]
  },
  {
   "cell_type": "code",
   "execution_count": 1,
   "id": "785ac4d8",
   "metadata": {},
   "outputs": [],
   "source": [
    "import requests\n",
    "from bs4 import BeautifulSoup\n",
    "import pandas as pd"
   ]
  },
  {
   "cell_type": "code",
   "execution_count": null,
   "id": "9e2d6351",
   "metadata": {},
   "outputs": [],
   "source": []
  },
  {
   "cell_type": "markdown",
   "id": "d0aec417",
   "metadata": {},
   "source": [
    "#### 1. URL 찾기"
   ]
  },
  {
   "cell_type": "code",
   "execution_count": 3,
   "id": "2677ed34",
   "metadata": {},
   "outputs": [],
   "source": [
    "url = 'https://corners.gmarket.co.kr/bestsellers'\n"
   ]
  },
  {
   "cell_type": "markdown",
   "id": "ba6511ba",
   "metadata": {},
   "source": [
    "#### 2. request > response : str(html)"
   ]
  },
  {
   "cell_type": "code",
   "execution_count": 4,
   "id": "4001ce14",
   "metadata": {},
   "outputs": [
    {
     "data": {
      "text/plain": [
       "<Response [200]>"
      ]
     },
     "execution_count": 4,
     "metadata": {},
     "output_type": "execute_result"
    }
   ],
   "source": [
    "response = requests.get(url)\n",
    "response"
   ]
  },
  {
   "cell_type": "code",
   "execution_count": 10,
   "id": "3b46add2",
   "metadata": {},
   "outputs": [],
   "source": [
    "dom = BeautifulSoup(response.text, \"html.parser\")\n",
    "elements = dom.select('#gBestWrap > div > div:nth-child(5) > div > ul > li')"
   ]
  },
  {
   "cell_type": "code",
   "execution_count": 12,
   "id": "17286ff9",
   "metadata": {},
   "outputs": [
    {
     "data": {
      "text/plain": [
       "200"
      ]
     },
     "execution_count": 12,
     "metadata": {},
     "output_type": "execute_result"
    }
   ],
   "source": [
    "len(elements)"
   ]
  },
  {
   "cell_type": "code",
   "execution_count": 14,
   "id": "444f9ee8",
   "metadata": {},
   "outputs": [],
   "source": [
    "element = elements[0]"
   ]
  },
  {
   "cell_type": "code",
   "execution_count": 32,
   "id": "f99a6d73",
   "metadata": {},
   "outputs": [
    {
     "data": {
      "text/plain": [
       "{'tilte': '[매일유업]매일 상하멸균우유/케일주스/요미요미24팩모음',\n",
       " 'link': 'http://item.gmarket.co.kr/Item?goodscode=2628342593&ver=638122426590921333',\n",
       " 'image': 'https:////gdimg.gmarket.co.kr/2628342593/still/300?ver=2023021714',\n",
       " 'o-price': '정가33,800원',\n",
       " 's-price': '할인가23,700원'}"
      ]
     },
     "execution_count": 32,
     "metadata": {},
     "output_type": "execute_result"
    }
   ],
   "source": [
    "data = {\n",
    "    'tilte':element.select_one('.itemname').text,\n",
    "    'link' :element.select_one('.itemname').get('href'),\n",
    "    'image' :'https://'+element.select_one('img').get('data-original'),\n",
    "    'o-price' :element.select_one('.o-price').text,\n",
    "    's-price' :element.select_one('.s-price').text.strip().split('\\n')[0],\n",
    "}\n",
    "data"
   ]
  },
  {
   "cell_type": "code",
   "execution_count": 84,
   "id": "5abf3e5c",
   "metadata": {},
   "outputs": [],
   "source": [
    "data = []\n",
    "for element in elements:\n",
    "    data.append({\n",
    "    'tilte':element.select_one('.itemname').text,\n",
    "    'link' :element.select_one('.itemname').get('href'),\n",
    "    'image' :'http:'+element.select_one('img').get('data-original'),\n",
    "    'o-price' :element.select_one('.o-price').text,\n",
    "    's-price' :element.select_one('.s-price').text.strip().split('\\n')[0],\n",
    "})"
   ]
  },
  {
   "cell_type": "markdown",
   "id": "7ca93942",
   "metadata": {},
   "source": [
    "#### 3. bs > DataFrame"
   ]
  },
  {
   "cell_type": "code",
   "execution_count": 85,
   "id": "cf4aab14",
   "metadata": {},
   "outputs": [
    {
     "data": {
      "text/html": [
       "<div>\n",
       "<style scoped>\n",
       "    .dataframe tbody tr th:only-of-type {\n",
       "        vertical-align: middle;\n",
       "    }\n",
       "\n",
       "    .dataframe tbody tr th {\n",
       "        vertical-align: top;\n",
       "    }\n",
       "\n",
       "    .dataframe thead th {\n",
       "        text-align: right;\n",
       "    }\n",
       "</style>\n",
       "<table border=\"1\" class=\"dataframe\">\n",
       "  <thead>\n",
       "    <tr style=\"text-align: right;\">\n",
       "      <th></th>\n",
       "      <th>tilte</th>\n",
       "      <th>link</th>\n",
       "      <th>image</th>\n",
       "      <th>o-price</th>\n",
       "      <th>s-price</th>\n",
       "    </tr>\n",
       "  </thead>\n",
       "  <tbody>\n",
       "    <tr>\n",
       "      <th>198</th>\n",
       "      <td>레인보우 중목 라인양말_10+10켤레 세트 (할인특가)</td>\n",
       "      <td>http://item.gmarket.co.kr/Item?goodscode=27936...</td>\n",
       "      <td>http://gdimg.gmarket.co.kr/2793644100/still/30...</td>\n",
       "      <td>정가43,000원</td>\n",
       "      <td>할인가12,900원</td>\n",
       "    </tr>\n",
       "    <tr>\n",
       "      <th>199</th>\n",
       "      <td>[길벗스쿨]길벗스쿨_언어천재 말놀이 세트(본책9권+꾸러미북1권+스티커북1권+말놀이 ...</td>\n",
       "      <td>http://item.gmarket.co.kr/Item?goodscode=27917...</td>\n",
       "      <td>http://gdimg.gmarket.co.kr/2791705618/still/30...</td>\n",
       "      <td>정가96,000원</td>\n",
       "      <td>할인가80,000원</td>\n",
       "    </tr>\n",
       "  </tbody>\n",
       "</table>\n",
       "</div>"
      ],
      "text/plain": [
       "                                                 tilte  \\\n",
       "198                     레인보우 중목 라인양말_10+10켤레 세트 (할인특가)   \n",
       "199  [길벗스쿨]길벗스쿨_언어천재 말놀이 세트(본책9권+꾸러미북1권+스티커북1권+말놀이 ...   \n",
       "\n",
       "                                                  link  \\\n",
       "198  http://item.gmarket.co.kr/Item?goodscode=27936...   \n",
       "199  http://item.gmarket.co.kr/Item?goodscode=27917...   \n",
       "\n",
       "                                                 image    o-price     s-price  \n",
       "198  http://gdimg.gmarket.co.kr/2793644100/still/30...  정가43,000원  할인가12,900원  \n",
       "199  http://gdimg.gmarket.co.kr/2791705618/still/30...  정가96,000원  할인가80,000원  "
      ]
     },
     "execution_count": 85,
     "metadata": {},
     "output_type": "execute_result"
    }
   ],
   "source": [
    "df = pd.DataFrame(data)\n",
    "df.tail(2)"
   ]
  },
  {
   "cell_type": "code",
   "execution_count": 86,
   "id": "93481a9a",
   "metadata": {},
   "outputs": [],
   "source": [
    "idx = df[df['o-price'] == ''].index"
   ]
  },
  {
   "cell_type": "code",
   "execution_count": 87,
   "id": "ae18c35f",
   "metadata": {},
   "outputs": [],
   "source": [
    "df['o-price'].loc[idx] = df['s-price'].loc[idx]"
   ]
  },
  {
   "cell_type": "code",
   "execution_count": 88,
   "id": "180b0e40",
   "metadata": {},
   "outputs": [
    {
     "data": {
      "text/html": [
       "<div>\n",
       "<style scoped>\n",
       "    .dataframe tbody tr th:only-of-type {\n",
       "        vertical-align: middle;\n",
       "    }\n",
       "\n",
       "    .dataframe tbody tr th {\n",
       "        vertical-align: top;\n",
       "    }\n",
       "\n",
       "    .dataframe thead th {\n",
       "        text-align: right;\n",
       "    }\n",
       "</style>\n",
       "<table border=\"1\" class=\"dataframe\">\n",
       "  <thead>\n",
       "    <tr style=\"text-align: right;\">\n",
       "      <th></th>\n",
       "      <th>tilte</th>\n",
       "      <th>link</th>\n",
       "      <th>image</th>\n",
       "      <th>o-price</th>\n",
       "      <th>s-price</th>\n",
       "    </tr>\n",
       "  </thead>\n",
       "  <tbody>\n",
       "    <tr>\n",
       "      <th>0</th>\n",
       "      <td>[매일유업]매일 상하멸균우유/케일주스/요미요미24팩모음</td>\n",
       "      <td>http://item.gmarket.co.kr/Item?goodscode=26283...</td>\n",
       "      <td>http://gdimg.gmarket.co.kr/2628342593/still/30...</td>\n",
       "      <td>정가33,800원</td>\n",
       "      <td>할인가23,700원</td>\n",
       "    </tr>\n",
       "    <tr>\n",
       "      <th>1</th>\n",
       "      <td>[피셔프라이스]피셔프라이스 러닝 푸드트럭</td>\n",
       "      <td>http://item.gmarket.co.kr/Item?goodscode=19985...</td>\n",
       "      <td>http://gdimg.gmarket.co.kr/1998535842/still/30...</td>\n",
       "      <td>정가210,000원</td>\n",
       "      <td>할인가99,000원</td>\n",
       "    </tr>\n",
       "    <tr>\n",
       "      <th>2</th>\n",
       "      <td>[나이키키즈](대구신세계)[나이키키즈] (105~170) 조던 썸머 상/하의세트 세일가</td>\n",
       "      <td>http://item.gmarket.co.kr/Item?goodscode=27728...</td>\n",
       "      <td>http://gdimg.gmarket.co.kr/2772877848/still/30...</td>\n",
       "      <td>정가58,000원</td>\n",
       "      <td>할인가45,820원</td>\n",
       "    </tr>\n",
       "    <tr>\n",
       "      <th>3</th>\n",
       "      <td>(지오지아)사계절 테이퍼드/와이드핏 슬랙스  치노팬츠 10종 택1</td>\n",
       "      <td>http://item.gmarket.co.kr/Item?goodscode=27678...</td>\n",
       "      <td>http://gdimg.gmarket.co.kr/2767818438/still/30...</td>\n",
       "      <td>정가32,000원</td>\n",
       "      <td>할인가24,640원</td>\n",
       "    </tr>\n",
       "    <tr>\n",
       "      <th>4</th>\n",
       "      <td>[플랙]남성 데님 팬츠 6종 택1(PJTT5MLD731외5종)</td>\n",
       "      <td>http://item.gmarket.co.kr/Item?goodscode=27808...</td>\n",
       "      <td>http://gdimg.gmarket.co.kr/2780877061/still/30...</td>\n",
       "      <td>정가69,000원</td>\n",
       "      <td>할인가50,370원</td>\n",
       "    </tr>\n",
       "  </tbody>\n",
       "</table>\n",
       "</div>"
      ],
      "text/plain": [
       "                                              tilte  \\\n",
       "0                    [매일유업]매일 상하멸균우유/케일주스/요미요미24팩모음   \n",
       "1                            [피셔프라이스]피셔프라이스 러닝 푸드트럭   \n",
       "2  [나이키키즈](대구신세계)[나이키키즈] (105~170) 조던 썸머 상/하의세트 세일가   \n",
       "3              (지오지아)사계절 테이퍼드/와이드핏 슬랙스  치노팬츠 10종 택1   \n",
       "4                [플랙]남성 데님 팬츠 6종 택1(PJTT5MLD731외5종)   \n",
       "\n",
       "                                                link  \\\n",
       "0  http://item.gmarket.co.kr/Item?goodscode=26283...   \n",
       "1  http://item.gmarket.co.kr/Item?goodscode=19985...   \n",
       "2  http://item.gmarket.co.kr/Item?goodscode=27728...   \n",
       "3  http://item.gmarket.co.kr/Item?goodscode=27678...   \n",
       "4  http://item.gmarket.co.kr/Item?goodscode=27808...   \n",
       "\n",
       "                                               image     o-price     s-price  \n",
       "0  http://gdimg.gmarket.co.kr/2628342593/still/30...   정가33,800원  할인가23,700원  \n",
       "1  http://gdimg.gmarket.co.kr/1998535842/still/30...  정가210,000원  할인가99,000원  \n",
       "2  http://gdimg.gmarket.co.kr/2772877848/still/30...   정가58,000원  할인가45,820원  \n",
       "3  http://gdimg.gmarket.co.kr/2767818438/still/30...   정가32,000원  할인가24,640원  \n",
       "4  http://gdimg.gmarket.co.kr/2780877061/still/30...   정가69,000원  할인가50,370원  "
      ]
     },
     "execution_count": 88,
     "metadata": {},
     "output_type": "execute_result"
    }
   ],
   "source": [
    "df[0:5]"
   ]
  },
  {
   "cell_type": "code",
   "execution_count": 89,
   "id": "61b4a8ae",
   "metadata": {},
   "outputs": [],
   "source": [
    "import re"
   ]
  },
  {
   "cell_type": "code",
   "execution_count": 90,
   "id": "f3748f6f",
   "metadata": {},
   "outputs": [
    {
     "data": {
      "text/html": [
       "<div>\n",
       "<style scoped>\n",
       "    .dataframe tbody tr th:only-of-type {\n",
       "        vertical-align: middle;\n",
       "    }\n",
       "\n",
       "    .dataframe tbody tr th {\n",
       "        vertical-align: top;\n",
       "    }\n",
       "\n",
       "    .dataframe thead th {\n",
       "        text-align: right;\n",
       "    }\n",
       "</style>\n",
       "<table border=\"1\" class=\"dataframe\">\n",
       "  <thead>\n",
       "    <tr style=\"text-align: right;\">\n",
       "      <th></th>\n",
       "      <th>tilte</th>\n",
       "      <th>link</th>\n",
       "      <th>image</th>\n",
       "      <th>o-price</th>\n",
       "      <th>s-price</th>\n",
       "    </tr>\n",
       "  </thead>\n",
       "  <tbody>\n",
       "    <tr>\n",
       "      <th>196</th>\n",
       "      <td>[압타밀]압타밀 프로푸트라 1단계 800g 4통 세트 독일내수용 / 빠른배송 / 최신제품</td>\n",
       "      <td>http://item.gmarket.co.kr/Item?goodscode=27748...</td>\n",
       "      <td>http://gdimg.gmarket.co.kr/2774807080/still/30...</td>\n",
       "      <td>149,800</td>\n",
       "      <td>143,060</td>\n",
       "    </tr>\n",
       "    <tr>\n",
       "      <th>197</th>\n",
       "      <td>2세대 코코맘 이동식트롤리 기저귀정리함 3단 캡형</td>\n",
       "      <td>http://item.gmarket.co.kr/Item?goodscode=27623...</td>\n",
       "      <td>http://gdimg.gmarket.co.kr/2762398385/still/30...</td>\n",
       "      <td>51,900</td>\n",
       "      <td>44,900</td>\n",
       "    </tr>\n",
       "    <tr>\n",
       "      <th>198</th>\n",
       "      <td>레인보우 중목 라인양말_10+10켤레 세트 (할인특가)</td>\n",
       "      <td>http://item.gmarket.co.kr/Item?goodscode=27936...</td>\n",
       "      <td>http://gdimg.gmarket.co.kr/2793644100/still/30...</td>\n",
       "      <td>43,000</td>\n",
       "      <td>12,900</td>\n",
       "    </tr>\n",
       "    <tr>\n",
       "      <th>199</th>\n",
       "      <td>[길벗스쿨]길벗스쿨_언어천재 말놀이 세트(본책9권+꾸러미북1권+스티커북1권+말놀이 ...</td>\n",
       "      <td>http://item.gmarket.co.kr/Item?goodscode=27917...</td>\n",
       "      <td>http://gdimg.gmarket.co.kr/2791705618/still/30...</td>\n",
       "      <td>96,000</td>\n",
       "      <td>80,000</td>\n",
       "    </tr>\n",
       "  </tbody>\n",
       "</table>\n",
       "</div>"
      ],
      "text/plain": [
       "                                                 tilte  \\\n",
       "196  [압타밀]압타밀 프로푸트라 1단계 800g 4통 세트 독일내수용 / 빠른배송 / 최신제품   \n",
       "197                        2세대 코코맘 이동식트롤리 기저귀정리함 3단 캡형   \n",
       "198                     레인보우 중목 라인양말_10+10켤레 세트 (할인특가)   \n",
       "199  [길벗스쿨]길벗스쿨_언어천재 말놀이 세트(본책9권+꾸러미북1권+스티커북1권+말놀이 ...   \n",
       "\n",
       "                                                  link  \\\n",
       "196  http://item.gmarket.co.kr/Item?goodscode=27748...   \n",
       "197  http://item.gmarket.co.kr/Item?goodscode=27623...   \n",
       "198  http://item.gmarket.co.kr/Item?goodscode=27936...   \n",
       "199  http://item.gmarket.co.kr/Item?goodscode=27917...   \n",
       "\n",
       "                                                 image  o-price  s-price  \n",
       "196  http://gdimg.gmarket.co.kr/2774807080/still/30...  149,800  143,060  \n",
       "197  http://gdimg.gmarket.co.kr/2762398385/still/30...   51,900   44,900  \n",
       "198  http://gdimg.gmarket.co.kr/2793644100/still/30...   43,000   12,900  \n",
       "199  http://gdimg.gmarket.co.kr/2791705618/still/30...   96,000   80,000  "
      ]
     },
     "execution_count": 90,
     "metadata": {},
     "output_type": "execute_result"
    }
   ],
   "source": [
    "df['o-price'] = df['o-price'].apply(lambda price: re.findall('[0-9,]+',price)[0])\n",
    "df['s-price'] = df['s-price'].apply(lambda price: re.findall('[0-9,]+',price)[0])\n",
    "df.tail(4)"
   ]
  },
  {
   "cell_type": "code",
   "execution_count": 91,
   "id": "65c3e043",
   "metadata": {},
   "outputs": [
    {
     "data": {
      "text/plain": [
       "'1,111,800'"
      ]
     },
     "execution_count": 91,
     "metadata": {},
     "output_type": "execute_result"
    }
   ],
   "source": [
    "# df.str.replace('할인가', '')\n",
    "# df.str.replace('정가', '')\n",
    "# df.str.replace('원', '')\n",
    "price = '할인가1,111,800원'\n",
    "re.findall('[0-9,]+',price)[0]"
   ]
  },
  {
   "cell_type": "code",
   "execution_count": 92,
   "id": "3eeacf27",
   "metadata": {},
   "outputs": [
    {
     "data": {
      "text/plain": [
       "['sagvd@naver.com', 'op6160@gmail.com']"
      ]
     },
     "execution_count": 92,
     "metadata": {},
     "output_type": "execute_result"
    }
   ],
   "source": [
    "# re(정규표현식) 0~9 문자가 한 개 이상 있을 경우 선택,\n",
    "txt = '저는 정재훈입니다 이메일은 sagvd@naver.com op6160@gmail.com 이에요'\n",
    "re.findall('[a-zA-z0-9.]+@[a-z]+\\.[a-z]+',txt)"
   ]
  },
  {
   "cell_type": "markdown",
   "id": "3aa5186a",
   "metadata": {},
   "source": [
    "#### 4. download image"
   ]
  },
  {
   "cell_type": "code",
   "execution_count": 93,
   "id": "f1d4a3ef",
   "metadata": {},
   "outputs": [],
   "source": [
    "# 이미지 파일 저장 디렉토리\n",
    "import os\n",
    "if not os.path.exists('data'):\n",
    "    os.makedirs('data')"
   ]
  },
  {
   "cell_type": "code",
   "execution_count": 101,
   "id": "ecc0c253",
   "metadata": {},
   "outputs": [
    {
     "data": {
      "text/plain": [
       "'http://gdimg.gmarket.co.kr/2628342593/still/300?ver=2023021714'"
      ]
     },
     "execution_count": 101,
     "metadata": {},
     "output_type": "execute_result"
    }
   ],
   "source": [
    "image_link = df.loc[0,'image']\n",
    "rseponse = requests.get(image_link)\n",
    "response\n",
    "image_link"
   ]
  },
  {
   "cell_type": "code",
   "execution_count": 113,
   "id": "b5a81d97",
   "metadata": {},
   "outputs": [],
   "source": [
    "for i,v in df[:5].iterrows():\n",
    "    filename = '0'*(2-len(str(i)))+str(i)\n",
    "    filename = f'data/{filename}.png' \n",
    "    rseponse = requests.get(v['image'])\n",
    "    with open(filename,'wb') as file:\n",
    "        file.write(response.content)"
   ]
  },
  {
   "cell_type": "code",
   "execution_count": 115,
   "id": "c8034421",
   "metadata": {},
   "outputs": [],
   "source": [
    "from PIL import Image as pil\n",
    "#pil.open('data/test.png')"
   ]
  },
  {
   "cell_type": "code",
   "execution_count": null,
   "id": "5caf9183",
   "metadata": {},
   "outputs": [],
   "source": []
  },
  {
   "cell_type": "code",
   "execution_count": null,
   "id": "14e95ab6",
   "metadata": {},
   "outputs": [],
   "source": []
  },
  {
   "cell_type": "code",
   "execution_count": null,
   "id": "189b0db6",
   "metadata": {},
   "outputs": [],
   "source": []
  },
  {
   "cell_type": "code",
   "execution_count": null,
   "id": "feb4c8c6",
   "metadata": {},
   "outputs": [],
   "source": []
  },
  {
   "cell_type": "code",
   "execution_count": null,
   "id": "2d50f056",
   "metadata": {},
   "outputs": [],
   "source": []
  }
 ],
 "metadata": {
  "kernelspec": {
   "display_name": "Python 3.7.15",
   "language": "python",
   "name": "python3"
  },
  "language_info": {
   "codemirror_mode": {
    "name": "ipython",
    "version": 3
   },
   "file_extension": ".py",
   "mimetype": "text/x-python",
   "name": "python",
   "nbconvert_exporter": "python",
   "pygments_lexer": "ipython3",
   "version": "3.7.15"
  },
  "toc": {
   "base_numbering": 1,
   "nav_menu": {},
   "number_sections": false,
   "sideBar": true,
   "skip_h1_title": false,
   "title_cell": "Table of Contents",
   "title_sidebar": "Contents",
   "toc_cell": false,
   "toc_position": {},
   "toc_section_display": true,
   "toc_window_display": false
  },
  "vscode": {
   "interpreter": {
    "hash": "d2134deeb031d3043ee0562711738d1225b978d11603940a3a342e52f3e23eb6"
   }
  }
 },
 "nbformat": 4,
 "nbformat_minor": 5
}
