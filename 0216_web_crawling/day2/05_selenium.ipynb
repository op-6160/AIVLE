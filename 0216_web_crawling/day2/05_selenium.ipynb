{
 "cells": [
  {
   "cell_type": "markdown",
   "id": "03fff3b4",
   "metadata": {},
   "source": [
    "### selenium\n",
    "- `https://www.selenium.dev`\n",
    "- 자동화를 목적으로 만들어진 다양한 브라우져와 언어를 지원하는 라이브러리\n",
    "- 크롬 브라우져 설치\n",
    "    - 크롬 브라우져 드라이버 다운로드 (크롬 브라우져와 같은 버전)\n",
    "    - 다운로드한 드라이버 압축 해제\n",
    "    - chromedriver, chromedriver.exe 생성\n",
    "    - windows : 주피터 노트북 파일과 동일한 디렉토리에 chromedriver.exe 파일 업로드\n",
    "    - mac : sudo cp ~/Download/chromedirver /usr/local/bin"
   ]
  },
  {
   "cell_type": "code",
   "execution_count": 3,
   "id": "a6e6bc99",
   "metadata": {},
   "outputs": [],
   "source": [
    "from selenium import webdriver\n",
    "from selenium.webdriver.common.by import By\n",
    "import pandas as pd"
   ]
  },
  {
   "cell_type": "code",
   "execution_count": 4,
   "id": "19480300",
   "metadata": {},
   "outputs": [],
   "source": [
    "driver = webdriver.Chrome()"
   ]
  },
  {
   "cell_type": "code",
   "execution_count": 5,
   "id": "e4957f9c",
   "metadata": {},
   "outputs": [],
   "source": [
    "driver.get('https://daum.net')"
   ]
  },
  {
   "cell_type": "code",
   "execution_count": 7,
   "id": "8834b800",
   "metadata": {},
   "outputs": [],
   "source": [
    "# #q = id\n",
    "driver.find_element(By.CSS_SELECTOR,'#q').send_keys('파이썬')"
   ]
  },
  {
   "cell_type": "code",
   "execution_count": 8,
   "id": "bd6cc4ca",
   "metadata": {},
   "outputs": [],
   "source": [
    "#daumSearch > fieldset > div > div > button.ico_pctop.btn_search 요소\n",
    "selector = '.inner_search > .ico_pctop.btn_search'\n",
    "driver.find_element(By.CSS_SELECTOR,selector).click()"
   ]
  },
  {
   "cell_type": "code",
   "execution_count": 16,
   "id": "ec0716cf",
   "metadata": {},
   "outputs": [],
   "source": [
    "elements = driver.find_elements(By.CSS_SELECTOR,'#netizen_lists_top > .wsn')"
   ]
  },
  {
   "cell_type": "code",
   "execution_count": 17,
   "id": "ca1b36d6",
   "metadata": {},
   "outputs": [
    {
     "data": {
      "text/plain": [
       "['파이썬 프로그래밍',\n",
       " '파이썬 강좌',\n",
       " '파이썬 기초',\n",
       " '파이썬 뱀',\n",
       " '파이썬 책',\n",
       " '파이썬 코딩',\n",
       " '파이썬 자격증',\n",
       " '파이썬 다운로드',\n",
       " '파이썬 맵',\n",
       " '파이썬 설치',\n",
       " '파이썬 엑셀',\n",
       " 'python',\n",
       " '파이썬 활용',\n",
       " '',\n",
       " '',\n",
       " '',\n",
       " '',\n",
       " '',\n",
       " '',\n",
       " '']"
      ]
     },
     "execution_count": 17,
     "metadata": {},
     "output_type": "execute_result"
    }
   ],
   "source": [
    "keywords = [element.text for element in elements]\n",
    "keywords"
   ]
  },
  {
   "cell_type": "code",
   "execution_count": null,
   "id": "8d95c208",
   "metadata": {},
   "outputs": [],
   "source": [
    "# selenium은 화면에 있는 데이터를 가져옴.\n",
    "# 코드상에 존재해도 화면에 보이지 않으면 가져올 수 없어서 위 코드에 빈칸이 생겻다\n",
    "# 웹페이지를 테스트할 용도로 만들었기 때문에 "
   ]
  },
  {
   "cell_type": "code",
   "execution_count": 20,
   "id": "2ee105ba",
   "metadata": {},
   "outputs": [
    {
     "data": {
      "text/plain": [
       "['파이썬 프로그래밍',\n",
       " '파이썬 강좌',\n",
       " '파이썬 기초',\n",
       " '파이썬 뱀',\n",
       " '파이썬 책',\n",
       " '파이썬 코딩',\n",
       " '파이썬 자격증',\n",
       " '파이썬 다운로드',\n",
       " '파이썬 맵',\n",
       " '파이썬 설치',\n",
       " '파이썬 엑셀',\n",
       " 'python',\n",
       " '파이썬 활용',\n",
       " '파이썬 주식',\n",
       " '파이썬 학원',\n",
       " '파일썬',\n",
       " '파이썬 강의',\n",
       " '자바',\n",
       " '파이썬 코드',\n",
       " '파이썬 나무위키']"
      ]
     },
     "execution_count": 20,
     "metadata": {},
     "output_type": "execute_result"
    }
   ],
   "source": [
    "selector = '#netizen_more_btn_top'\n",
    "driver.find_element(By.CSS_SELECTOR, selector).click()\n",
    "keywords = [element.text for element in elements]\n",
    "keywords"
   ]
  },
  {
   "cell_type": "code",
   "execution_count": 22,
   "id": "25d14296",
   "metadata": {},
   "outputs": [],
   "source": [
    "driver.execute_script('window.scrollTo(200, 300);')"
   ]
  },
  {
   "cell_type": "code",
   "execution_count": 23,
   "id": "e4d77d37",
   "metadata": {},
   "outputs": [],
   "source": [
    "driver.quit()"
   ]
  },
  {
   "cell_type": "markdown",
   "id": "c4c13a78",
   "metadata": {},
   "source": [
    "#### 텍스트 데이터 가져오기\n",
    "- TED 사이트 : `https://www.ted.com`"
   ]
  },
  {
   "cell_type": "code",
   "execution_count": 36,
   "id": "39e30c91",
   "metadata": {},
   "outputs": [],
   "source": [
    "driver = webdriver.Chrome()\n",
    "driver.get('https://www.ted.com/talks')"
   ]
  },
  {
   "cell_type": "code",
   "execution_count": 33,
   "id": "8184cb73",
   "metadata": {},
   "outputs": [
    {
     "data": {
      "text/plain": [
       "'4200+ talks to stir your curiosity'"
      ]
     },
     "execution_count": 33,
     "metadata": {},
     "output_type": "execute_result"
    }
   ],
   "source": [
    "selector = '.talks-header__title'\n",
    "driver.find_element(By.CSS_SELECTOR, selector).text\n",
    "# 중요한작업할땐 selenium보다 scrapy를 더 많이 사용한다고 하심"
   ]
  },
  {
   "cell_type": "code",
   "execution_count": null,
   "id": "95f5b05a",
   "metadata": {},
   "outputs": [],
   "source": [
    "# xpath를 이용한 엘리먼트 선택\n",
    "# //*[@id='shoji']/div[2]/div/div[2]/header/div/div[1]\n",
    "#. // : 최상위 엘리먼트\n",
    "#  * : 모든 하위 엘리먼트\n",
    "#  / : 한 단계 하위 엘리먼트\n",
    "# [@id='shoji'] 속성값으로 엘리먼트 선택\n",
    "# div[2] : 태그[n번째]"
   ]
  },
  {
   "cell_type": "code",
   "execution_count": 34,
   "id": "ec95cd4f",
   "metadata": {},
   "outputs": [
    {
     "data": {
      "text/plain": [
       "'4200+ talks to stir your curiosity'"
      ]
     },
     "execution_count": 34,
     "metadata": {},
     "output_type": "execute_result"
    }
   ],
   "source": [
    "selector = '//*[@id=\"shoji\"]/div[2]/div/div[2]/header/div/div[1]'\n",
    "driver.find_element(By.XPATH, selector).text\n",
    "# 중요한작업할땐 selenium보다 scrapy를 더 많이 사용한다고 하심\n",
    "#scrapy에서 xpath를 많이 사용한다고 한다"
   ]
  },
  {
   "cell_type": "code",
   "execution_count": 37,
   "id": "6f9b1351",
   "metadata": {},
   "outputs": [],
   "source": [
    "driver.quit()"
   ]
  },
  {
   "cell_type": "markdown",
   "id": "152eda00",
   "metadata": {},
   "source": [
    "#### Headless\n",
    "- 브라우져를 화면에 띄우지 않고 메모리상에서만 올려서 크롤링하는 방법 \n",
    "- window가 지원되지 않는 환경에서 사용이 가능\n",
    "- chrome version 60.0.0.0 이상부터 지원 합니다."
   ]
  },
  {
   "cell_type": "code",
   "execution_count": 39,
   "id": "ec5daf36",
   "metadata": {},
   "outputs": [],
   "source": [
    "# CLI에서도 이용 가능\n",
    "options = webdriver.ChromeOptions()\n",
    "options.add_argument('headless')"
   ]
  },
  {
   "cell_type": "code",
   "execution_count": 40,
   "id": "cfbf2e76",
   "metadata": {},
   "outputs": [
    {
     "data": {
      "text/plain": [
       "'4200+ talks to stir your curiosity'"
      ]
     },
     "execution_count": 40,
     "metadata": {},
     "output_type": "execute_result"
    }
   ],
   "source": [
    "driver = webdriver.Chrome(options=options)\n",
    "driver.get('https://www.ted.com/talks')\n",
    "selector = '.talks-header__title'\n",
    "driver.find_element(By.CSS_SELECTOR, selector).text"
   ]
  },
  {
   "cell_type": "code",
   "execution_count": 41,
   "id": "c98ebd70",
   "metadata": {},
   "outputs": [],
   "source": [
    "driver.quit()"
   ]
  },
  {
   "cell_type": "code",
   "execution_count": null,
   "id": "1cbb80b8",
   "metadata": {},
   "outputs": [],
   "source": []
  }
 ],
 "metadata": {
  "kernelspec": {
   "display_name": "Python 3.7.15",
   "language": "python",
   "name": "python3"
  },
  "language_info": {
   "codemirror_mode": {
    "name": "ipython",
    "version": 3
   },
   "file_extension": ".py",
   "mimetype": "text/x-python",
   "name": "python",
   "nbconvert_exporter": "python",
   "pygments_lexer": "ipython3",
   "version": "3.7.15"
  },
  "toc": {
   "base_numbering": 1,
   "nav_menu": {},
   "number_sections": false,
   "sideBar": true,
   "skip_h1_title": false,
   "title_cell": "Table of Contents",
   "title_sidebar": "Contents",
   "toc_cell": false,
   "toc_position": {},
   "toc_section_display": true,
   "toc_window_display": false
  },
  "vscode": {
   "interpreter": {
    "hash": "d2134deeb031d3043ee0562711738d1225b978d11603940a3a342e52f3e23eb6"
   }
  }
 },
 "nbformat": 4,
 "nbformat_minor": 5
}
