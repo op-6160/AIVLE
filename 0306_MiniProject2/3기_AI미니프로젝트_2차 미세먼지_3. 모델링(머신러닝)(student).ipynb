{
 "cells": [
  {
   "cell_type": "code",
   "execution_count": 37,
   "id": "efficient-minutes",
   "metadata": {
    "tags": []
   },
   "outputs": [],
   "source": [
    "# 필요한 라이브러리 설치 및 임포트\n",
    "\n",
    "import pandas as pd\n",
    "\n",
    "from sklearn.neighbors import KNeighborsRegressor\n",
    "from sklearn.linear_model import LinearRegression, Lasso, Ridge, ElasticNet\n",
    "from sklearn.tree import DecisionTreeRegressor as DTR\n",
    "from sklearn.ensemble import RandomForestRegressor as RFR\n",
    "from sklearn.ensemble import GradientBoostingRegressor as GBR\n",
    "from sklearn.metrics import mean_squared_error as mse\n",
    "from sklearn.metrics import r2_score\n",
    "from sklearn.metrics import f1_score\n",
    "from sklearn.metrics import accuracy_score as acc\n",
    "from sklearn.metrics import recall_score as recall\n",
    "import joblib"
   ]
  },
  {
   "cell_type": "markdown",
   "id": "20aaca37-89d7-4045-affa-5a510c69495e",
   "metadata": {
    "tags": []
   },
   "source": [
    "# [Step 3] 머신러닝 모델링1"
   ]
  },
  {
   "cell_type": "markdown",
   "id": "1a3f4996-4681-4eae-b839-8ad6267387ae",
   "metadata": {
    "tags": []
   },
   "source": [
    "#### **<span style=\"color:blue\">[3-1] 학습 및 테스트 데이터 로딩</span>**"
   ]
  },
  {
   "cell_type": "code",
   "execution_count": 38,
   "id": "changed-arrangement",
   "metadata": {
    "scrolled": true
   },
   "outputs": [
    {
     "data": {
      "text/html": [
       "<div>\n",
       "<style scoped>\n",
       "    .dataframe tbody tr th:only-of-type {\n",
       "        vertical-align: middle;\n",
       "    }\n",
       "\n",
       "    .dataframe tbody tr th {\n",
       "        vertical-align: top;\n",
       "    }\n",
       "\n",
       "    .dataframe thead th {\n",
       "        text-align: right;\n",
       "    }\n",
       "</style>\n",
       "<table border=\"1\" class=\"dataframe\">\n",
       "  <thead>\n",
       "    <tr style=\"text-align: right;\">\n",
       "      <th></th>\n",
       "      <th>time</th>\n",
       "      <th>SO2</th>\n",
       "      <th>CO</th>\n",
       "      <th>O3</th>\n",
       "      <th>NO2</th>\n",
       "      <th>PM10</th>\n",
       "      <th>PM25</th>\n",
       "      <th>기온(°C)</th>\n",
       "      <th>강수량(mm)</th>\n",
       "      <th>풍속(m/s)</th>\n",
       "      <th>풍향(16방위)</th>\n",
       "      <th>습도(%)</th>\n",
       "      <th>증기압(hPa)</th>\n",
       "      <th>현지기압(hPa)</th>\n",
       "      <th>지면온도(°C)</th>\n",
       "      <th>month</th>\n",
       "      <th>day</th>\n",
       "      <th>hour</th>\n",
       "      <th>PM10_lag1</th>\n",
       "    </tr>\n",
       "  </thead>\n",
       "  <tbody>\n",
       "    <tr>\n",
       "      <th>8730</th>\n",
       "      <td>2021-09-30 21:00:00</td>\n",
       "      <td>0.003</td>\n",
       "      <td>0.6</td>\n",
       "      <td>0.012</td>\n",
       "      <td>0.036</td>\n",
       "      <td>30.0</td>\n",
       "      <td>19.0</td>\n",
       "      <td>20.9</td>\n",
       "      <td>0.0</td>\n",
       "      <td>0.4</td>\n",
       "      <td>0.0</td>\n",
       "      <td>83</td>\n",
       "      <td>20.4</td>\n",
       "      <td>999.2</td>\n",
       "      <td>19.2</td>\n",
       "      <td>9</td>\n",
       "      <td>30</td>\n",
       "      <td>21</td>\n",
       "      <td>15.0</td>\n",
       "    </tr>\n",
       "    <tr>\n",
       "      <th>8731</th>\n",
       "      <td>2021-09-30 22:00:00</td>\n",
       "      <td>0.003</td>\n",
       "      <td>0.6</td>\n",
       "      <td>0.004</td>\n",
       "      <td>0.042</td>\n",
       "      <td>33.0</td>\n",
       "      <td>19.0</td>\n",
       "      <td>20.4</td>\n",
       "      <td>0.0</td>\n",
       "      <td>0.8</td>\n",
       "      <td>70.0</td>\n",
       "      <td>81</td>\n",
       "      <td>19.4</td>\n",
       "      <td>999.2</td>\n",
       "      <td>18.6</td>\n",
       "      <td>9</td>\n",
       "      <td>30</td>\n",
       "      <td>22</td>\n",
       "      <td>14.0</td>\n",
       "    </tr>\n",
       "  </tbody>\n",
       "</table>\n",
       "</div>"
      ],
      "text/plain": [
       "                     time    SO2   CO     O3    NO2  PM10  PM25  기온(°C)  \\\n",
       "8730  2021-09-30 21:00:00  0.003  0.6  0.012  0.036  30.0  19.0    20.9   \n",
       "8731  2021-09-30 22:00:00  0.003  0.6  0.004  0.042  33.0  19.0    20.4   \n",
       "\n",
       "      강수량(mm)  풍속(m/s)  풍향(16방위)  습도(%)  증기압(hPa)  현지기압(hPa)  지면온도(°C)  month  \\\n",
       "8730      0.0      0.4       0.0     83      20.4      999.2      19.2      9   \n",
       "8731      0.0      0.8      70.0     81      19.4      999.2      18.6      9   \n",
       "\n",
       "      day  hour  PM10_lag1  \n",
       "8730   30    21       15.0  \n",
       "8731   30    22       14.0  "
      ]
     },
     "execution_count": 38,
     "metadata": {},
     "output_type": "execute_result"
    }
   ],
   "source": [
    "# train_x.csv / train_y.csv / test_x.csv / test_y.csv 4개의 데이터 로딩\n",
    "x_train = pd.read_csv('./train_x.csv')\n",
    "y_train = pd.read_csv('./train_y.csv')\n",
    "x_test = pd.read_csv('./test_x.csv')\n",
    "y_test = pd.read_csv('./test_y.csv')\n",
    "x_train.tail(2)"
   ]
  },
  {
   "cell_type": "code",
   "execution_count": 39,
   "id": "83caa730",
   "metadata": {},
   "outputs": [],
   "source": [
    "x_train = x_train.drop('time',axis=1)\n",
    "y_train = y_train.drop('time',axis=1)\n",
    "x_test = x_test.drop('time',axis=1)\n",
    "y_test = y_test.drop('time',axis=1)"
   ]
  },
  {
   "cell_type": "code",
   "execution_count": 40,
   "id": "3ffc4991",
   "metadata": {},
   "outputs": [
    {
     "name": "stdout",
     "output_type": "stream",
     "text": [
      "<class 'pandas.core.frame.DataFrame'>\n",
      "RangeIndex: 8732 entries, 0 to 8731\n",
      "Data columns (total 18 columns):\n",
      " #   Column     Non-Null Count  Dtype  \n",
      "---  ------     --------------  -----  \n",
      " 0   SO2        8732 non-null   float64\n",
      " 1   CO         8732 non-null   float64\n",
      " 2   O3         8732 non-null   float64\n",
      " 3   NO2        8732 non-null   float64\n",
      " 4   PM10       8732 non-null   float64\n",
      " 5   PM25       8732 non-null   float64\n",
      " 6   기온(°C)     8732 non-null   float64\n",
      " 7   강수량(mm)    8732 non-null   float64\n",
      " 8   풍속(m/s)    8732 non-null   float64\n",
      " 9   풍향(16방위)   8732 non-null   float64\n",
      " 10  습도(%)      8732 non-null   int64  \n",
      " 11  증기압(hPa)   8732 non-null   float64\n",
      " 12  현지기압(hPa)  8732 non-null   float64\n",
      " 13  지면온도(°C)   8732 non-null   float64\n",
      " 14  month      8732 non-null   int64  \n",
      " 15  day        8732 non-null   int64  \n",
      " 16  hour       8732 non-null   int64  \n",
      " 17  PM10_lag1  8732 non-null   float64\n",
      "dtypes: float64(14), int64(4)\n",
      "memory usage: 1.2 MB\n"
     ]
    }
   ],
   "source": [
    "x_train.info()"
   ]
  },
  {
   "cell_type": "code",
   "execution_count": 41,
   "id": "c6fc8206",
   "metadata": {},
   "outputs": [],
   "source": [
    "# 풍향은 범주형인데 상관없나?\n",
    "import seaborn as sns\n",
    "import matplotlib.pyplot as plt"
   ]
  },
  {
   "cell_type": "code",
   "execution_count": 42,
   "id": "c1365165",
   "metadata": {},
   "outputs": [],
   "source": [
    "#sns.kdeplot(x_train['풍향(16방위)'],hue=y_train)\n"
   ]
  },
  {
   "cell_type": "markdown",
   "id": "2084ca1a",
   "metadata": {},
   "source": [
    "---"
   ]
  },
  {
   "cell_type": "code",
   "execution_count": 43,
   "id": "029415e1",
   "metadata": {},
   "outputs": [
    {
     "data": {
      "text/html": [
       "<div>\n",
       "<style scoped>\n",
       "    .dataframe tbody tr th:only-of-type {\n",
       "        vertical-align: middle;\n",
       "    }\n",
       "\n",
       "    .dataframe tbody tr th {\n",
       "        vertical-align: top;\n",
       "    }\n",
       "\n",
       "    .dataframe thead th {\n",
       "        text-align: right;\n",
       "    }\n",
       "</style>\n",
       "<table border=\"1\" class=\"dataframe\">\n",
       "  <thead>\n",
       "    <tr style=\"text-align: right;\">\n",
       "      <th></th>\n",
       "      <th>SO2</th>\n",
       "      <th>CO</th>\n",
       "      <th>O3</th>\n",
       "      <th>NO2</th>\n",
       "      <th>PM10</th>\n",
       "      <th>PM25</th>\n",
       "      <th>기온(°C)</th>\n",
       "      <th>강수량(mm)</th>\n",
       "      <th>풍속(m/s)</th>\n",
       "      <th>풍향(16방위)</th>\n",
       "      <th>습도(%)</th>\n",
       "      <th>증기압(hPa)</th>\n",
       "      <th>현지기압(hPa)</th>\n",
       "      <th>지면온도(°C)</th>\n",
       "      <th>month</th>\n",
       "      <th>day</th>\n",
       "      <th>hour</th>\n",
       "      <th>PM10_lag1</th>\n",
       "    </tr>\n",
       "  </thead>\n",
       "  <tbody>\n",
       "    <tr>\n",
       "      <th>0</th>\n",
       "      <td>0.004</td>\n",
       "      <td>0.8</td>\n",
       "      <td>0.002</td>\n",
       "      <td>0.052</td>\n",
       "      <td>38.0</td>\n",
       "      <td>24.0</td>\n",
       "      <td>-2.8</td>\n",
       "      <td>0.0</td>\n",
       "      <td>2.3</td>\n",
       "      <td>50</td>\n",
       "      <td>55</td>\n",
       "      <td>2.7</td>\n",
       "      <td>1016.3</td>\n",
       "      <td>-3.3</td>\n",
       "      <td>1</td>\n",
       "      <td>2</td>\n",
       "      <td>0</td>\n",
       "      <td>23.0</td>\n",
       "    </tr>\n",
       "    <tr>\n",
       "      <th>1</th>\n",
       "      <td>0.004</td>\n",
       "      <td>0.8</td>\n",
       "      <td>0.002</td>\n",
       "      <td>0.052</td>\n",
       "      <td>34.0</td>\n",
       "      <td>23.0</td>\n",
       "      <td>-2.9</td>\n",
       "      <td>0.0</td>\n",
       "      <td>2.1</td>\n",
       "      <td>50</td>\n",
       "      <td>57</td>\n",
       "      <td>2.8</td>\n",
       "      <td>1015.8</td>\n",
       "      <td>-3.4</td>\n",
       "      <td>1</td>\n",
       "      <td>2</td>\n",
       "      <td>1</td>\n",
       "      <td>20.0</td>\n",
       "    </tr>\n",
       "    <tr>\n",
       "      <th>2</th>\n",
       "      <td>0.004</td>\n",
       "      <td>0.8</td>\n",
       "      <td>0.002</td>\n",
       "      <td>0.052</td>\n",
       "      <td>35.0</td>\n",
       "      <td>26.0</td>\n",
       "      <td>-2.6</td>\n",
       "      <td>0.0</td>\n",
       "      <td>1.9</td>\n",
       "      <td>50</td>\n",
       "      <td>57</td>\n",
       "      <td>2.9</td>\n",
       "      <td>1015.3</td>\n",
       "      <td>-2.5</td>\n",
       "      <td>1</td>\n",
       "      <td>2</td>\n",
       "      <td>2</td>\n",
       "      <td>20.0</td>\n",
       "    </tr>\n",
       "    <tr>\n",
       "      <th>3</th>\n",
       "      <td>0.004</td>\n",
       "      <td>0.6</td>\n",
       "      <td>0.002</td>\n",
       "      <td>0.046</td>\n",
       "      <td>33.0</td>\n",
       "      <td>24.0</td>\n",
       "      <td>-2.1</td>\n",
       "      <td>0.0</td>\n",
       "      <td>2.5</td>\n",
       "      <td>50</td>\n",
       "      <td>56</td>\n",
       "      <td>2.9</td>\n",
       "      <td>1015.1</td>\n",
       "      <td>-2.1</td>\n",
       "      <td>1</td>\n",
       "      <td>2</td>\n",
       "      <td>3</td>\n",
       "      <td>19.0</td>\n",
       "    </tr>\n",
       "    <tr>\n",
       "      <th>4</th>\n",
       "      <td>0.003</td>\n",
       "      <td>0.5</td>\n",
       "      <td>0.005</td>\n",
       "      <td>0.039</td>\n",
       "      <td>33.0</td>\n",
       "      <td>25.0</td>\n",
       "      <td>-1.9</td>\n",
       "      <td>0.0</td>\n",
       "      <td>2.0</td>\n",
       "      <td>50</td>\n",
       "      <td>55</td>\n",
       "      <td>2.9</td>\n",
       "      <td>1014.3</td>\n",
       "      <td>-2.1</td>\n",
       "      <td>1</td>\n",
       "      <td>2</td>\n",
       "      <td>4</td>\n",
       "      <td>24.0</td>\n",
       "    </tr>\n",
       "    <tr>\n",
       "      <th>...</th>\n",
       "      <td>...</td>\n",
       "      <td>...</td>\n",
       "      <td>...</td>\n",
       "      <td>...</td>\n",
       "      <td>...</td>\n",
       "      <td>...</td>\n",
       "      <td>...</td>\n",
       "      <td>...</td>\n",
       "      <td>...</td>\n",
       "      <td>...</td>\n",
       "      <td>...</td>\n",
       "      <td>...</td>\n",
       "      <td>...</td>\n",
       "      <td>...</td>\n",
       "      <td>...</td>\n",
       "      <td>...</td>\n",
       "      <td>...</td>\n",
       "      <td>...</td>\n",
       "    </tr>\n",
       "    <tr>\n",
       "      <th>2130</th>\n",
       "      <td>0.002</td>\n",
       "      <td>0.4</td>\n",
       "      <td>0.044</td>\n",
       "      <td>0.010</td>\n",
       "      <td>10.0</td>\n",
       "      <td>9.0</td>\n",
       "      <td>13.2</td>\n",
       "      <td>0.0</td>\n",
       "      <td>4.3</td>\n",
       "      <td>340</td>\n",
       "      <td>45</td>\n",
       "      <td>6.8</td>\n",
       "      <td>1013.1</td>\n",
       "      <td>12.4</td>\n",
       "      <td>3</td>\n",
       "      <td>31</td>\n",
       "      <td>18</td>\n",
       "      <td>29.0</td>\n",
       "    </tr>\n",
       "    <tr>\n",
       "      <th>2131</th>\n",
       "      <td>0.002</td>\n",
       "      <td>0.4</td>\n",
       "      <td>0.036</td>\n",
       "      <td>0.017</td>\n",
       "      <td>11.0</td>\n",
       "      <td>8.0</td>\n",
       "      <td>12.3</td>\n",
       "      <td>0.0</td>\n",
       "      <td>2.9</td>\n",
       "      <td>340</td>\n",
       "      <td>47</td>\n",
       "      <td>6.7</td>\n",
       "      <td>1013.4</td>\n",
       "      <td>10.0</td>\n",
       "      <td>3</td>\n",
       "      <td>31</td>\n",
       "      <td>19</td>\n",
       "      <td>34.0</td>\n",
       "    </tr>\n",
       "    <tr>\n",
       "      <th>2132</th>\n",
       "      <td>0.002</td>\n",
       "      <td>0.4</td>\n",
       "      <td>0.032</td>\n",
       "      <td>0.018</td>\n",
       "      <td>10.0</td>\n",
       "      <td>7.0</td>\n",
       "      <td>11.6</td>\n",
       "      <td>0.0</td>\n",
       "      <td>2.7</td>\n",
       "      <td>340</td>\n",
       "      <td>48</td>\n",
       "      <td>6.5</td>\n",
       "      <td>1014.6</td>\n",
       "      <td>8.9</td>\n",
       "      <td>3</td>\n",
       "      <td>31</td>\n",
       "      <td>20</td>\n",
       "      <td>49.0</td>\n",
       "    </tr>\n",
       "    <tr>\n",
       "      <th>2133</th>\n",
       "      <td>0.003</td>\n",
       "      <td>0.3</td>\n",
       "      <td>0.038</td>\n",
       "      <td>0.013</td>\n",
       "      <td>11.0</td>\n",
       "      <td>5.0</td>\n",
       "      <td>10.5</td>\n",
       "      <td>0.0</td>\n",
       "      <td>3.5</td>\n",
       "      <td>320</td>\n",
       "      <td>51</td>\n",
       "      <td>6.4</td>\n",
       "      <td>1015.4</td>\n",
       "      <td>7.8</td>\n",
       "      <td>3</td>\n",
       "      <td>31</td>\n",
       "      <td>21</td>\n",
       "      <td>51.0</td>\n",
       "    </tr>\n",
       "    <tr>\n",
       "      <th>2134</th>\n",
       "      <td>0.003</td>\n",
       "      <td>0.3</td>\n",
       "      <td>0.036</td>\n",
       "      <td>0.015</td>\n",
       "      <td>11.0</td>\n",
       "      <td>5.0</td>\n",
       "      <td>9.3</td>\n",
       "      <td>0.0</td>\n",
       "      <td>1.9</td>\n",
       "      <td>50</td>\n",
       "      <td>58</td>\n",
       "      <td>6.8</td>\n",
       "      <td>1016.4</td>\n",
       "      <td>7.3</td>\n",
       "      <td>3</td>\n",
       "      <td>31</td>\n",
       "      <td>22</td>\n",
       "      <td>44.0</td>\n",
       "    </tr>\n",
       "  </tbody>\n",
       "</table>\n",
       "<p>2135 rows × 18 columns</p>\n",
       "</div>"
      ],
      "text/plain": [
       "        SO2   CO     O3    NO2  PM10  PM25  기온(°C)  강수량(mm)  풍속(m/s)  \\\n",
       "0     0.004  0.8  0.002  0.052  38.0  24.0    -2.8      0.0      2.3   \n",
       "1     0.004  0.8  0.002  0.052  34.0  23.0    -2.9      0.0      2.1   \n",
       "2     0.004  0.8  0.002  0.052  35.0  26.0    -2.6      0.0      1.9   \n",
       "3     0.004  0.6  0.002  0.046  33.0  24.0    -2.1      0.0      2.5   \n",
       "4     0.003  0.5  0.005  0.039  33.0  25.0    -1.9      0.0      2.0   \n",
       "...     ...  ...    ...    ...   ...   ...     ...      ...      ...   \n",
       "2130  0.002  0.4  0.044  0.010  10.0   9.0    13.2      0.0      4.3   \n",
       "2131  0.002  0.4  0.036  0.017  11.0   8.0    12.3      0.0      2.9   \n",
       "2132  0.002  0.4  0.032  0.018  10.0   7.0    11.6      0.0      2.7   \n",
       "2133  0.003  0.3  0.038  0.013  11.0   5.0    10.5      0.0      3.5   \n",
       "2134  0.003  0.3  0.036  0.015  11.0   5.0     9.3      0.0      1.9   \n",
       "\n",
       "      풍향(16방위)  습도(%)  증기압(hPa)  현지기압(hPa)  지면온도(°C)  month  day  hour  \\\n",
       "0           50     55       2.7     1016.3      -3.3      1    2     0   \n",
       "1           50     57       2.8     1015.8      -3.4      1    2     1   \n",
       "2           50     57       2.9     1015.3      -2.5      1    2     2   \n",
       "3           50     56       2.9     1015.1      -2.1      1    2     3   \n",
       "4           50     55       2.9     1014.3      -2.1      1    2     4   \n",
       "...        ...    ...       ...        ...       ...    ...  ...   ...   \n",
       "2130       340     45       6.8     1013.1      12.4      3   31    18   \n",
       "2131       340     47       6.7     1013.4      10.0      3   31    19   \n",
       "2132       340     48       6.5     1014.6       8.9      3   31    20   \n",
       "2133       320     51       6.4     1015.4       7.8      3   31    21   \n",
       "2134        50     58       6.8     1016.4       7.3      3   31    22   \n",
       "\n",
       "      PM10_lag1  \n",
       "0          23.0  \n",
       "1          20.0  \n",
       "2          20.0  \n",
       "3          19.0  \n",
       "4          24.0  \n",
       "...         ...  \n",
       "2130       29.0  \n",
       "2131       34.0  \n",
       "2132       49.0  \n",
       "2133       51.0  \n",
       "2134       44.0  \n",
       "\n",
       "[2135 rows x 18 columns]"
      ]
     },
     "execution_count": 43,
     "metadata": {},
     "output_type": "execute_result"
    }
   ],
   "source": [
    "x_test"
   ]
  },
  {
   "cell_type": "code",
   "execution_count": 44,
   "id": "c994bd5c",
   "metadata": {},
   "outputs": [
    {
     "data": {
      "text/html": [
       "<div>\n",
       "<style scoped>\n",
       "    .dataframe tbody tr th:only-of-type {\n",
       "        vertical-align: middle;\n",
       "    }\n",
       "\n",
       "    .dataframe tbody tr th {\n",
       "        vertical-align: top;\n",
       "    }\n",
       "\n",
       "    .dataframe thead th {\n",
       "        text-align: right;\n",
       "    }\n",
       "</style>\n",
       "<table border=\"1\" class=\"dataframe\">\n",
       "  <thead>\n",
       "    <tr style=\"text-align: right;\">\n",
       "      <th></th>\n",
       "      <th>SO2</th>\n",
       "      <th>CO</th>\n",
       "      <th>O3</th>\n",
       "      <th>NO2</th>\n",
       "      <th>PM10</th>\n",
       "      <th>PM25</th>\n",
       "      <th>기온(°C)</th>\n",
       "      <th>강수량(mm)</th>\n",
       "      <th>풍속(m/s)</th>\n",
       "      <th>풍향(16방위)</th>\n",
       "      <th>습도(%)</th>\n",
       "      <th>증기압(hPa)</th>\n",
       "      <th>현지기압(hPa)</th>\n",
       "      <th>지면온도(°C)</th>\n",
       "      <th>month</th>\n",
       "      <th>day</th>\n",
       "      <th>hour</th>\n",
       "      <th>PM10_lag1</th>\n",
       "    </tr>\n",
       "  </thead>\n",
       "  <tbody>\n",
       "    <tr>\n",
       "      <th>0</th>\n",
       "      <td>0.002</td>\n",
       "      <td>0.3</td>\n",
       "      <td>0.046</td>\n",
       "      <td>0.012</td>\n",
       "      <td>10.0</td>\n",
       "      <td>7.0</td>\n",
       "      <td>17.0</td>\n",
       "      <td>0.6</td>\n",
       "      <td>2.9</td>\n",
       "      <td>50.0</td>\n",
       "      <td>90</td>\n",
       "      <td>17.4</td>\n",
       "      <td>999.6</td>\n",
       "      <td>17.8</td>\n",
       "      <td>10</td>\n",
       "      <td>2</td>\n",
       "      <td>0</td>\n",
       "      <td>31.0</td>\n",
       "    </tr>\n",
       "    <tr>\n",
       "      <th>1</th>\n",
       "      <td>0.003</td>\n",
       "      <td>0.3</td>\n",
       "      <td>0.041</td>\n",
       "      <td>0.014</td>\n",
       "      <td>9.0</td>\n",
       "      <td>6.0</td>\n",
       "      <td>16.6</td>\n",
       "      <td>0.0</td>\n",
       "      <td>1.8</td>\n",
       "      <td>50.0</td>\n",
       "      <td>90</td>\n",
       "      <td>16.9</td>\n",
       "      <td>999.8</td>\n",
       "      <td>17.6</td>\n",
       "      <td>10</td>\n",
       "      <td>2</td>\n",
       "      <td>1</td>\n",
       "      <td>27.0</td>\n",
       "    </tr>\n",
       "    <tr>\n",
       "      <th>2</th>\n",
       "      <td>0.003</td>\n",
       "      <td>0.3</td>\n",
       "      <td>0.039</td>\n",
       "      <td>0.015</td>\n",
       "      <td>9.0</td>\n",
       "      <td>8.0</td>\n",
       "      <td>16.8</td>\n",
       "      <td>0.0</td>\n",
       "      <td>0.9</td>\n",
       "      <td>20.0</td>\n",
       "      <td>91</td>\n",
       "      <td>17.4</td>\n",
       "      <td>1000.0</td>\n",
       "      <td>17.9</td>\n",
       "      <td>10</td>\n",
       "      <td>2</td>\n",
       "      <td>2</td>\n",
       "      <td>28.0</td>\n",
       "    </tr>\n",
       "    <tr>\n",
       "      <th>3</th>\n",
       "      <td>0.003</td>\n",
       "      <td>0.4</td>\n",
       "      <td>0.029</td>\n",
       "      <td>0.016</td>\n",
       "      <td>10.0</td>\n",
       "      <td>7.0</td>\n",
       "      <td>16.6</td>\n",
       "      <td>0.0</td>\n",
       "      <td>0.9</td>\n",
       "      <td>50.0</td>\n",
       "      <td>93</td>\n",
       "      <td>17.5</td>\n",
       "      <td>1000.5</td>\n",
       "      <td>17.7</td>\n",
       "      <td>10</td>\n",
       "      <td>2</td>\n",
       "      <td>3</td>\n",
       "      <td>26.0</td>\n",
       "    </tr>\n",
       "    <tr>\n",
       "      <th>4</th>\n",
       "      <td>0.002</td>\n",
       "      <td>0.4</td>\n",
       "      <td>0.029</td>\n",
       "      <td>0.016</td>\n",
       "      <td>11.0</td>\n",
       "      <td>9.0</td>\n",
       "      <td>16.7</td>\n",
       "      <td>0.0</td>\n",
       "      <td>1.3</td>\n",
       "      <td>20.0</td>\n",
       "      <td>93</td>\n",
       "      <td>17.6</td>\n",
       "      <td>1001.0</td>\n",
       "      <td>17.4</td>\n",
       "      <td>10</td>\n",
       "      <td>2</td>\n",
       "      <td>4</td>\n",
       "      <td>26.0</td>\n",
       "    </tr>\n",
       "    <tr>\n",
       "      <th>...</th>\n",
       "      <td>...</td>\n",
       "      <td>...</td>\n",
       "      <td>...</td>\n",
       "      <td>...</td>\n",
       "      <td>...</td>\n",
       "      <td>...</td>\n",
       "      <td>...</td>\n",
       "      <td>...</td>\n",
       "      <td>...</td>\n",
       "      <td>...</td>\n",
       "      <td>...</td>\n",
       "      <td>...</td>\n",
       "      <td>...</td>\n",
       "      <td>...</td>\n",
       "      <td>...</td>\n",
       "      <td>...</td>\n",
       "      <td>...</td>\n",
       "      <td>...</td>\n",
       "    </tr>\n",
       "    <tr>\n",
       "      <th>8727</th>\n",
       "      <td>0.003</td>\n",
       "      <td>0.5</td>\n",
       "      <td>0.038</td>\n",
       "      <td>0.024</td>\n",
       "      <td>36.0</td>\n",
       "      <td>24.0</td>\n",
       "      <td>24.2</td>\n",
       "      <td>0.0</td>\n",
       "      <td>2.3</td>\n",
       "      <td>290.0</td>\n",
       "      <td>70</td>\n",
       "      <td>21.0</td>\n",
       "      <td>998.3</td>\n",
       "      <td>22.5</td>\n",
       "      <td>9</td>\n",
       "      <td>30</td>\n",
       "      <td>18</td>\n",
       "      <td>11.0</td>\n",
       "    </tr>\n",
       "    <tr>\n",
       "      <th>8728</th>\n",
       "      <td>0.003</td>\n",
       "      <td>0.7</td>\n",
       "      <td>0.020</td>\n",
       "      <td>0.036</td>\n",
       "      <td>35.0</td>\n",
       "      <td>24.0</td>\n",
       "      <td>22.7</td>\n",
       "      <td>0.0</td>\n",
       "      <td>0.2</td>\n",
       "      <td>0.0</td>\n",
       "      <td>71</td>\n",
       "      <td>19.5</td>\n",
       "      <td>998.4</td>\n",
       "      <td>20.6</td>\n",
       "      <td>9</td>\n",
       "      <td>30</td>\n",
       "      <td>19</td>\n",
       "      <td>15.0</td>\n",
       "    </tr>\n",
       "    <tr>\n",
       "      <th>8729</th>\n",
       "      <td>0.003</td>\n",
       "      <td>0.6</td>\n",
       "      <td>0.016</td>\n",
       "      <td>0.035</td>\n",
       "      <td>34.0</td>\n",
       "      <td>21.0</td>\n",
       "      <td>21.7</td>\n",
       "      <td>0.0</td>\n",
       "      <td>0.9</td>\n",
       "      <td>320.0</td>\n",
       "      <td>79</td>\n",
       "      <td>20.4</td>\n",
       "      <td>998.8</td>\n",
       "      <td>19.9</td>\n",
       "      <td>9</td>\n",
       "      <td>30</td>\n",
       "      <td>20</td>\n",
       "      <td>18.0</td>\n",
       "    </tr>\n",
       "    <tr>\n",
       "      <th>8730</th>\n",
       "      <td>0.003</td>\n",
       "      <td>0.6</td>\n",
       "      <td>0.012</td>\n",
       "      <td>0.036</td>\n",
       "      <td>30.0</td>\n",
       "      <td>19.0</td>\n",
       "      <td>20.9</td>\n",
       "      <td>0.0</td>\n",
       "      <td>0.4</td>\n",
       "      <td>0.0</td>\n",
       "      <td>83</td>\n",
       "      <td>20.4</td>\n",
       "      <td>999.2</td>\n",
       "      <td>19.2</td>\n",
       "      <td>9</td>\n",
       "      <td>30</td>\n",
       "      <td>21</td>\n",
       "      <td>15.0</td>\n",
       "    </tr>\n",
       "    <tr>\n",
       "      <th>8731</th>\n",
       "      <td>0.003</td>\n",
       "      <td>0.6</td>\n",
       "      <td>0.004</td>\n",
       "      <td>0.042</td>\n",
       "      <td>33.0</td>\n",
       "      <td>19.0</td>\n",
       "      <td>20.4</td>\n",
       "      <td>0.0</td>\n",
       "      <td>0.8</td>\n",
       "      <td>70.0</td>\n",
       "      <td>81</td>\n",
       "      <td>19.4</td>\n",
       "      <td>999.2</td>\n",
       "      <td>18.6</td>\n",
       "      <td>9</td>\n",
       "      <td>30</td>\n",
       "      <td>22</td>\n",
       "      <td>14.0</td>\n",
       "    </tr>\n",
       "  </tbody>\n",
       "</table>\n",
       "<p>8732 rows × 18 columns</p>\n",
       "</div>"
      ],
      "text/plain": [
       "        SO2   CO     O3    NO2  PM10  PM25  기온(°C)  강수량(mm)  풍속(m/s)  \\\n",
       "0     0.002  0.3  0.046  0.012  10.0   7.0    17.0      0.6      2.9   \n",
       "1     0.003  0.3  0.041  0.014   9.0   6.0    16.6      0.0      1.8   \n",
       "2     0.003  0.3  0.039  0.015   9.0   8.0    16.8      0.0      0.9   \n",
       "3     0.003  0.4  0.029  0.016  10.0   7.0    16.6      0.0      0.9   \n",
       "4     0.002  0.4  0.029  0.016  11.0   9.0    16.7      0.0      1.3   \n",
       "...     ...  ...    ...    ...   ...   ...     ...      ...      ...   \n",
       "8727  0.003  0.5  0.038  0.024  36.0  24.0    24.2      0.0      2.3   \n",
       "8728  0.003  0.7  0.020  0.036  35.0  24.0    22.7      0.0      0.2   \n",
       "8729  0.003  0.6  0.016  0.035  34.0  21.0    21.7      0.0      0.9   \n",
       "8730  0.003  0.6  0.012  0.036  30.0  19.0    20.9      0.0      0.4   \n",
       "8731  0.003  0.6  0.004  0.042  33.0  19.0    20.4      0.0      0.8   \n",
       "\n",
       "      풍향(16방위)  습도(%)  증기압(hPa)  현지기압(hPa)  지면온도(°C)  month  day  hour  \\\n",
       "0         50.0     90      17.4      999.6      17.8     10    2     0   \n",
       "1         50.0     90      16.9      999.8      17.6     10    2     1   \n",
       "2         20.0     91      17.4     1000.0      17.9     10    2     2   \n",
       "3         50.0     93      17.5     1000.5      17.7     10    2     3   \n",
       "4         20.0     93      17.6     1001.0      17.4     10    2     4   \n",
       "...        ...    ...       ...        ...       ...    ...  ...   ...   \n",
       "8727     290.0     70      21.0      998.3      22.5      9   30    18   \n",
       "8728       0.0     71      19.5      998.4      20.6      9   30    19   \n",
       "8729     320.0     79      20.4      998.8      19.9      9   30    20   \n",
       "8730       0.0     83      20.4      999.2      19.2      9   30    21   \n",
       "8731      70.0     81      19.4      999.2      18.6      9   30    22   \n",
       "\n",
       "      PM10_lag1  \n",
       "0          31.0  \n",
       "1          27.0  \n",
       "2          28.0  \n",
       "3          26.0  \n",
       "4          26.0  \n",
       "...         ...  \n",
       "8727       11.0  \n",
       "8728       15.0  \n",
       "8729       18.0  \n",
       "8730       15.0  \n",
       "8731       14.0  \n",
       "\n",
       "[8732 rows x 18 columns]"
      ]
     },
     "execution_count": 44,
     "metadata": {},
     "output_type": "execute_result"
    }
   ],
   "source": [
    "x_train"
   ]
  },
  {
   "cell_type": "markdown",
   "id": "66dca0e8-a0d1-4562-8afe-3e8f85733393",
   "metadata": {
    "tags": []
   },
   "source": [
    "#### **<span style=\"color:blue\">[3-2] 모델링: LinearRegression</span>**"
   ]
  },
  {
   "cell_type": "markdown",
   "id": "joined-client",
   "metadata": {},
   "source": [
    "* Train과 Test로 나눈 데이터를 기준으로 LinearRegression 모델링을 진행하고 평가를 해주세요.\n",
    "* 그리고 모델 파일을 pkl로 저장해주세요.\n",
    "* 성능지표 : MSE, R-squared Score(소수점 5째자리까지)"
   ]
  },
  {
   "cell_type": "code",
   "execution_count": 45,
   "id": "willing-disclaimer",
   "metadata": {},
   "outputs": [
    {
     "data": {
      "text/plain": [
       "LinearRegression()"
      ]
     },
     "execution_count": 45,
     "metadata": {},
     "output_type": "execute_result"
    }
   ],
   "source": [
    "# LinearRegression 코드를 작성하세요.\n",
    "model = LinearRegression()\n",
    "model.fit(x_train,y_train)"
   ]
  },
  {
   "cell_type": "code",
   "execution_count": 46,
   "id": "34e3d420-703f-4de5-bd81-4b1b167318e2",
   "metadata": {},
   "outputs": [],
   "source": [
    "# predict로 예측하여 y_pred_LR에 저장해보세요.\n",
    "y_pred_LR = model.predict(x_test)"
   ]
  },
  {
   "cell_type": "code",
   "execution_count": 47,
   "id": "0a21d60f",
   "metadata": {},
   "outputs": [
    {
     "name": "stdout",
     "output_type": "stream",
     "text": [
      "mse: 37.43321087025133\n",
      "r2 : 0.932947722502021\n"
     ]
    }
   ],
   "source": [
    "# test_y 데이터와 y_pred_LR 데이터로 성능을 평가하여 출력해보세요.\n",
    "# 성능지표는 mse와 r2를 이용하세요.\n",
    "print('mse:',mse(y_test,y_pred_LR))\n",
    "print('r2 :',r2_score(y_test,y_pred_LR))\n"
   ]
  },
  {
   "cell_type": "code",
   "execution_count": 48,
   "id": "fe2096b7",
   "metadata": {},
   "outputs": [
    {
     "data": {
      "text/plain": [
       "['./LR_model.pkl']"
      ]
     },
     "execution_count": 48,
     "metadata": {},
     "output_type": "execute_result"
    }
   ],
   "source": [
    "# 학습한 모델을 pkl 파일로 저장해보세요.\n",
    "joblib.dump(model, './LR_model.pkl')"
   ]
  },
  {
   "cell_type": "markdown",
   "id": "44e1265e-939a-41d6-87cd-98211da2b7d1",
   "metadata": {
    "tags": []
   },
   "source": [
    "# [Step 4] 머신러닝 모델링2"
   ]
  },
  {
   "cell_type": "markdown",
   "id": "093d7a22-50bd-401d-9655-30002e8b5985",
   "metadata": {
    "tags": []
   },
   "source": [
    "#### **<span style=\"color:blue\">(선택 수행)[4-1] 모델링: 랜덤포레스트</span>**"
   ]
  },
  {
   "cell_type": "markdown",
   "id": "crazy-escape",
   "metadata": {},
   "source": [
    "* 랜덤포레스트: 배깅의 일종으로 의사결정나무(Decision Tree) 여러 개를 모아서 숲을 랜덤으로 구성하고 이를 종합해서 최종 모델을 산출하는 기법\n",
    "* Train과 Test로 나눈 데이터를 기준으로 렌덤포레스트로 모델을 학습을 진행하고 평가를 해주세요.\n",
    "* 그리고 모델 파일을 pkl로 저장해주세요.\n",
    "* 성능지표 : MSE, R-squared Score(소수점 5째자리까지)"
   ]
  },
  {
   "cell_type": "code",
   "execution_count": 49,
   "id": "guilty-score",
   "metadata": {},
   "outputs": [
    {
     "name": "stderr",
     "output_type": "stream",
     "text": [
      "c:\\Users\\sagvd17\\Anaconda3\\envs\\jpytorch\\lib\\site-packages\\ipykernel_launcher.py:3: DataConversionWarning: A column-vector y was passed when a 1d array was expected. Please change the shape of y to (n_samples,), for example using ravel().\n",
      "  This is separate from the ipykernel package so we can avoid doing imports until\n"
     ]
    },
    {
     "data": {
      "text/plain": [
       "RandomForestRegressor(max_depth=5, random_state=1)"
      ]
     },
     "execution_count": 49,
     "metadata": {},
     "output_type": "execute_result"
    }
   ],
   "source": [
    "# 아래에 필요한 코드를 작성하고 결과를 확인합니다.\n",
    "model = RFR(max_depth=5, random_state=1)\n",
    "model.fit(x_train,y_train)"
   ]
  },
  {
   "cell_type": "code",
   "execution_count": 50,
   "id": "10b33a11",
   "metadata": {},
   "outputs": [
    {
     "name": "stdout",
     "output_type": "stream",
     "text": [
      "mse: 40.48350989072956\n",
      "r2 : 0.9223579574536955\n"
     ]
    }
   ],
   "source": [
    "# Test 데이터로 성능을 평가해보세요.\n",
    "y_pred_RFR = model.predict(x_test)\n",
    "print('mse:',mse(y_pred_RFR,y_test))\n",
    "print('r2 :',r2_score(y_pred_RFR,y_test))"
   ]
  },
  {
   "cell_type": "code",
   "execution_count": 51,
   "id": "41971ff8",
   "metadata": {},
   "outputs": [
    {
     "data": {
      "text/plain": [
       "['./RFR_model.pkl']"
      ]
     },
     "execution_count": 51,
     "metadata": {},
     "output_type": "execute_result"
    }
   ],
   "source": [
    "# 학습한 모델을 파일로 저장해보세요.\n",
    "joblib.dump(model, './RFR_model.pkl')"
   ]
  },
  {
   "cell_type": "code",
   "execution_count": 52,
   "id": "e19f84b0",
   "metadata": {},
   "outputs": [
    {
     "name": "stdout",
     "output_type": "stream",
     "text": [
      "Index(['SO2', 'CO', 'O3', 'NO2', 'PM10', 'PM25', '기온(°C)', '강수량(mm)',\n",
      "       '풍속(m/s)', '풍향(16방위)', '습도(%)', '증기압(hPa)', '현지기압(hPa)', '지면온도(°C)',\n",
      "       'month', 'day', 'hour', 'PM10_lag1'],\n",
      "      dtype='object')\n",
      "[0.    0.001 0.001 0.    0.962 0.02  0.    0.    0.    0.    0.003 0.001\n",
      " 0.004 0.    0.    0.001 0.002 0.001]\n"
     ]
    }
   ],
   "source": [
    "# (다음 진행은 선택입니다)\n",
    "# 렌덤포레스트로 학습한 모델의 feature_importances를 구해보세요.\n",
    "# 확인할 수 있는 내용으로 우리 모델에서의 인사이트를 정리해보세요.\n",
    "# Feature의 중요도 확인\n",
    "import numpy as np\n",
    "print(x_train.columns)\n",
    "print(np.round(model.feature_importances_,3))\n",
    "\n"
   ]
  },
  {
   "cell_type": "code",
   "execution_count": 53,
   "id": "2b4eb2bb",
   "metadata": {},
   "outputs": [],
   "source": [
    "import matplotlib.pyplot as plt\n",
    "import seaborn as sns\n",
    "# sns.scatterplot(x_test['PM10'])\n",
    "# sns.kdeplot(y_test) \n",
    "# plt.show()"
   ]
  },
  {
   "cell_type": "code",
   "execution_count": 54,
   "id": "af7989f3",
   "metadata": {},
   "outputs": [],
   "source": [
    "# (선택) 확인할 수 있는 인사이트\n",
    "# 1. 현재시간의 미세먼지 농도는 다음시간의 미세먼지 농도에 영향을 미친다\n",
    "# 2.\n",
    "# 3."
   ]
  },
  {
   "cell_type": "code",
   "execution_count": 55,
   "id": "dfa21b04",
   "metadata": {},
   "outputs": [
    {
     "name": "stderr",
     "output_type": "stream",
     "text": [
      "c:\\Users\\sagvd17\\Anaconda3\\envs\\jpytorch\\lib\\site-packages\\ipykernel_launcher.py:2: DataConversionWarning: A column-vector y was passed when a 1d array was expected. Please change the shape of y to (n_samples,), for example using ravel().\n",
      "  \n"
     ]
    },
    {
     "name": "stdout",
     "output_type": "stream",
     "text": [
      "mse: 283.057833719622\n",
      "r2 : 0.5043466026941981\n",
      "Index(['SO2', 'CO', 'O3', 'NO2', 'PM25', '기온(°C)', '강수량(mm)', '풍속(m/s)',\n",
      "       '풍향(16방위)', '습도(%)', '증기압(hPa)', '현지기압(hPa)', '지면온도(°C)', 'month',\n",
      "       'day', 'hour', 'PM10_lag1'],\n",
      "      dtype='object')\n",
      "[0.    0.061 0.002 0.001 0.575 0.001 0.    0.002 0.001 0.004 0.011 0.272\n",
      " 0.002 0.019 0.008 0.002 0.039]\n"
     ]
    }
   ],
   "source": [
    "model = RFR(max_depth=5, random_state=1)\n",
    "model.fit(x_train.drop('PM10',axis=1),y_train)\n",
    "e = model.predict(x_test.drop('PM10',axis=1))\n",
    "print('mse:',mse(e,y_test))\n",
    "print('r2 :',r2_score(e,y_test))\n",
    "print(x_train.drop('PM10',axis=1).columns)\n",
    "print(np.round(model.feature_importances_,3))"
   ]
  },
  {
   "cell_type": "code",
   "execution_count": 56,
   "id": "0e65ed51",
   "metadata": {},
   "outputs": [
    {
     "name": "stderr",
     "output_type": "stream",
     "text": [
      "c:\\Users\\sagvd17\\Anaconda3\\envs\\jpytorch\\lib\\site-packages\\ipykernel_launcher.py:2: DataConversionWarning: A column-vector y was passed when a 1d array was expected. Please change the shape of y to (n_samples,), for example using ravel().\n",
      "  \n"
     ]
    },
    {
     "name": "stdout",
     "output_type": "stream",
     "text": [
      "mse: 461.19730077399583\n",
      "r2 : -0.5037124322398856\n",
      "Index(['SO2', 'CO', 'O3', 'NO2', '기온(°C)', '강수량(mm)', '풍속(m/s)', '풍향(16방위)',\n",
      "       '습도(%)', '증기압(hPa)', '현지기압(hPa)', '지면온도(°C)', 'month', 'day', 'hour',\n",
      "       'PM10_lag1'],\n",
      "      dtype='object')\n",
      "[0.003 0.133 0.098 0.035 0.009 0.    0.029 0.012 0.015 0.053 0.141 0.01\n",
      " 0.023 0.249 0.002 0.188]\n"
     ]
    }
   ],
   "source": [
    "model = RFR(max_depth=5, random_state=1)\n",
    "model.fit(x_train.drop(['PM10','PM25'],axis=1),y_train)\n",
    "f = model.predict(x_test.drop(['PM10','PM25'],axis=1))\n",
    "print('mse:',mse(f,y_test))\n",
    "print('r2 :',r2_score(f,y_test))\n",
    "print(x_train.drop(['PM10','PM25'],axis=1).columns)\n",
    "print(np.round(model.feature_importances_,3))"
   ]
  },
  {
   "cell_type": "code",
   "execution_count": 57,
   "id": "8f4c49d3",
   "metadata": {},
   "outputs": [
    {
     "name": "stderr",
     "output_type": "stream",
     "text": [
      "c:\\Users\\sagvd17\\Anaconda3\\envs\\jpytorch\\lib\\site-packages\\ipykernel_launcher.py:2: DataConversionWarning: A column-vector y was passed when a 1d array was expected. Please change the shape of y to (n_samples,), for example using ravel().\n",
      "  \n"
     ]
    },
    {
     "name": "stdout",
     "output_type": "stream",
     "text": [
      "mse: 285.98444733223016\n",
      "r2 : 0.5146627777715659\n",
      "Index(['SO2', 'CO', 'O3', 'NO2', 'PM25', '기온(°C)', '강수량(mm)', '풍속(m/s)',\n",
      "       '풍향(16방위)', '습도(%)', '현지기압(hPa)', '지면온도(°C)', 'month', 'day', 'hour',\n",
      "       'PM10_lag1'],\n",
      "      dtype='object')\n",
      "[0.    0.059 0.003 0.002 0.576 0.003 0.    0.002 0.002 0.005 0.271 0.002\n",
      " 0.024 0.009 0.002 0.039]\n"
     ]
    }
   ],
   "source": [
    "model = RFR(max_depth=5, random_state=1)\n",
    "model.fit(x_train.drop(['PM10','증기압(hPa)'],axis=1),y_train)\n",
    "g = model.predict(x_test.drop(['PM10','증기압(hPa)'],axis=1))\n",
    "print('mse:',mse(g,y_test))\n",
    "print('r2 :',r2_score(g,y_test))\n",
    "print(x_train.drop(['PM10','증기압(hPa)'],axis=1).columns)\n",
    "print(np.round(model.feature_importances_,3))"
   ]
  },
  {
   "cell_type": "code",
   "execution_count": 58,
   "id": "08c5a0b7",
   "metadata": {},
   "outputs": [
    {
     "name": "stderr",
     "output_type": "stream",
     "text": [
      "c:\\Users\\sagvd17\\Anaconda3\\envs\\jpytorch\\lib\\site-packages\\ipykernel_launcher.py:2: DataConversionWarning: A column-vector y was passed when a 1d array was expected. Please change the shape of y to (n_samples,), for example using ravel().\n",
      "  \n"
     ]
    },
    {
     "name": "stdout",
     "output_type": "stream",
     "text": [
      "mse: 270.95453625070303\n",
      "r2 : 0.5263622220974027\n",
      "Index(['SO2', 'O3', 'NO2', 'PM25', '기온(°C)', '강수량(mm)', '풍속(m/s)', '풍향(16방위)',\n",
      "       '습도(%)', '증기압(hPa)', '현지기압(hPa)', '지면온도(°C)', 'month', 'day', 'hour',\n",
      "       'PM10_lag1'],\n",
      "      dtype='object')\n",
      "[0.    0.001 0.001 0.605 0.004 0.    0.002 0.002 0.005 0.017 0.295 0.001\n",
      " 0.023 0.009 0.002 0.032]\n"
     ]
    }
   ],
   "source": [
    "model = RFR(max_depth=5, random_state=1)\n",
    "model.fit(x_train.drop(['PM10','CO'],axis=1),y_train)\n",
    "h = model.predict(x_test.drop(['PM10','CO'],axis=1))\n",
    "print('mse:',mse(h,y_test))\n",
    "print('r2 :',r2_score(h,y_test))\n",
    "print(x_train.drop(['PM10','CO'],axis=1).columns)\n",
    "print(np.round(model.feature_importances_,3))"
   ]
  },
  {
   "cell_type": "code",
   "execution_count": 59,
   "id": "97699d1b",
   "metadata": {},
   "outputs": [
    {
     "name": "stderr",
     "output_type": "stream",
     "text": [
      "c:\\Users\\sagvd17\\Anaconda3\\envs\\jpytorch\\lib\\site-packages\\ipykernel_launcher.py:2: DataConversionWarning: A column-vector y was passed when a 1d array was expected. Please change the shape of y to (n_samples,), for example using ravel().\n",
      "  \n"
     ]
    },
    {
     "name": "stdout",
     "output_type": "stream",
     "text": [
      "mse: 278.8400216054299\n",
      "r2 : 0.526817974437586\n",
      "Index(['SO2', 'CO', 'O3', 'NO2', 'PM25', '기온(°C)', '강수량(mm)', '풍속(m/s)',\n",
      "       '풍향(16방위)', '습도(%)', '증기압(hPa)', '현지기압(hPa)', '지면온도(°C)', 'month',\n",
      "       'day', 'hour'],\n",
      "      dtype='object')\n",
      "[0.    0.062 0.003 0.001 0.578 0.002 0.    0.003 0.002 0.005 0.011 0.283\n",
      " 0.003 0.022 0.021 0.003]\n"
     ]
    }
   ],
   "source": [
    "\n",
    "\n",
    "model = RFR(max_depth=5, random_state=1)\n",
    "model.fit(x_train.drop(['PM10','PM10_lag1'],axis=1),y_train)\n",
    "i = model.predict(x_test.drop(['PM10','PM10_lag1'],axis=1))\n",
    "print('mse:',mse(i,y_test))\n",
    "print('r2 :',r2_score(i,y_test))\n",
    "print(x_train.drop(['PM10','PM10_lag1'],axis=1).columns)\n",
    "print(np.round(model.feature_importances_,3))"
   ]
  },
  {
   "cell_type": "code",
   "execution_count": 76,
   "id": "353882ff",
   "metadata": {},
   "outputs": [
    {
     "name": "stderr",
     "output_type": "stream",
     "text": [
      "c:\\Users\\sagvd17\\Anaconda3\\envs\\jpytorch\\lib\\site-packages\\ipykernel_launcher.py:2: DataConversionWarning: A column-vector y was passed when a 1d array was expected. Please change the shape of y to (n_samples,), for example using ravel().\n",
      "  \n"
     ]
    },
    {
     "name": "stdout",
     "output_type": "stream",
     "text": [
      "mse: 40.40165713163392\n",
      "r2 : 0.9224528224344097\n",
      "Index(['SO2', 'O3', 'NO2', 'PM10', 'PM25', '기온(°C)', '강수량(mm)', '풍속(m/s)',\n",
      "       '풍향(16방위)', '습도(%)', '증기압(hPa)', '현지기압(hPa)', '지면온도(°C)', 'month',\n",
      "       'day', 'hour'],\n",
      "      dtype='object')\n",
      "[0.    0.001 0.    0.966 0.017 0.    0.    0.    0.    0.004 0.001 0.005\n",
      " 0.    0.    0.002 0.002]\n"
     ]
    }
   ],
   "source": [
    "model = RFR(max_depth=5, random_state=1)\n",
    "model.fit(x_train.drop(['CO','PM10_lag1'],axis=1),y_train)\n",
    "r = model.predict(x_test.drop(['CO','PM10_lag1'],axis=1))\n",
    "print('mse:',mse(r,y_test))\n",
    "print('r2 :',r2_score(r,y_test))\n",
    "print(x_train.drop(['CO','PM10_lag1'],axis=1).columns)\n",
    "print(np.round(model.feature_importances_,3))"
   ]
  },
  {
   "cell_type": "code",
   "execution_count": 60,
   "id": "2e6dba5e",
   "metadata": {},
   "outputs": [
    {
     "data": {
      "text/html": [
       "<div>\n",
       "<style scoped>\n",
       "    .dataframe tbody tr th:only-of-type {\n",
       "        vertical-align: middle;\n",
       "    }\n",
       "\n",
       "    .dataframe tbody tr th {\n",
       "        vertical-align: top;\n",
       "    }\n",
       "\n",
       "    .dataframe thead th {\n",
       "        text-align: right;\n",
       "    }\n",
       "</style>\n",
       "<table border=\"1\" class=\"dataframe\">\n",
       "  <thead>\n",
       "    <tr style=\"text-align: right;\">\n",
       "      <th></th>\n",
       "      <th>PM10_1</th>\n",
       "    </tr>\n",
       "  </thead>\n",
       "  <tbody>\n",
       "    <tr>\n",
       "      <th>0</th>\n",
       "      <td>34.0</td>\n",
       "    </tr>\n",
       "    <tr>\n",
       "      <th>1</th>\n",
       "      <td>35.0</td>\n",
       "    </tr>\n",
       "    <tr>\n",
       "      <th>2</th>\n",
       "      <td>33.0</td>\n",
       "    </tr>\n",
       "    <tr>\n",
       "      <th>3</th>\n",
       "      <td>33.0</td>\n",
       "    </tr>\n",
       "    <tr>\n",
       "      <th>4</th>\n",
       "      <td>32.0</td>\n",
       "    </tr>\n",
       "    <tr>\n",
       "      <th>...</th>\n",
       "      <td>...</td>\n",
       "    </tr>\n",
       "    <tr>\n",
       "      <th>2130</th>\n",
       "      <td>11.0</td>\n",
       "    </tr>\n",
       "    <tr>\n",
       "      <th>2131</th>\n",
       "      <td>10.0</td>\n",
       "    </tr>\n",
       "    <tr>\n",
       "      <th>2132</th>\n",
       "      <td>11.0</td>\n",
       "    </tr>\n",
       "    <tr>\n",
       "      <th>2133</th>\n",
       "      <td>11.0</td>\n",
       "    </tr>\n",
       "    <tr>\n",
       "      <th>2134</th>\n",
       "      <td>9.0</td>\n",
       "    </tr>\n",
       "  </tbody>\n",
       "</table>\n",
       "<p>2135 rows × 1 columns</p>\n",
       "</div>"
      ],
      "text/plain": [
       "      PM10_1\n",
       "0       34.0\n",
       "1       35.0\n",
       "2       33.0\n",
       "3       33.0\n",
       "4       32.0\n",
       "...      ...\n",
       "2130    11.0\n",
       "2131    10.0\n",
       "2132    11.0\n",
       "2133    11.0\n",
       "2134     9.0\n",
       "\n",
       "[2135 rows x 1 columns]"
      ]
     },
     "execution_count": 60,
     "metadata": {},
     "output_type": "execute_result"
    }
   ],
   "source": [
    "y_test"
   ]
  },
  {
   "cell_type": "code",
   "execution_count": 61,
   "id": "8309f01a",
   "metadata": {},
   "outputs": [
    {
     "data": {
      "text/plain": [
       "array([41.86324802, 41.66394223, 50.31065835, ..., 13.40469409,\n",
       "        9.29121611,  9.37752618])"
      ]
     },
     "execution_count": 61,
     "metadata": {},
     "output_type": "execute_result"
    }
   ],
   "source": [
    "e"
   ]
  },
  {
   "cell_type": "markdown",
   "id": "95401368-9bff-4118-b07a-92b833e33f20",
   "metadata": {
    "tags": []
   },
   "source": [
    "#### **<span style=\"color:blue\">(선택 수행)[4-2] 모델링: GradientBoosting</span>**"
   ]
  },
  {
   "cell_type": "markdown",
   "id": "convinced-vocabulary",
   "metadata": {},
   "source": [
    "* GradientBoosting: 앞선 모델의 에러를 다음 모델의 예측 값으로 활용하면서 가중치 업데이트 하는데 경사하강법(Gradient Descent)를 활용해서 최적 모델을 만드는 기법\n",
    "* Train과 Test로 나눈 데이터를 기준으로 그라디언트부스팅으로 모델을 학습을 진행하고 평가를 해주세요.\n",
    "* 그리고 모델 파일을 pkl로 저장해주세요.\n",
    "* 성능지표 : RMSE, R-squared Score(소수점 5째자리까지)"
   ]
  },
  {
   "cell_type": "code",
   "execution_count": 62,
   "id": "continent-olympus",
   "metadata": {},
   "outputs": [
    {
     "name": "stderr",
     "output_type": "stream",
     "text": [
      "c:\\Users\\sagvd17\\Anaconda3\\envs\\jpytorch\\lib\\site-packages\\sklearn\\ensemble\\_gb.py:494: DataConversionWarning: A column-vector y was passed when a 1d array was expected. Please change the shape of y to (n_samples, ), for example using ravel().\n",
      "  y = column_or_1d(y, warn=True)\n"
     ]
    },
    {
     "data": {
      "text/plain": [
       "GradientBoostingRegressor(max_depth=5, random_state=1)"
      ]
     },
     "execution_count": 62,
     "metadata": {},
     "output_type": "execute_result"
    }
   ],
   "source": [
    "# 아래에 필요한 코드를 작성하고 결과를 확인합니다.\n",
    "model = GBR(max_depth=5,random_state=1)\n",
    "model.fit(x_train,y_train)"
   ]
  },
  {
   "cell_type": "code",
   "execution_count": 63,
   "id": "241dbcdc",
   "metadata": {},
   "outputs": [
    {
     "name": "stdout",
     "output_type": "stream",
     "text": [
      "rmse:  6.281779295244021\n",
      "r2 :  0.9293158889533608\n"
     ]
    }
   ],
   "source": [
    "# Test 데이터로 성능을 평가해보세요.\n",
    "y_pred_GBR = model.predict(x_test)\n",
    "print('rmse: ',mse(y_test,y_pred_GBR)**0.5)\n",
    "print('r2 : ',r2_score(y_test,y_pred_GBR))"
   ]
  },
  {
   "cell_type": "code",
   "execution_count": 64,
   "id": "9bdccb80",
   "metadata": {},
   "outputs": [
    {
     "data": {
      "text/plain": [
       "['./GBR_model.pkl']"
      ]
     },
     "execution_count": 64,
     "metadata": {},
     "output_type": "execute_result"
    }
   ],
   "source": [
    "# 학습한 모델을 파일로 저장해보세요.\n",
    "joblib.dump(model, './GBR_model.pkl')"
   ]
  },
  {
   "cell_type": "code",
   "execution_count": 65,
   "id": "8deba58d",
   "metadata": {},
   "outputs": [
    {
     "name": "stdout",
     "output_type": "stream",
     "text": [
      "Index(['SO2', 'CO', 'O3', 'NO2', 'PM10', 'PM25', '기온(°C)', '강수량(mm)',\n",
      "       '풍속(m/s)', '풍향(16방위)', '습도(%)', '증기압(hPa)', '현지기압(hPa)', '지면온도(°C)',\n",
      "       'month', 'day', 'hour', 'PM10_lag1'],\n",
      "      dtype='object')\n"
     ]
    },
    {
     "data": {
      "text/plain": [
       "array([5.3000e-04, 2.7900e-03, 1.8200e-03, 8.0000e-04, 9.6987e-01,\n",
       "       5.8400e-03, 1.7400e-03, 5.1000e-04, 9.3000e-04, 7.7000e-04,\n",
       "       3.0400e-03, 1.1600e-03, 3.7200e-03, 1.6000e-03, 1.9000e-04,\n",
       "       2.0200e-03, 9.7000e-04, 1.7100e-03])"
      ]
     },
     "execution_count": 65,
     "metadata": {},
     "output_type": "execute_result"
    }
   ],
   "source": [
    "# (다음 진행은 선택입니다)\n",
    "# 그라디언트부스팅으로 학습한 모델의 feature_importances를 구해보세요.\n",
    "# 확인할 수 있는 내용으로 우리 모델에서의 인사이트를 정리해보세요.\n",
    "# Feature의 중요도 확인\n",
    "print(x_train.columns)\n",
    "np.around(model.feature_importances_,5)\n"
   ]
  },
  {
   "cell_type": "code",
   "execution_count": 66,
   "id": "9d1bfe7d",
   "metadata": {
    "tags": []
   },
   "outputs": [],
   "source": [
    "# 확인할 수 있는 인사이트\n",
    "# 1.PM10의 가중치가 높음\n",
    "# 2.PM10 >>>>>>>>>>>>>>>>>>> PM2.5 > CO\n",
    "# 3."
   ]
  },
  {
   "cell_type": "markdown",
   "id": "eb89852b-b155-4f0a-aaef-2a035caccda7",
   "metadata": {
    "tags": []
   },
   "source": [
    "#### **<span style=\"color:blue\">(선택 수행)[4-3] 모델링: Self Choice Model</span>**"
   ]
  },
  {
   "cell_type": "markdown",
   "id": "305bbd5b",
   "metadata": {},
   "source": [
    "* Self Choice Model: 앞선 교육과정에서 배운 머신러닝 모델 중 어떤 것이든 좋습니다. 원하는 모델을 선택해서 학습을 시켜보세요.\n",
    "* Train과 Test로 나눈 데이터를 기준으로 Self Choice Model로 모델을 학습을 진행하고 평가를 해주세요.\n",
    "* 그리고 모델 파일을 pkl로 저장해주세요.\n",
    "* 성능지표 : RMSE, R-squared Score(소수점 5째자리까지)"
   ]
  },
  {
   "cell_type": "code",
   "execution_count": 67,
   "id": "a2c66605",
   "metadata": {},
   "outputs": [
    {
     "name": "stderr",
     "output_type": "stream",
     "text": [
      "c:\\Users\\sagvd17\\Anaconda3\\envs\\jpytorch\\lib\\site-packages\\sklearn\\utils\\validation.py:993: DataConversionWarning: A column-vector y was passed when a 1d array was expected. Please change the shape of y to (n_samples, ), for example using ravel().\n",
      "  y = column_or_1d(y, warn=True)\n"
     ]
    },
    {
     "data": {
      "text/plain": [
       "SVR(C=0.01, gamma=0.5)"
      ]
     },
     "execution_count": 67,
     "metadata": {},
     "output_type": "execute_result"
    }
   ],
   "source": [
    "# 아래에 필요한 코드를 작성하고 결과를 확인합니다.\n",
    "from sklearn.svm import SVR\n",
    "model = SVR(kernel='rbf',C=0.01,gamma=0.5)\n",
    "model.fit(x_train,y_train)"
   ]
  },
  {
   "cell_type": "code",
   "execution_count": 68,
   "id": "23d000bf",
   "metadata": {},
   "outputs": [],
   "source": [
    "y_pred_svm = model.predict(x_test)"
   ]
  },
  {
   "cell_type": "code",
   "execution_count": 69,
   "id": "546ac8bf",
   "metadata": {},
   "outputs": [
    {
     "name": "stdout",
     "output_type": "stream",
     "text": [
      "rmse: 26.08935486514733\n",
      "r2: -0.21922296131352903\n"
     ]
    }
   ],
   "source": [
    "# Test 데이터로 성능을 평가해보세요.\n",
    "print('rmse:',mse(y_test,y_pred_svm)**0.5)\n",
    "print('r2:',r2_score(y_test,y_pred_svm))"
   ]
  },
  {
   "cell_type": "code",
   "execution_count": 70,
   "id": "ff5d36da",
   "metadata": {},
   "outputs": [
    {
     "data": {
      "text/plain": [
       "array([29.89083679, 29.89083679, 29.89083679, ..., 29.89083679,\n",
       "       29.89083679, 29.89083679])"
      ]
     },
     "execution_count": 70,
     "metadata": {},
     "output_type": "execute_result"
    }
   ],
   "source": [
    "y_pred_svm"
   ]
  },
  {
   "cell_type": "code",
   "execution_count": 71,
   "id": "e69d0d7c",
   "metadata": {},
   "outputs": [],
   "source": [
    "# 학습한 모델을 파일로 저장해보세요.\n",
    "\n",
    "\n"
   ]
  },
  {
   "cell_type": "code",
   "execution_count": 72,
   "id": "f83b16b7",
   "metadata": {},
   "outputs": [],
   "source": [
    "# (다음 진행은 선택입니다)\n",
    "# 그라디언트부스팅으로 학습한 모델의 feature_importances를 구해보세요.\n",
    "# 확인할 수 있는 내용으로 우리 모델에서의 인사이트를 정리해보세요.\n",
    "# Feature의 중요도 확인\n",
    "\n"
   ]
  },
  {
   "cell_type": "code",
   "execution_count": 73,
   "id": "67e6d924",
   "metadata": {},
   "outputs": [],
   "source": [
    "# Feature의 중요도 확인\n",
    "\n",
    "\n",
    "\n"
   ]
  },
  {
   "cell_type": "code",
   "execution_count": 74,
   "id": "a8ac782c",
   "metadata": {},
   "outputs": [],
   "source": [
    "# 확인할 수 있는 인사이트\n",
    "# 1.\n",
    "# 2.\n",
    "# 3."
   ]
  },
  {
   "cell_type": "code",
   "execution_count": 86,
   "id": "b6f94d31",
   "metadata": {},
   "outputs": [
    {
     "name": "stdout",
     "output_type": "stream",
     "text": [
      "rmse: 7.971402763256385\n",
      "r2: 0.8861780665179587\n"
     ]
    }
   ],
   "source": [
    "from sklearn.neighbors import KNeighborsRegressor\n",
    "model = KNeighborsRegressor(n_neighbors=100)\n",
    "model.fit(x_train,y_train)\n",
    "y_pred_knn = model.predict(x_test)\n",
    "print('rmse:',mse(y_test,y_pred_knn)**0.5)\n",
    "print('r2:',r2_score(y_test,y_pred_knn))"
   ]
  },
  {
   "cell_type": "code",
   "execution_count": 96,
   "id": "50346246-e00c-44d3-be09-252981be1272",
   "metadata": {},
   "outputs": [
    {
     "name": "stdout",
     "output_type": "stream",
     "text": [
      "rmse:  6.2451105615304385\n",
      "r2 :  0.9301386914948764\n",
      "Index(['CO', 'O3', 'NO2', 'PM10', 'PM25', '기온(°C)', '강수량(mm)', '풍속(m/s)',\n",
      "       '풍향(16방위)', '습도(%)', '증기압(hPa)', '현지기압(hPa)', '지면온도(°C)', 'month',\n",
      "       'day', 'hour', 'PM10_lag1'],\n",
      "      dtype='object')\n",
      "[2.20000e-03 1.95100e-03 8.17000e-04 9.69742e-01 6.22600e-03 1.07100e-03\n",
      " 5.38000e-04 7.21000e-04 1.85700e-03 3.84600e-03 9.77000e-04 3.71700e-03\n",
      " 1.66000e-03 9.30000e-05 2.06700e-03 9.03000e-04 1.61500e-03]\n"
     ]
    }
   ],
   "source": [
    "drop_cols = ['SO2'] \n",
    "model = GBR(max_depth=5,random_state=3)\n",
    "model.fit(x_train.drop(drop_cols,axis=1),y_train)\n",
    "y_pred_GBR = model.predict(x_test.drop(drop_cols,axis=1))\n",
    "print('rmse: ',mse(y_test,y_pred_GBR)**0.5)\n",
    "print('r2 : ',r2_score(y_test,y_pred_GBR))\n",
    "joblib.dump(model, './self_model.pkl')\n",
    "print(x_train.drop(drop_cols,axis=1).columns)\n",
    "print(np.around(model.feature_importances_,6))\n",
    "\n",
    "# 기존\n",
    "# rmse:  6.281779295244021\n",
    "# r2 :  0.9293158889533608\n",
    "# 전체드랍\n",
    "# rmse:  6.410372200428976\n",
    "# r2 :  0.926392351188135\n",
    "# drop so2\n",
    "# rmse:  6.251752339460786\n",
    "# r2 :  0.9299900151728114\n"
   ]
  },
  {
   "cell_type": "markdown",
   "id": "c07895fa-d831-4d9c-9bcf-9ec2d7eda2ec",
   "metadata": {
    "tags": []
   },
   "source": [
    "#### **<span style=\"color:blue\">(선택 수행)[4-4] 머신러닝 모델에 대해 성능 최적화 진행</span>**"
   ]
  },
  {
   "cell_type": "markdown",
   "id": "aacb4f2a-d979-4365-85e6-28d64953e741",
   "metadata": {},
   "source": [
    "* 위 머신러닝 모델들에 대해 성능 최적화를 진행해보세요."
   ]
  },
  {
   "cell_type": "code",
   "execution_count": 79,
   "id": "7dc3a412",
   "metadata": {},
   "outputs": [
    {
     "data": {
      "text/plain": [
       "Index(['SO2', 'CO', 'O3', 'NO2', 'PM10', 'PM25', '기온(°C)', '강수량(mm)',\n",
       "       '풍속(m/s)', '풍향(16방위)', '습도(%)', '증기압(hPa)', '현지기압(hPa)', '지면온도(°C)',\n",
       "       'month', 'day', 'hour', 'PM10_lag1'],\n",
       "      dtype='object')"
      ]
     },
     "execution_count": 79,
     "metadata": {},
     "output_type": "execute_result"
    }
   ],
   "source": [
    "x_train.columns"
   ]
  },
  {
   "cell_type": "code",
   "execution_count": null,
   "id": "5b378a04-f857-4fba-88c4-3c872ce1d879",
   "metadata": {},
   "outputs": [],
   "source": []
  },
  {
   "cell_type": "code",
   "execution_count": 91,
   "id": "df789c49",
   "metadata": {},
   "outputs": [
    {
     "name": "stdout",
     "output_type": "stream",
     "text": [
      "rmse:  6.797688122972817\n",
      "r2 :  0.9172288625041064\n",
      "Index(['CO', 'O3', 'NO2', 'PM10', 'PM25', '기온(°C)', '강수량(mm)', '풍속(m/s)',\n",
      "       '풍향(16방위)', '습도(%)', '증기압(hPa)', '현지기압(hPa)', '지면온도(°C)', 'month',\n",
      "       'day', 'hour', 'PM10_lag1'],\n",
      "      dtype='object')\n"
     ]
    },
    {
     "ename": "AttributeError",
     "evalue": "'RandomizedSearchCV' object has no attribute 'feature_importances_'",
     "output_type": "error",
     "traceback": [
      "\u001b[1;31m---------------------------------------------------------------------------\u001b[0m",
      "\u001b[1;31mAttributeError\u001b[0m                            Traceback (most recent call last)",
      "\u001b[1;32mD:\\TEMP\\ipykernel_7348\\1293654170.py\u001b[0m in \u001b[0;36m<module>\u001b[1;34m\u001b[0m\n\u001b[0;32m     21\u001b[0m \u001b[0mjoblib\u001b[0m\u001b[1;33m.\u001b[0m\u001b[0mdump\u001b[0m\u001b[1;33m(\u001b[0m\u001b[0mmodel\u001b[0m\u001b[1;33m,\u001b[0m \u001b[1;34m'./self_model.pkl'\u001b[0m\u001b[1;33m)\u001b[0m\u001b[1;33m\u001b[0m\u001b[1;33m\u001b[0m\u001b[0m\n\u001b[0;32m     22\u001b[0m \u001b[0mprint\u001b[0m\u001b[1;33m(\u001b[0m\u001b[0mx_train\u001b[0m\u001b[1;33m.\u001b[0m\u001b[0mdrop\u001b[0m\u001b[1;33m(\u001b[0m\u001b[0mdrop_cols\u001b[0m\u001b[1;33m,\u001b[0m\u001b[0maxis\u001b[0m\u001b[1;33m=\u001b[0m\u001b[1;36m1\u001b[0m\u001b[1;33m)\u001b[0m\u001b[1;33m.\u001b[0m\u001b[0mcolumns\u001b[0m\u001b[1;33m)\u001b[0m\u001b[1;33m\u001b[0m\u001b[1;33m\u001b[0m\u001b[0m\n\u001b[1;32m---> 23\u001b[1;33m \u001b[0mprint\u001b[0m\u001b[1;33m(\u001b[0m\u001b[0mnp\u001b[0m\u001b[1;33m.\u001b[0m\u001b[0maround\u001b[0m\u001b[1;33m(\u001b[0m\u001b[0mmodel\u001b[0m\u001b[1;33m.\u001b[0m\u001b[0mfeature_importances_\u001b[0m\u001b[1;33m,\u001b[0m\u001b[1;36m6\u001b[0m\u001b[1;33m)\u001b[0m\u001b[1;33m)\u001b[0m\u001b[1;33m\u001b[0m\u001b[1;33m\u001b[0m\u001b[0m\n\u001b[0m\u001b[0;32m     24\u001b[0m \u001b[1;33m\u001b[0m\u001b[0m\n\u001b[0;32m     25\u001b[0m \u001b[1;31m# 기존\u001b[0m\u001b[1;33m\u001b[0m\u001b[1;33m\u001b[0m\u001b[1;33m\u001b[0m\u001b[0m\n",
      "\u001b[1;31mAttributeError\u001b[0m: 'RandomizedSearchCV' object has no attribute 'feature_importances_'"
     ]
    }
   ],
   "source": [
    "import warnings\n",
    "warnings.filterwarnings(action='ignore') \n",
    "from sklearn.model_selection import GridSearchCV\n",
    "from sklearn.model_selection import RandomizedSearchCV\n",
    "params = {'max_depth':range(3,15),\n",
    "          'min_samples_leaf':range(1,10),\n",
    "          'min_samples_split':range(1,10),\n",
    "          }\n",
    "\n",
    "drop_cols = ['SO2'] \n",
    "gbr_model = GBR(random_state=1)\n",
    "model = RandomizedSearchCV(\n",
    "    gbr_model,\n",
    "    params,\n",
    "    cv=3\n",
    ")\n",
    "model.fit(x_train.drop(drop_cols,axis=1),y_train)\n",
    "y_pred_GBR = model.predict(x_test.drop(drop_cols,axis=1))\n",
    "print('rmse: ',mse(y_test,y_pred_GBR)**0.5)\n",
    "print('r2 : ',r2_score(y_test,y_pred_GBR))\n",
    "joblib.dump(model, './self_model.pkl')\n",
    "print(x_train.drop(drop_cols,axis=1).columns)\n",
    "print(np.around(model.feature_importances_,6))\n",
    "\n",
    "# 기존\n",
    "# rmse:  6.281779295244021\n",
    "# r2 :  0.9293158889533608\n",
    "# 전체드랍\n",
    "# rmse:  6.410372200428976\n",
    "# r2 :  0.926392351188135\n",
    "# drop so2\n",
    "# rmse:  6.251752339460786\n",
    "# r2 :  0.9299900151728114\n"
   ]
  },
  {
   "cell_type": "code",
   "execution_count": 92,
   "id": "bb047dfd",
   "metadata": {},
   "outputs": [
    {
     "data": {
      "text/plain": [
       "{'mean_fit_time': array([2.75107066e+00, 3.05785004e+00, 3.98945808e-03, 3.06148632e+00,\n",
       "        1.00465902e+00, 1.32978034e+00, 1.01794608e+00, 3.01228340e+00,\n",
       "        4.15031544e+00, 3.32427025e-03]),\n",
       " 'std_fit_time': array([0.07775491, 0.05691946, 0.0008142 , 0.03386213, 0.00124096,\n",
       "        0.0038497 , 0.01849865, 0.01969529, 0.05349332, 0.00047002]),\n",
       " 'mean_score_time': array([0.01063903, 0.01096805, 0.        , 0.01195693, 0.00432046,\n",
       "        0.00498811, 0.00465838, 0.01296639, 0.01760666, 0.        ]),\n",
       " 'std_score_time': array([1.24364545e-03, 8.13810597e-04, 0.00000000e+00, 8.02831108e-04,\n",
       "        4.71149592e-04, 6.00743332e-06, 4.73050513e-04, 1.41360587e-03,\n",
       "        9.46913844e-04, 0.00000000e+00]),\n",
       " 'param_min_samples_split': masked_array(data=[5, 5, 1, 2, 8, 7, 7, 5, 7, 1],\n",
       "              mask=[False, False, False, False, False, False, False, False,\n",
       "                    False, False],\n",
       "        fill_value='?',\n",
       "             dtype=object),\n",
       " 'param_min_samples_leaf': masked_array(data=[4, 6, 2, 4, 8, 7, 3, 1, 6, 5],\n",
       "              mask=[False, False, False, False, False, False, False, False,\n",
       "                    False, False],\n",
       "        fill_value='?',\n",
       "             dtype=object),\n",
       " 'param_max_depth': masked_array(data=[8, 9, 13, 9, 3, 4, 3, 9, 13, 4],\n",
       "              mask=[False, False, False, False, False, False, False, False,\n",
       "                    False, False],\n",
       "        fill_value='?',\n",
       "             dtype=object),\n",
       " 'params': [{'min_samples_split': 5, 'min_samples_leaf': 4, 'max_depth': 8},\n",
       "  {'min_samples_split': 5, 'min_samples_leaf': 6, 'max_depth': 9},\n",
       "  {'min_samples_split': 1, 'min_samples_leaf': 2, 'max_depth': 13},\n",
       "  {'min_samples_split': 2, 'min_samples_leaf': 4, 'max_depth': 9},\n",
       "  {'min_samples_split': 8, 'min_samples_leaf': 8, 'max_depth': 3},\n",
       "  {'min_samples_split': 7, 'min_samples_leaf': 7, 'max_depth': 4},\n",
       "  {'min_samples_split': 7, 'min_samples_leaf': 3, 'max_depth': 3},\n",
       "  {'min_samples_split': 5, 'min_samples_leaf': 1, 'max_depth': 9},\n",
       "  {'min_samples_split': 7, 'min_samples_leaf': 6, 'max_depth': 13},\n",
       "  {'min_samples_split': 1, 'min_samples_leaf': 5, 'max_depth': 4}],\n",
       " 'split0_test_score': array([0.92404611, 0.92281582,        nan, 0.92255512, 0.92956097,\n",
       "        0.94103371, 0.93543319, 0.91084647, 0.92028578,        nan]),\n",
       " 'split1_test_score': array([0.50243465, 0.48789379,        nan, 0.5151733 , 0.45775399,\n",
       "        0.46341084, 0.46727758, 0.53448192, 0.49320829,        nan]),\n",
       " 'split2_test_score': array([0.86316221, 0.87673163,        nan, 0.86439537, 0.89418752,\n",
       "        0.88650765, 0.88701024, 0.86451808, 0.87060016,        nan]),\n",
       " 'mean_test_score': array([0.76321432, 0.76248041,        nan, 0.76737459, 0.76050082,\n",
       "        0.76365073, 0.76324034, 0.76994882, 0.76136475,        nan]),\n",
       " 'std_test_score': array([0.18606673, 0.19507144,        nan, 0.17990694, 0.21456088,\n",
       "        0.21346548, 0.21020888, 0.16757103, 0.1906971 ,        nan]),\n",
       " 'rank_test_score': array([ 5,  6,  9,  2,  8,  3,  4,  1,  7, 10])}"
      ]
     },
     "execution_count": 92,
     "metadata": {},
     "output_type": "execute_result"
    }
   ],
   "source": [
    "model.cv_results_"
   ]
  },
  {
   "cell_type": "code",
   "execution_count": null,
   "id": "619e603f",
   "metadata": {},
   "outputs": [],
   "source": [
    "# cv_result = {'mean_fit_time': array([2.75107066e+00, 3.05785004e+00, 3.98945808e-03, 3.06148632e+00,\n",
    "#         1.00465902e+00, 1.32978034e+00, 1.01794608e+00, 3.01228340e+00,\n",
    "#         4.15031544e+00, 3.32427025e-03]),\n",
    "#  'std_fit_time': array([0.07775491, 0.05691946, 0.0008142 , 0.03386213, 0.00124096,\n",
    "#         0.0038497 , 0.01849865, 0.01969529, 0.05349332, 0.00047002]),\n",
    "#  'mean_score_time': array([0.01063903, 0.01096805, 0.        , 0.01195693, 0.00432046,\n",
    "#         0.00498811, 0.00465838, 0.01296639, 0.01760666, 0.        ]),\n",
    "#  'std_score_time': array([1.24364545e-03, 8.13810597e-04, 0.00000000e+00, 8.02831108e-04,\n",
    "#         4.71149592e-04, 6.00743332e-06, 4.73050513e-04, 1.41360587e-03,\n",
    "#         9.46913844e-04, 0.00000000e+00]),\n",
    "#  'param_min_samples_split': masked_array(data=[5, 5, 1, 2, 8, 7, 7, 5, 7, 1],\n",
    "#               mask=[False, False, False, False, False, False, False, False,\n",
    "#                     False, False],\n",
    "#         fill_value='?',\n",
    "#              dtype=object),\n",
    "#  'param_min_samples_leaf': masked_array(data=[4, 6, 2, 4, 8, 7, 3, 1, 6, 5],\n",
    "#               mask=[False, False, False, False, False, False, False, False,\n",
    "#                     False, False],\n",
    "#         fill_value='?',\n",
    "#              dtype=object),\n",
    "#  'param_max_depth': masked_array(data=[8, 9, 13, 9, 3, 4, 3, 9, 13, 4],\n",
    "#               mask=[False, False, False, False, False, False, False, False,\n",
    "#                     False, False],\n",
    "#         fill_value='?',\n",
    "#              dtype=object),\n",
    "#  'params': [{'min_samples_split': 5, 'min_samples_leaf': 4, 'max_depth': 8},\n",
    "#   {'min_samples_split': 5, 'min_samples_leaf': 6, 'max_depth': 9},\n",
    "#   {'min_samples_split': 1, 'min_samples_leaf': 2, 'max_depth': 13},\n",
    "#   {'min_samples_split': 2, 'min_samples_leaf': 4, 'max_depth': 9},\n",
    "#   {'min_samples_split': 8, 'min_samples_leaf': 8, 'max_depth': 3},\n",
    "#   {'min_samples_split': 7, 'min_samples_leaf': 7, 'max_depth': 4},\n",
    "#   {'min_samples_split': 7, 'min_samples_leaf': 3, 'max_depth': 3},\n",
    "#   {'min_samples_split': 5, 'min_samples_leaf': 1, 'max_depth': 9},\n",
    "#   {'min_samples_split': 7, 'min_samples_leaf': 6, 'max_depth': 13},\n",
    "#   {'min_samples_split': 1, 'min_samples_leaf': 5, 'max_depth': 4}],\n",
    "#  'split0_test_score': array([0.92404611, 0.92281582,        nan, 0.92255512, 0.92956097,\n",
    "#         0.94103371, 0.93543319, 0.91084647, 0.92028578,        nan]),\n",
    "#  'split1_test_score': array([0.50243465, 0.48789379,        nan, 0.5151733 , 0.45775399,\n",
    "#         0.46341084, 0.46727758, 0.53448192, 0.49320829,        nan]),\n",
    "#  'split2_test_score': array([0.86316221, 0.87673163,        nan, 0.86439537, 0.89418752,\n",
    "#         0.88650765, 0.88701024, 0.86451808, 0.87060016,        nan]),\n",
    "#  'mean_test_score': array([0.76321432, 0.76248041,        nan, 0.76737459, 0.76050082,\n",
    "#         0.76365073, 0.76324034, 0.76994882, 0.76136475,        nan]),\n",
    "#  'std_test_score': array([0.18606673, 0.19507144,        nan, 0.17990694, 0.21456088,\n",
    "#         0.21346548, 0.21020888, 0.16757103, 0.1906971 ,        nan]),\n",
    "#  'rank_test_score': array([ 5,  6,  9,  2,  8,  3,  4,  1,  7, 10])}"
   ]
  },
  {
   "cell_type": "code",
   "execution_count": 93,
   "id": "d3dab023",
   "metadata": {},
   "outputs": [
    {
     "data": {
      "text/plain": [
       "{'min_samples_split': 5, 'min_samples_leaf': 1, 'max_depth': 9}"
      ]
     },
     "execution_count": 93,
     "metadata": {},
     "output_type": "execute_result"
    }
   ],
   "source": [
    "model.best_params_"
   ]
  },
  {
   "cell_type": "code",
   "execution_count": 97,
   "id": "c399576b",
   "metadata": {},
   "outputs": [
    {
     "ename": "AttributeError",
     "evalue": "'GradientBoostingRegressor' object has no attribute 'best_score_'",
     "output_type": "error",
     "traceback": [
      "\u001b[1;31m---------------------------------------------------------------------------\u001b[0m",
      "\u001b[1;31mAttributeError\u001b[0m                            Traceback (most recent call last)",
      "\u001b[1;32mD:\\TEMP\\ipykernel_7348\\392877403.py\u001b[0m in \u001b[0;36m<module>\u001b[1;34m\u001b[0m\n\u001b[1;32m----> 1\u001b[1;33m \u001b[0mmodel\u001b[0m\u001b[1;33m.\u001b[0m\u001b[0mbest_score_\u001b[0m\u001b[1;33m\u001b[0m\u001b[1;33m\u001b[0m\u001b[0m\n\u001b[0m",
      "\u001b[1;31mAttributeError\u001b[0m: 'GradientBoostingRegressor' object has no attribute 'best_score_'"
     ]
    }
   ],
   "source": [
    "model.best_score_"
   ]
  }
 ],
 "metadata": {
  "kernelspec": {
   "display_name": "Python 3.7.16",
   "language": "python",
   "name": "python3"
  },
  "language_info": {
   "codemirror_mode": {
    "name": "ipython",
    "version": 3
   },
   "file_extension": ".py",
   "mimetype": "text/x-python",
   "name": "python",
   "nbconvert_exporter": "python",
   "pygments_lexer": "ipython3",
   "version": "3.7.16"
  },
  "vscode": {
   "interpreter": {
    "hash": "d2134deeb031d3043ee0562711738d1225b978d11603940a3a342e52f3e23eb6"
   }
  }
 },
 "nbformat": 4,
 "nbformat_minor": 5
}
