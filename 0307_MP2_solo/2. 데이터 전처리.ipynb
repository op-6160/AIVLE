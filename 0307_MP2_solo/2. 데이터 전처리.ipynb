{
 "cells": [
  {
   "cell_type": "markdown",
   "metadata": {},
   "source": [
    "## [미니프로젝트] 악성사이트 탐지 머신러닝 모델 개발\n",
    "\n",
    "## <b>[2단계] 데이터 분석 및 전처리\n",
    "\n",
    "## ▣ 데이터 소개\n",
    "* 학습 데이터셋 : train.csv\n",
    "<br>\n",
    "\n",
    "## ▣ 학습 데이터셋의 변수 소개\n",
    "\n",
    "* url_len : URL 길이\n",
    "* url_num_hypens_dom : URL내 '-'(하이픈) 개수\n",
    "* url_path_len : URL의 경로 길이\n",
    "* url_domain_len : URL의 도메인 길이\n",
    "* url_host_name : URL의 hostname 길이\n",
    "* url_num_dots : URL내 '.'(닷) 개수\n",
    "* url_num_underscores : URL내 '_'(언더바) 개수\n",
    "* url_query_len : URL쿼리 길이\n",
    "* url_num_query_para : URL쿼리의 파라미터 개수\n",
    "* url_ip_present : URL내 IP표시 여부\n",
    "* url_entropy : URL 복잡도\n",
    "* url_chinese_present : URL내 중국어 표기 여부\n",
    "* url_port : URL내 포트 표기 여부\n",
    "* html_num_tags('iframe') : HTML내 'iframe' 태그 개수\n",
    "* html_num_tags('script') : HTML내 'script' 태그 개수\n",
    "* html_num_tags('embed') : HTML내 'embed' 태그 개수\n",
    "* html_num_tags('object') : HTML내 'object' 태그 개수\n",
    "* html_num_tags('div') : HTML내 'div' 태그 개수\n",
    "* html_num_tags('head') : HTML내 'head' 태그 개수\n",
    "* html_num_tags('body') : HTML내 'body' 태그 개수\n",
    "* html_num_tags('form') : HTML내 'form' 태그 개수\n",
    "* html_num_tags('a') : HTML내 'a' 태그 개수\n",
    "* html_num_tags('applet') : HTML내 'applet' 태그 개수\n",
    "* label : 악성사이트 여부 컬럼 ( 'malicious'는 악성사이트, 'benign'은 정상사이트 )\n",
    "\n",
    "<br>\n",
    "\n",
    "---\n",
    "\n",
    "### **[프로세스]**\n",
    "0. 라이브러리 import 및 데이터 불러오기\n",
    "1. 데이터 분석하기\n",
    "2. 데이터 전처리하기\n",
    "\n",
    "\n",
    "---"
   ]
  },
  {
   "cell_type": "markdown",
   "metadata": {},
   "source": [
    "# <b>Step 0. 라이브러리 import 및 데이터 불러오기\n",
    "### **가. 라이브러리 import**"
   ]
  },
  {
   "cell_type": "code",
   "execution_count": 1,
   "metadata": {},
   "outputs": [],
   "source": [
    "import pandas as pd\n",
    "import numpy as np"
   ]
  },
  {
   "cell_type": "markdown",
   "metadata": {},
   "source": [
    "### **나.  학습데이터 불러오기**"
   ]
  },
  {
   "cell_type": "code",
   "execution_count": 2,
   "metadata": {},
   "outputs": [],
   "source": [
    "data = pd.read_csv('./train.csv')"
   ]
  },
  {
   "cell_type": "markdown",
   "metadata": {},
   "source": [
    "# <b>Step 1. 데이터 분석하기\n",
    "---"
   ]
  },
  {
   "cell_type": "markdown",
   "metadata": {},
   "source": [
    "단변량 분석은 데이터분석의 매우 기초적인 분석기법으로, 독립적인 개별 변수가 가지고있는 특성들을 이해하는 과정입니다.\n",
    "\n",
    "## <b>Q1. 데이터 단변량 분석하기\n",
    "\n",
    "<span style=\"color: green\"> 개별 변수에 대해 아래 사항들을 분석해보세요. </span>\n",
    "\n",
    "1. 변수가 내포하고 있는 의미\n",
    "2. 변수가 수치형인지, 범주형인지\n",
    "3. 결측치 존재 여부 및 조치 방안\n",
    "4. 기초 통계량 확인\n",
    "5. 데이터 분포 확인\n",
    "6. 위 정보로부터 파악한 내용 정리\n",
    "7. 추가 분석사항 도출"
   ]
  },
  {
   "cell_type": "code",
   "execution_count": 3,
   "metadata": {},
   "outputs": [
    {
     "name": "stdout",
     "output_type": "stream",
     "text": [
      "<class 'pandas.core.frame.DataFrame'>\n",
      "RangeIndex: 3664 entries, 0 to 3663\n",
      "Data columns (total 24 columns):\n",
      " #   Column                   Non-Null Count  Dtype  \n",
      "---  ------                   --------------  -----  \n",
      " 0   url_len                  3664 non-null   float64\n",
      " 1   url_num_hyphens_dom      3664 non-null   float64\n",
      " 2   url_path_len             3663 non-null   float64\n",
      " 3   url_domain_len           3663 non-null   float64\n",
      " 4   url_hostname_len         3664 non-null   float64\n",
      " 5   url_num_dots             3664 non-null   float64\n",
      " 6   url_num_underscores      3664 non-null   float64\n",
      " 7   url_query_len            3664 non-null   float64\n",
      " 8   url_num_query_para       3664 non-null   float64\n",
      " 9   url_ip_present           3664 non-null   float64\n",
      " 10  url_entropy              3664 non-null   float64\n",
      " 11  url_chinese_present      3664 non-null   float64\n",
      " 12  url_port                 3664 non-null   float64\n",
      " 13  html_num_tags('iframe')  3664 non-null   float64\n",
      " 14  html_num_tags('script')  3664 non-null   float64\n",
      " 15  html_num_tags('embed')   3664 non-null   float64\n",
      " 16  html_num_tags('object')  3664 non-null   float64\n",
      " 17  html_num_tags('div')     3664 non-null   float64\n",
      " 18  html_num_tags('head')    3664 non-null   float64\n",
      " 19  html_num_tags('body')    3664 non-null   float64\n",
      " 20  html_num_tags('form')    3664 non-null   float64\n",
      " 21  html_num_tags('a')       3664 non-null   float64\n",
      " 22  html_num_tags('applet')  3664 non-null   float64\n",
      " 23  label                    3664 non-null   object \n",
      "dtypes: float64(23), object(1)\n",
      "memory usage: 687.1+ KB\n"
     ]
    }
   ],
   "source": [
    "data.info()"
   ]
  },
  {
   "cell_type": "code",
   "execution_count": 6,
   "metadata": {},
   "outputs": [
    {
     "data": {
      "text/html": [
       "<div>\n",
       "<style scoped>\n",
       "    .dataframe tbody tr th:only-of-type {\n",
       "        vertical-align: middle;\n",
       "    }\n",
       "\n",
       "    .dataframe tbody tr th {\n",
       "        vertical-align: top;\n",
       "    }\n",
       "\n",
       "    .dataframe thead th {\n",
       "        text-align: right;\n",
       "    }\n",
       "</style>\n",
       "<table border=\"1\" class=\"dataframe\">\n",
       "  <thead>\n",
       "    <tr style=\"text-align: right;\">\n",
       "      <th></th>\n",
       "      <th>url_len</th>\n",
       "      <th>url_num_hyphens_dom</th>\n",
       "      <th>url_path_len</th>\n",
       "      <th>url_domain_len</th>\n",
       "      <th>url_hostname_len</th>\n",
       "      <th>url_num_dots</th>\n",
       "      <th>url_num_underscores</th>\n",
       "      <th>url_query_len</th>\n",
       "      <th>url_num_query_para</th>\n",
       "      <th>url_ip_present</th>\n",
       "      <th>...</th>\n",
       "      <th>html_num_tags('script')</th>\n",
       "      <th>html_num_tags('embed')</th>\n",
       "      <th>html_num_tags('object')</th>\n",
       "      <th>html_num_tags('div')</th>\n",
       "      <th>html_num_tags('head')</th>\n",
       "      <th>html_num_tags('body')</th>\n",
       "      <th>html_num_tags('form')</th>\n",
       "      <th>html_num_tags('a')</th>\n",
       "      <th>html_num_tags('applet')</th>\n",
       "      <th>label</th>\n",
       "    </tr>\n",
       "  </thead>\n",
       "  <tbody>\n",
       "    <tr>\n",
       "      <th>3662</th>\n",
       "      <td>46.0</td>\n",
       "      <td>0.0</td>\n",
       "      <td>33.0</td>\n",
       "      <td>13.0</td>\n",
       "      <td>13.0</td>\n",
       "      <td>3.0</td>\n",
       "      <td>0.0</td>\n",
       "      <td>0.0</td>\n",
       "      <td>0.0</td>\n",
       "      <td>0.0</td>\n",
       "      <td>...</td>\n",
       "      <td>0.0</td>\n",
       "      <td>0.0</td>\n",
       "      <td>0.0</td>\n",
       "      <td>4.0</td>\n",
       "      <td>1.0</td>\n",
       "      <td>1.0</td>\n",
       "      <td>0.0</td>\n",
       "      <td>3.0</td>\n",
       "      <td>0.0</td>\n",
       "      <td>benign</td>\n",
       "    </tr>\n",
       "    <tr>\n",
       "      <th>3663</th>\n",
       "      <td>18.0</td>\n",
       "      <td>0.0</td>\n",
       "      <td>0.0</td>\n",
       "      <td>18.0</td>\n",
       "      <td>18.0</td>\n",
       "      <td>2.0</td>\n",
       "      <td>0.0</td>\n",
       "      <td>0.0</td>\n",
       "      <td>0.0</td>\n",
       "      <td>0.0</td>\n",
       "      <td>...</td>\n",
       "      <td>3.0</td>\n",
       "      <td>0.0</td>\n",
       "      <td>0.0</td>\n",
       "      <td>282.0</td>\n",
       "      <td>1.0</td>\n",
       "      <td>1.0</td>\n",
       "      <td>2.0</td>\n",
       "      <td>46.0</td>\n",
       "      <td>0.0</td>\n",
       "      <td>benign</td>\n",
       "    </tr>\n",
       "  </tbody>\n",
       "</table>\n",
       "<p>2 rows × 24 columns</p>\n",
       "</div>"
      ],
      "text/plain": [
       "      url_len  url_num_hyphens_dom  url_path_len  url_domain_len  \\\n",
       "3662     46.0                  0.0          33.0            13.0   \n",
       "3663     18.0                  0.0           0.0            18.0   \n",
       "\n",
       "      url_hostname_len  url_num_dots  url_num_underscores  url_query_len  \\\n",
       "3662              13.0           3.0                  0.0            0.0   \n",
       "3663              18.0           2.0                  0.0            0.0   \n",
       "\n",
       "      url_num_query_para  url_ip_present  ...  html_num_tags('script')  \\\n",
       "3662                 0.0             0.0  ...                      0.0   \n",
       "3663                 0.0             0.0  ...                      3.0   \n",
       "\n",
       "      html_num_tags('embed')  html_num_tags('object')  html_num_tags('div')  \\\n",
       "3662                     0.0                      0.0                   4.0   \n",
       "3663                     0.0                      0.0                 282.0   \n",
       "\n",
       "      html_num_tags('head')  html_num_tags('body')  html_num_tags('form')  \\\n",
       "3662                    1.0                    1.0                    0.0   \n",
       "3663                    1.0                    1.0                    2.0   \n",
       "\n",
       "      html_num_tags('a')  html_num_tags('applet')   label  \n",
       "3662                 3.0                      0.0  benign  \n",
       "3663                46.0                      0.0  benign  \n",
       "\n",
       "[2 rows x 24 columns]"
      ]
     },
     "execution_count": 6,
     "metadata": {},
     "output_type": "execute_result"
    }
   ],
   "source": [
    "data.tail(2)"
   ]
  },
  {
   "cell_type": "code",
   "execution_count": 31,
   "metadata": {},
   "outputs": [
    {
     "data": {
      "text/html": [
       "<div>\n",
       "<style scoped>\n",
       "    .dataframe tbody tr th:only-of-type {\n",
       "        vertical-align: middle;\n",
       "    }\n",
       "\n",
       "    .dataframe tbody tr th {\n",
       "        vertical-align: top;\n",
       "    }\n",
       "\n",
       "    .dataframe thead th {\n",
       "        text-align: right;\n",
       "    }\n",
       "</style>\n",
       "<table border=\"1\" class=\"dataframe\">\n",
       "  <thead>\n",
       "    <tr style=\"text-align: right;\">\n",
       "      <th></th>\n",
       "      <th>url_len</th>\n",
       "      <th>url_num_hyphens_dom</th>\n",
       "      <th>url_path_len</th>\n",
       "      <th>url_domain_len</th>\n",
       "      <th>url_num_dots</th>\n",
       "      <th>url_num_underscores</th>\n",
       "      <th>url_query_len</th>\n",
       "      <th>url_num_query_para</th>\n",
       "      <th>url_ip_present</th>\n",
       "      <th>url_entropy</th>\n",
       "      <th>...</th>\n",
       "      <th>html_num_tags('iframe')</th>\n",
       "      <th>html_num_tags('script')</th>\n",
       "      <th>html_num_tags('embed')</th>\n",
       "      <th>html_num_tags('object')</th>\n",
       "      <th>html_num_tags('div')</th>\n",
       "      <th>html_num_tags('head')</th>\n",
       "      <th>html_num_tags('body')</th>\n",
       "      <th>html_num_tags('form')</th>\n",
       "      <th>html_num_tags('a')</th>\n",
       "      <th>label</th>\n",
       "    </tr>\n",
       "  </thead>\n",
       "  <tbody>\n",
       "    <tr>\n",
       "      <th>1084</th>\n",
       "      <td>37.0</td>\n",
       "      <td>2.0</td>\n",
       "      <td>0.0</td>\n",
       "      <td>NaN</td>\n",
       "      <td>2.0</td>\n",
       "      <td>0.0</td>\n",
       "      <td>0.0</td>\n",
       "      <td>0.0</td>\n",
       "      <td>0.0</td>\n",
       "      <td>4.311038</td>\n",
       "      <td>...</td>\n",
       "      <td>0.0</td>\n",
       "      <td>8.0</td>\n",
       "      <td>0.0</td>\n",
       "      <td>0.0</td>\n",
       "      <td>211.0</td>\n",
       "      <td>1.0</td>\n",
       "      <td>1.0</td>\n",
       "      <td>2.0</td>\n",
       "      <td>122.0</td>\n",
       "      <td>benign</td>\n",
       "    </tr>\n",
       "  </tbody>\n",
       "</table>\n",
       "<p>1 rows × 21 columns</p>\n",
       "</div>"
      ],
      "text/plain": [
       "      url_len  url_num_hyphens_dom  url_path_len  url_domain_len  \\\n",
       "1084     37.0                  2.0           0.0             NaN   \n",
       "\n",
       "      url_num_dots  url_num_underscores  url_query_len  url_num_query_para  \\\n",
       "1084           2.0                  0.0            0.0                 0.0   \n",
       "\n",
       "      url_ip_present  url_entropy  ...  html_num_tags('iframe')  \\\n",
       "1084             0.0     4.311038  ...                      0.0   \n",
       "\n",
       "      html_num_tags('script')  html_num_tags('embed')  \\\n",
       "1084                      8.0                     0.0   \n",
       "\n",
       "      html_num_tags('object')  html_num_tags('div')  html_num_tags('head')  \\\n",
       "1084                      0.0                 211.0                    1.0   \n",
       "\n",
       "      html_num_tags('body')  html_num_tags('form')  html_num_tags('a')   label  \n",
       "1084                    1.0                    2.0               122.0  benign  \n",
       "\n",
       "[1 rows x 21 columns]"
      ]
     },
     "execution_count": 31,
     "metadata": {},
     "output_type": "execute_result"
    }
   ],
   "source": [
    "data.loc[data['url_domain_len'].isna()]"
   ]
  },
  {
   "cell_type": "code",
   "execution_count": 32,
   "metadata": {},
   "outputs": [
    {
     "data": {
      "text/html": [
       "<div>\n",
       "<style scoped>\n",
       "    .dataframe tbody tr th:only-of-type {\n",
       "        vertical-align: middle;\n",
       "    }\n",
       "\n",
       "    .dataframe tbody tr th {\n",
       "        vertical-align: top;\n",
       "    }\n",
       "\n",
       "    .dataframe thead th {\n",
       "        text-align: right;\n",
       "    }\n",
       "</style>\n",
       "<table border=\"1\" class=\"dataframe\">\n",
       "  <thead>\n",
       "    <tr style=\"text-align: right;\">\n",
       "      <th></th>\n",
       "      <th>url_len</th>\n",
       "      <th>url_num_hyphens_dom</th>\n",
       "      <th>url_path_len</th>\n",
       "      <th>url_domain_len</th>\n",
       "      <th>url_num_dots</th>\n",
       "      <th>url_num_underscores</th>\n",
       "      <th>url_query_len</th>\n",
       "      <th>url_num_query_para</th>\n",
       "      <th>url_ip_present</th>\n",
       "      <th>url_entropy</th>\n",
       "      <th>...</th>\n",
       "      <th>html_num_tags('iframe')</th>\n",
       "      <th>html_num_tags('script')</th>\n",
       "      <th>html_num_tags('embed')</th>\n",
       "      <th>html_num_tags('object')</th>\n",
       "      <th>html_num_tags('div')</th>\n",
       "      <th>html_num_tags('head')</th>\n",
       "      <th>html_num_tags('body')</th>\n",
       "      <th>html_num_tags('form')</th>\n",
       "      <th>html_num_tags('a')</th>\n",
       "      <th>label</th>\n",
       "    </tr>\n",
       "  </thead>\n",
       "  <tbody>\n",
       "    <tr>\n",
       "      <th>1628</th>\n",
       "      <td>24.0</td>\n",
       "      <td>0.0</td>\n",
       "      <td>NaN</td>\n",
       "      <td>14.0</td>\n",
       "      <td>4.0</td>\n",
       "      <td>0.0</td>\n",
       "      <td>0.0</td>\n",
       "      <td>0.0</td>\n",
       "      <td>1.0</td>\n",
       "      <td>4.220168</td>\n",
       "      <td>...</td>\n",
       "      <td>0.0</td>\n",
       "      <td>3.0</td>\n",
       "      <td>0.0</td>\n",
       "      <td>0.0</td>\n",
       "      <td>0.0</td>\n",
       "      <td>1.0</td>\n",
       "      <td>1.0</td>\n",
       "      <td>0.0</td>\n",
       "      <td>0.0</td>\n",
       "      <td>benign</td>\n",
       "    </tr>\n",
       "  </tbody>\n",
       "</table>\n",
       "<p>1 rows × 21 columns</p>\n",
       "</div>"
      ],
      "text/plain": [
       "      url_len  url_num_hyphens_dom  url_path_len  url_domain_len  \\\n",
       "1628     24.0                  0.0           NaN            14.0   \n",
       "\n",
       "      url_num_dots  url_num_underscores  url_query_len  url_num_query_para  \\\n",
       "1628           4.0                  0.0            0.0                 0.0   \n",
       "\n",
       "      url_ip_present  url_entropy  ...  html_num_tags('iframe')  \\\n",
       "1628             1.0     4.220168  ...                      0.0   \n",
       "\n",
       "      html_num_tags('script')  html_num_tags('embed')  \\\n",
       "1628                      3.0                     0.0   \n",
       "\n",
       "      html_num_tags('object')  html_num_tags('div')  html_num_tags('head')  \\\n",
       "1628                      0.0                   0.0                    1.0   \n",
       "\n",
       "      html_num_tags('body')  html_num_tags('form')  html_num_tags('a')   label  \n",
       "1628                    1.0                    0.0                 0.0  benign  \n",
       "\n",
       "[1 rows x 21 columns]"
      ]
     },
     "execution_count": 32,
     "metadata": {},
     "output_type": "execute_result"
    }
   ],
   "source": [
    "data.loc[data['url_path_len'].isna()]"
   ]
  },
  {
   "cell_type": "code",
   "execution_count": 34,
   "metadata": {},
   "outputs": [
    {
     "data": {
      "text/plain": [
       "20.383292383292382"
      ]
     },
     "execution_count": 34,
     "metadata": {},
     "output_type": "execute_result"
    }
   ],
   "source": [
    "data['url_domain_len'].mean()"
   ]
  },
  {
   "cell_type": "code",
   "execution_count": 7,
   "metadata": {},
   "outputs": [
    {
     "data": {
      "text/plain": [
       "Index(['url_len', 'url_num_hyphens_dom', 'url_path_len', 'url_domain_len',\n",
       "       'url_hostname_len', 'url_num_dots', 'url_num_underscores',\n",
       "       'url_query_len', 'url_num_query_para', 'url_ip_present', 'url_entropy',\n",
       "       'url_chinese_present', 'url_port', 'html_num_tags('iframe')',\n",
       "       'html_num_tags('script')', 'html_num_tags('embed')',\n",
       "       'html_num_tags('object')', 'html_num_tags('div')',\n",
       "       'html_num_tags('head')', 'html_num_tags('body')',\n",
       "       'html_num_tags('form')', 'html_num_tags('a')',\n",
       "       'html_num_tags('applet')', 'label'],\n",
       "      dtype='object')"
      ]
     },
     "execution_count": 7,
     "metadata": {},
     "output_type": "execute_result"
    }
   ],
   "source": [
    "data.columns"
   ]
  },
  {
   "cell_type": "code",
   "execution_count": 23,
   "metadata": {},
   "outputs": [
    {
     "data": {
      "text/plain": [
       "url_num_underscores    13\n",
       "url_query_len          78\n",
       "url_num_query_para      9\n",
       "url_ip_present          2\n",
       "url_chinese_present     1\n",
       "url_port                2\n",
       "dtype: int64"
      ]
     },
     "execution_count": 23,
     "metadata": {},
     "output_type": "execute_result"
    }
   ],
   "source": [
    "data[['url_num_underscores','url_query_len', 'url_num_query_para',\\\n",
    "       'url_ip_present','url_chinese_present', 'url_port']].nunique()"
   ]
  },
  {
   "cell_type": "code",
   "execution_count": 25,
   "metadata": {},
   "outputs": [
    {
     "data": {
      "text/plain": [
       "html_num_tags('script')     78\n",
       "html_num_tags('embed')       3\n",
       "html_num_tags('object')      7\n",
       "html_num_tags('div')       302\n",
       "html_num_tags('head')        4\n",
       "html_num_tags('body')        4\n",
       "html_num_tags('form')       14\n",
       "html_num_tags('a')         300\n",
       "html_num_tags('applet')      1\n",
       "dtype: int64"
      ]
     },
     "execution_count": 25,
     "metadata": {},
     "output_type": "execute_result"
    }
   ],
   "source": [
    "data[[\"html_num_tags('script')\", \"html_num_tags('embed')\",\\\n",
    "       \"html_num_tags('object')\", \"html_num_tags('div')\",\\\n",
    "       \"html_num_tags('head')\", \"html_num_tags('body')\",\\\n",
    "       \"html_num_tags('form')\", \"html_num_tags('a')\",\\\n",
    "       \"html_num_tags('applet')\"]].nunique()"
   ]
  },
  {
   "cell_type": "code",
   "execution_count": 28,
   "metadata": {},
   "outputs": [
    {
     "data": {
      "text/plain": [
       "url_len                 242\n",
       "url_num_hyphens_dom       8\n",
       "url_path_len            203\n",
       "url_domain_len           67\n",
       "url_hostname_len         67\n",
       "url_num_dots             17\n",
       "url_num_underscores      13\n",
       "url_query_len            78\n",
       "url_num_query_para        9\n",
       "url_ip_present            2\n",
       "url_entropy            2524\n",
       "url_chinese_present       1\n",
       "url_port                  2\n",
       "dtype: int64"
      ]
     },
     "execution_count": 28,
     "metadata": {},
     "output_type": "execute_result"
    }
   ],
   "source": [
    "data[['url_len', 'url_num_hyphens_dom', 'url_path_len', 'url_domain_len',\n",
    "       'url_hostname_len', 'url_num_dots', 'url_num_underscores',\n",
    "       'url_query_len', 'url_num_query_para', 'url_ip_present', 'url_entropy',\n",
    "       'url_chinese_present', 'url_port']].nunique()"
   ]
  },
  {
   "cell_type": "markdown",
   "metadata": {},
   "source": [
    "* 'url_len' : url 길이\n",
    "* 'url_num_hyphens_dom' : url 중 - 갯수\n",
    "* 'url_path_len' : url 중 path 길이\n",
    "* 'url_domain_len' : url 도메인 길이\n",
    "* 'url_hostname_len' : url 호스트 길이\n",
    "* 'url_num_dots' : url . 갯수\n",
    "* 'url_num_underscores' : url _ 갯수\n",
    "* 'url_query_len' : url &query 길이\n",
    "* 'url_num_query_para' : url &query 갯수\n",
    "* 'url_ip_present' : url ip 현재의 (뭔소리?)\n",
    "* 'url_entropy' : url 엔트로피 (=무질서도)\n",
    "* 'url_chinese_present' : url 짱깨인지\n",
    "* 'url_port' : url 포트\n",
    "* 'html_num_tags('iframe')'\n",
    "* 'html_num_tags('script')'\n",
    "* 'html_num_tags('embed')'\n",
    "* 'html_num_tags('object')'\n",
    "* 'html_num_tags('div')'\n",
    "* 'html_num_tags('head')'\n",
    "* 'html_num_tags('body')',\n",
    "* 'html_num_tags('form')'\n",
    "* 'html_num_tags('a')',\n",
    "* 'html_num_tags('applet')'\n",
    "* 'label' : y"
   ]
  },
  {
   "cell_type": "markdown",
   "metadata": {},
   "source": [
    "`data['url_chinese_present']` nunique = 1 (drop 필요)\n",
    "\n",
    "`data[\"html_num_tags('applet')\"]` nunique = 1"
   ]
  },
  {
   "cell_type": "markdown",
   "metadata": {},
   "source": [
    "url_domain_len == url_host_len"
   ]
  },
  {
   "cell_type": "markdown",
   "metadata": {},
   "source": [
    "결측치 하나 존재"
   ]
  },
  {
   "cell_type": "markdown",
   "metadata": {},
   "source": [
    "## <b>Q2. 데이터 이변량 분석하기\n",
    "\n",
    "* 자료의 종류에 맞게 X --> Y 에 대해서 그래프(시각화)와 가설검정(수치화)를 수행하고 결과를 평가합니다.\n",
    "* 가설검정시 다음의 항목을 참조하여 수행합니다.\n",
    "    * 적절한 유의수준\n",
    "    * 숫자 --> 숫자 : 상관분석\n",
    "    * 범주 --> 범주 : 카이제곱검정\n",
    "    * 범주 --> 숫자 : t검정, 분산분석\n",
    "    * 숫자 --> 범주 : 로지스틱 회귀모형을 통해, 회귀계수의 P.value로 검정을 수행합니다."
   ]
  },
  {
   "cell_type": "markdown",
   "metadata": {},
   "source": []
  },
  {
   "cell_type": "markdown",
   "metadata": {},
   "source": []
  },
  {
   "cell_type": "markdown",
   "metadata": {},
   "source": []
  },
  {
   "cell_type": "markdown",
   "metadata": {},
   "source": [
    "# <b>Step 2. 데이터 전처리\n",
    "---"
   ]
  },
  {
   "cell_type": "markdown",
   "metadata": {},
   "source": [
    "## <b>Q3. 중복 데이터 제거\n",
    "### 우리가 접속하는 대부분의 웹사이트는 정상 사이트입니다.\n",
    "### 또한, 특정 몇 개 사이트(ex. google, instagram, facebook 등)에 접속 빈도가 높습니다.\n",
    "### 편중된 데이터는 모델 학습에 안 좋은 영향을 주기 때문에 중복 데이터 제거를 통해 해결합니다.\n",
    "### 이 과정은 데이터 전처리 시 반드시 해야 하는 과정은 아니며, 프로젝트/데이터 성격에 맞게 결정하시면 됩니다."
   ]
  },
  {
   "cell_type": "markdown",
   "metadata": {},
   "source": [
    "### <span style=\"color:pink\">[문제1] df info()를 통해 데이터를 확인하고 중복된 데이터는 삭제해주세요. 삭제 후 info()를 통해 이전 데이터와 비교해 보세요.<span>"
   ]
  },
  {
   "cell_type": "code",
   "execution_count": 21,
   "metadata": {},
   "outputs": [
    {
     "data": {
      "text/plain": [
       "Index(['url_len', 'url_num_hyphens_dom', 'url_path_len', 'url_domain_len',\n",
       "       'url_hostname_len', 'url_num_dots', 'url_num_underscores',\n",
       "       'url_query_len', 'url_num_query_para', 'url_ip_present', 'url_entropy',\n",
       "       'url_chinese_present', 'url_port', 'html_num_tags('iframe')',\n",
       "       'html_num_tags('script')', 'html_num_tags('embed')',\n",
       "       'html_num_tags('object')', 'html_num_tags('div')',\n",
       "       'html_num_tags('head')', 'html_num_tags('body')',\n",
       "       'html_num_tags('form')', 'html_num_tags('a')',\n",
       "       'html_num_tags('applet')', 'label'],\n",
       "      dtype='object')"
      ]
     },
     "execution_count": 21,
     "metadata": {},
     "output_type": "execute_result"
    }
   ],
   "source": [
    "# 데이터 프레임의 info를 확인합니다.\n",
    "data.columns"
   ]
  },
  {
   "cell_type": "code",
   "execution_count": 29,
   "metadata": {},
   "outputs": [],
   "source": [
    "# 중복 데이터 제거를 제거합니다.\n",
    "##### 추가적으로 쓸모 없는 데이터 제거 했음\n",
    "data = data.drop(['url_chinese_present',\"html_num_tags('applet')\",'url_hostname_len'],axis=1)"
   ]
  },
  {
   "cell_type": "code",
   "execution_count": 60,
   "metadata": {},
   "outputs": [
    {
     "name": "stdout",
     "output_type": "stream",
     "text": [
      "<class 'pandas.core.frame.DataFrame'>\n",
      "Int64Index: 3662 entries, 0 to 3663\n",
      "Data columns (total 21 columns):\n",
      " #   Column                   Non-Null Count  Dtype  \n",
      "---  ------                   --------------  -----  \n",
      " 0   url_len                  3662 non-null   float64\n",
      " 1   url_num_hyphens_dom      3662 non-null   float64\n",
      " 2   url_path_len             3662 non-null   float64\n",
      " 3   url_domain_len           3662 non-null   float64\n",
      " 4   url_num_dots             3662 non-null   float64\n",
      " 5   url_num_underscores      3662 non-null   float64\n",
      " 6   url_query_len            3662 non-null   float64\n",
      " 7   url_num_query_para       3662 non-null   float64\n",
      " 8   url_ip_present           3662 non-null   float64\n",
      " 9   url_entropy              3662 non-null   float64\n",
      " 10  url_port                 3662 non-null   float64\n",
      " 11  html_num_tags('iframe')  3662 non-null   float64\n",
      " 12  html_num_tags('script')  3662 non-null   float64\n",
      " 13  html_num_tags('embed')   3662 non-null   float64\n",
      " 14  html_num_tags('object')  3662 non-null   float64\n",
      " 15  html_num_tags('div')     3662 non-null   float64\n",
      " 16  html_num_tags('head')    3662 non-null   float64\n",
      " 17  html_num_tags('body')    3662 non-null   float64\n",
      " 18  html_num_tags('form')    3662 non-null   float64\n",
      " 19  html_num_tags('a')       3662 non-null   float64\n",
      " 20  label                    3662 non-null   object \n",
      "dtypes: float64(20), object(1)\n",
      "memory usage: 629.4+ KB\n"
     ]
    }
   ],
   "source": [
    "# 데이터 프레임의 info를 확인합니다.\n",
    "data.info()"
   ]
  },
  {
   "cell_type": "markdown",
   "metadata": {},
   "source": [
    "---"
   ]
  },
  {
   "cell_type": "markdown",
   "metadata": {},
   "source": [
    "## <b>Q4. 텍스트와 범주형 특성 처리\n",
    "\n",
    "### 기계가 데이터를 인식할 수 있도록 텍스트 데이터를 수치형 데이터로 변경합니다.\n",
    " - replace() 함수를 이용한 텍스트와 범주형 특성 처리"
   ]
  },
  {
   "cell_type": "markdown",
   "metadata": {},
   "source": [
    "**<span style=\"color:green\">[참고링크] 공식 Document**</span>\n",
    "\n",
    "* [replace](https://pandas.pydata.org/pandas-docs/stable/reference/api/pandas.DataFrame.replace.html)\n",
    "* [unique](https://pandas.pydata.org/pandas-docs/stable/reference/api/pandas.unique.html)"
   ]
  },
  {
   "cell_type": "markdown",
   "metadata": {},
   "source": [
    "### <span style=\"color:cyan\">[예시] df_ex 데이터 프레임에서 replace 함수를 활용 'CA'는'California'로 'NY'는 'NewYork'으로 변경합니다.<span>"
   ]
  },
  {
   "cell_type": "code",
   "execution_count": 1,
   "metadata": {},
   "outputs": [
    {
     "name": "stdout",
     "output_type": "stream",
     "text": [
      "      name  age state  point\n",
      "0    Alice   24    NY     64\n",
      "1      Bob   42    CA     24\n",
      "2  Charlie   18    CA     70\n",
      "3     Dave   68    TX     70\n",
      "4    Ellen   24    CA     88\n",
      "5    Frank   30    NY     57\n"
     ]
    }
   ],
   "source": [
    "import pandas as pd\n",
    "\n",
    "df_ex = pd.DataFrame({'name': ['Alice','Bob','Charlie','Dave','Ellen','Frank'],\n",
    "                   'age': [24,42,18,68,24,30],\n",
    "                   'state': ['NY','CA','CA','TX','CA','NY'],\n",
    "                   'point': [64,24,70,70,88,57]}\n",
    "                  )\n",
    "\n",
    "print(df_ex)"
   ]
  },
  {
   "cell_type": "markdown",
   "metadata": {},
   "source": [
    "### <span style=\"color:pink\">[문제2] series.copy()를 이용하여 'label' column의 데이터를 'label_binary' column으로 복사해보세요.<span>"
   ]
  },
  {
   "cell_type": "code",
   "execution_count": 70,
   "metadata": {},
   "outputs": [],
   "source": [
    "# series.copy() 로 복사하여 새로운 컬럼을 생성합니다.\n",
    "data['label_binary'] = data['label'].copy()"
   ]
  },
  {
   "cell_type": "code",
   "execution_count": 71,
   "metadata": {},
   "outputs": [
    {
     "data": {
      "text/html": [
       "<div>\n",
       "<style scoped>\n",
       "    .dataframe tbody tr th:only-of-type {\n",
       "        vertical-align: middle;\n",
       "    }\n",
       "\n",
       "    .dataframe tbody tr th {\n",
       "        vertical-align: top;\n",
       "    }\n",
       "\n",
       "    .dataframe thead th {\n",
       "        text-align: right;\n",
       "    }\n",
       "</style>\n",
       "<table border=\"1\" class=\"dataframe\">\n",
       "  <thead>\n",
       "    <tr style=\"text-align: right;\">\n",
       "      <th></th>\n",
       "      <th>url_len</th>\n",
       "      <th>url_num_hyphens_dom</th>\n",
       "      <th>url_path_len</th>\n",
       "      <th>url_domain_len</th>\n",
       "      <th>url_num_dots</th>\n",
       "      <th>url_num_underscores</th>\n",
       "      <th>url_query_len</th>\n",
       "      <th>url_num_query_para</th>\n",
       "      <th>url_ip_present</th>\n",
       "      <th>url_entropy</th>\n",
       "      <th>...</th>\n",
       "      <th>html_num_tags('script')</th>\n",
       "      <th>html_num_tags('embed')</th>\n",
       "      <th>html_num_tags('object')</th>\n",
       "      <th>html_num_tags('div')</th>\n",
       "      <th>html_num_tags('head')</th>\n",
       "      <th>html_num_tags('body')</th>\n",
       "      <th>html_num_tags('form')</th>\n",
       "      <th>html_num_tags('a')</th>\n",
       "      <th>label</th>\n",
       "      <th>label_binary</th>\n",
       "    </tr>\n",
       "  </thead>\n",
       "  <tbody>\n",
       "    <tr>\n",
       "      <th>3663</th>\n",
       "      <td>18.0</td>\n",
       "      <td>0.0</td>\n",
       "      <td>0.0</td>\n",
       "      <td>18.0</td>\n",
       "      <td>2.0</td>\n",
       "      <td>0.0</td>\n",
       "      <td>0.0</td>\n",
       "      <td>0.0</td>\n",
       "      <td>0.0</td>\n",
       "      <td>3.619471</td>\n",
       "      <td>...</td>\n",
       "      <td>3.0</td>\n",
       "      <td>0.0</td>\n",
       "      <td>0.0</td>\n",
       "      <td>282.0</td>\n",
       "      <td>1.0</td>\n",
       "      <td>1.0</td>\n",
       "      <td>2.0</td>\n",
       "      <td>46.0</td>\n",
       "      <td>0</td>\n",
       "      <td>0</td>\n",
       "    </tr>\n",
       "  </tbody>\n",
       "</table>\n",
       "<p>1 rows × 22 columns</p>\n",
       "</div>"
      ],
      "text/plain": [
       "      url_len  url_num_hyphens_dom  url_path_len  url_domain_len  \\\n",
       "3663     18.0                  0.0           0.0            18.0   \n",
       "\n",
       "      url_num_dots  url_num_underscores  url_query_len  url_num_query_para  \\\n",
       "3663           2.0                  0.0            0.0                 0.0   \n",
       "\n",
       "      url_ip_present  url_entropy  ...  html_num_tags('script')  \\\n",
       "3663             0.0     3.619471  ...                      3.0   \n",
       "\n",
       "      html_num_tags('embed')  html_num_tags('object')  html_num_tags('div')  \\\n",
       "3663                     0.0                      0.0                 282.0   \n",
       "\n",
       "      html_num_tags('head')  html_num_tags('body')  html_num_tags('form')  \\\n",
       "3663                    1.0                    1.0                    2.0   \n",
       "\n",
       "      html_num_tags('a')  label  label_binary  \n",
       "3663                46.0      0             0  \n",
       "\n",
       "[1 rows x 22 columns]"
      ]
     },
     "execution_count": 71,
     "metadata": {},
     "output_type": "execute_result"
    }
   ],
   "source": [
    "data.tail(1)"
   ]
  },
  {
   "cell_type": "markdown",
   "metadata": {},
   "source": [
    "### <span style=\"color:pink\">[문제3] replace() 함수를 활용하여 'label_binary'의 'benign'은 0으로 'malicious'은 1로 변경해주세요. <br><br> 'label'과 데이터를 비교해 보세요.<span>"
   ]
  },
  {
   "cell_type": "code",
   "execution_count": 66,
   "metadata": {},
   "outputs": [
    {
     "data": {
      "text/plain": [
       "array(['malicious', 'benign'], dtype=object)"
      ]
     },
     "execution_count": 66,
     "metadata": {},
     "output_type": "execute_result"
    }
   ],
   "source": [
    "data['label_binary'].unique()"
   ]
  },
  {
   "cell_type": "code",
   "execution_count": 68,
   "metadata": {},
   "outputs": [],
   "source": [
    "d_labels={'malicious':1, 'benign':0}\n",
    "data['label_binary'] = data['label_binary'].replace(d_labels)"
   ]
  },
  {
   "cell_type": "code",
   "execution_count": 69,
   "metadata": {},
   "outputs": [
    {
     "data": {
      "text/plain": [
       "array([1, 0], dtype=int64)"
      ]
     },
     "execution_count": 69,
     "metadata": {},
     "output_type": "execute_result"
    }
   ],
   "source": [
    "# 텍스트 데이터를 수치형 데이터로 후 unique() 함수를 통해 유일한 값 확인\n",
    "data['label_binary'].unique()"
   ]
  },
  {
   "cell_type": "markdown",
   "metadata": {},
   "source": [
    "---"
   ]
  },
  {
   "cell_type": "markdown",
   "metadata": {},
   "source": [
    "## <b>Q5. 결측치 처리\n",
    "\n",
    "### 데이터 수집 과정에서 발생한 오류 등으로 인해 결측치가 포함된 경우가 많습니다.\n",
    "### 모델링 전에 결측치를 확인하고 이를 정제하는 과정은 필요합니다."
   ]
  },
  {
   "cell_type": "markdown",
   "metadata": {},
   "source": [
    "### <span style=\"color:pink\">[문제4] 결측치의 존재를 확인하고 결측치가 포함된 데이터를 처리해보세요.<span>"
   ]
  },
  {
   "cell_type": "code",
   "execution_count": 76,
   "metadata": {},
   "outputs": [
    {
     "name": "stdout",
     "output_type": "stream",
     "text": [
      "<class 'pandas.core.frame.DataFrame'>\n",
      "Int64Index: 3662 entries, 0 to 3663\n",
      "Data columns (total 22 columns):\n",
      " #   Column                   Non-Null Count  Dtype  \n",
      "---  ------                   --------------  -----  \n",
      " 0   url_len                  3662 non-null   float64\n",
      " 1   url_num_hyphens_dom      3662 non-null   float64\n",
      " 2   url_path_len             3662 non-null   float64\n",
      " 3   url_domain_len           3662 non-null   float64\n",
      " 4   url_num_dots             3662 non-null   float64\n",
      " 5   url_num_underscores      3662 non-null   float64\n",
      " 6   url_query_len            3662 non-null   float64\n",
      " 7   url_num_query_para       3662 non-null   float64\n",
      " 8   url_ip_present           3662 non-null   float64\n",
      " 9   url_entropy              3662 non-null   float64\n",
      " 10  url_port                 3662 non-null   float64\n",
      " 11  html_num_tags('iframe')  3662 non-null   float64\n",
      " 12  html_num_tags('script')  3662 non-null   float64\n",
      " 13  html_num_tags('embed')   3662 non-null   float64\n",
      " 14  html_num_tags('object')  3662 non-null   float64\n",
      " 15  html_num_tags('div')     3662 non-null   float64\n",
      " 16  html_num_tags('head')    3662 non-null   float64\n",
      " 17  html_num_tags('body')    3662 non-null   float64\n",
      " 18  html_num_tags('form')    3662 non-null   float64\n",
      " 19  html_num_tags('a')       3662 non-null   float64\n",
      " 20  label                    3662 non-null   int64  \n",
      " 21  label_binary             3662 non-null   int64  \n",
      "dtypes: float64(20), int64(2)\n",
      "memory usage: 658.0 KB\n"
     ]
    }
   ],
   "source": [
    "# 결축치의 존재를 확인합니다.\n",
    "data.info()"
   ]
  },
  {
   "cell_type": "code",
   "execution_count": 57,
   "metadata": {},
   "outputs": [],
   "source": [
    "def find_na(cols):\n",
    "    return data.loc[data[cols].isna()].index[0]\n",
    "nan_rows = [find_na('url_path_len'), find_na('url_domain_len')]"
   ]
  },
  {
   "cell_type": "code",
   "execution_count": 59,
   "metadata": {},
   "outputs": [],
   "source": [
    "##### 결측치 처리\n",
    "data = data.drop(nan_rows,axis=0)"
   ]
  },
  {
   "cell_type": "code",
   "execution_count": 2,
   "metadata": {},
   "outputs": [],
   "source": [
    "# 결축치의 존재를 확인합니다.\n",
    "data.info()"
   ]
  },
  {
   "cell_type": "markdown",
   "metadata": {},
   "source": [
    "---"
   ]
  },
  {
   "cell_type": "markdown",
   "metadata": {},
   "source": [
    "## <b>Q6. 데이터 탐색을 통해 새로운 변수 추가 혹은 불필요한 변수 제거\n",
    "\n",
    "### AI모델의 성능 향상을 위해 기존의 변수를 조합해 새로운 변수를 만들어 내기도 하고\n",
    "### 데이터 분석을 통해 필요없는 변수는 삭제하는 과정이 필요 합니다."
   ]
  },
  {
   "cell_type": "markdown",
   "metadata": {},
   "source": [
    "### <span style=\"color:pink\">[문제5] 상관관계 함수 및 데이터 시각화 등을 활용하며 데이터셋을 분석하고 컬럼을 추가/삭제 해보세요.<span>"
   ]
  },
  {
   "cell_type": "code",
   "execution_count": null,
   "metadata": {},
   "outputs": [],
   "source": []
  },
  {
   "cell_type": "markdown",
   "metadata": {},
   "source": [
    "---"
   ]
  },
  {
   "cell_type": "markdown",
   "metadata": {},
   "source": [
    "## <b>Q7. train_test_split을 이용하여, train_x, test_x, train_y, test_y로 데이터 분리\n",
    "\n",
    "### 모델을 학습하는 데에는 Train 데이터만 사용해야 합니다.\n",
    "### 학습에 사용하지 않은 데이터를 통해 모델을 평가해야 합니다.\n",
    "### 그러기 위해 Train / Test 데이터로 분리합니다.\n"
   ]
  },
  {
   "cell_type": "markdown",
   "metadata": {},
   "source": [
    "**<span style=\"color:green\">[참고링크] 공식 Document**</span>\n",
    "\n",
    "* train_test_split(https://scikit-learn.org/stable/modules/generated/sklearn.model_selection.train_test_split.html)"
   ]
  },
  {
   "cell_type": "markdown",
   "metadata": {},
   "source": [
    "### <span style=\"color:pink\">[문제6] train_test_split 함수를 사용하여 train 데이터와 test 데이터를 분리하고 각각의 shape를 확인하세요<span>"
   ]
  },
  {
   "cell_type": "code",
   "execution_count": null,
   "metadata": {},
   "outputs": [],
   "source": []
  }
 ],
 "metadata": {
  "kernelspec": {
   "display_name": "Python 3.7.16",
   "language": "python",
   "name": "python3"
  },
  "language_info": {
   "codemirror_mode": {
    "name": "ipython",
    "version": 3
   },
   "file_extension": ".py",
   "mimetype": "text/x-python",
   "name": "python",
   "nbconvert_exporter": "python",
   "pygments_lexer": "ipython3",
   "version": "3.7.16"
  },
  "vscode": {
   "interpreter": {
    "hash": "d2134deeb031d3043ee0562711738d1225b978d11603940a3a342e52f3e23eb6"
   }
  }
 },
 "nbformat": 4,
 "nbformat_minor": 4
}
